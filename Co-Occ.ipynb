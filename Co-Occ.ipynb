{
 "cells": [
  {
   "cell_type": "code",
   "execution_count": 1,
   "metadata": {},
   "outputs": [],
   "source": [
    "import pandas as pd\n",
    "import numpy as np\n",
    "import networkx as nx\n",
    "import scipy.io\n",
    "import random\n",
    "from collections import defaultdict\n",
    "import math\n",
    "import re\n",
    "import matplotlib.pyplot as plt\n",
    "from sklearn import preprocessing, linear_model\n",
    "from sklearn.metrics import precision_score, recall_score\n",
    "import sklearn\n",
    "import torch\n",
    "import torch.nn as nn\n",
    "import torch.nn.functional as F"
   ]
  },
  {
   "cell_type": "code",
   "execution_count": 3,
   "metadata": {},
   "outputs": [],
   "source": [
    "co_occ_X = np.load('Generated_Data/co-occ/co_occ_X.npy')\n",
    "co_occ_y = np.load('Generated_Data/co-occ/co_occ_y.npy')"
   ]
  },
  {
   "cell_type": "code",
   "execution_count": 28,
   "metadata": {},
   "outputs": [],
   "source": [
    "total_size = len(co_occ_X)\n",
    "train_size = int(total_size*0.8)\n",
    "val_size = int(total_size*0.1)\n",
    "\n",
    "tr = sorted(random.sample(list(range(total_size)),train_size))\n",
    "val = sorted(random.sample(list(set(range(total_size)).difference(set(tr))),val_size))\n",
    "te = sorted(list(set(range(total_size)).difference(set(tr)).difference(set(val))))"
   ]
  },
  {
   "cell_type": "markdown",
   "metadata": {},
   "source": [
    "### Baseline 1: get one-hot vectors of reactions for two bacteria, and feed into linear regression\n",
    "- cannot generalize to unseen reactions\n",
    "- misses on average by 3.5 points"
   ]
  },
  {
   "cell_type": "code",
   "execution_count": 29,
   "metadata": {},
   "outputs": [],
   "source": [
    "train_x = co_occ_X[tr]\n",
    "train_y = co_occ_y[tr]\n",
    "val_x = co_occ_X[val]\n",
    "val_y = co_occ_y[val]\n",
    "test_x = co_occ_X[te]\n",
    "test_y = co_occ_y[te]\n",
    "\n",
    "train_y_binary = [0 if y <= 0 else 1 for y in train_y]\n",
    "val_y_binary = [0 if y <= 0 else 1 for y in val_y]\n",
    "test_y_binary = [0 if y <= 0 else 1 for y in test_y]"
   ]
  },
  {
   "cell_type": "code",
   "execution_count": 30,
   "metadata": {},
   "outputs": [
    {
     "name": "stdout",
     "output_type": "stream",
     "text": [
      "Linear Regression Training MSE: 1.7317621415448224e-26\n"
     ]
    }
   ],
   "source": [
    "lr = linear_model.LinearRegression()\n",
    "\n",
    "lr.fit(train_x,train_y)\n",
    "print('Linear Regression Training MSE: '+str(sklearn.metrics.mean_squared_error(lr.predict(train_x),train_y)))"
   ]
  },
  {
   "cell_type": "code",
   "execution_count": 31,
   "metadata": {},
   "outputs": [
    {
     "name": "stdout",
     "output_type": "stream",
     "text": [
      "-0.0022031301061383947\n",
      "0.11055990267786438\n"
     ]
    }
   ],
   "source": [
    "print(np.mean(lr.coef_))\n",
    "print(np.std(lr.coef_))"
   ]
  },
  {
   "cell_type": "markdown",
   "metadata": {},
   "source": [
    "No wild overfitting"
   ]
  },
  {
   "cell_type": "code",
   "execution_count": 32,
   "metadata": {},
   "outputs": [
    {
     "name": "stdout",
     "output_type": "stream",
     "text": [
      "Linear Regression Test MSE: 9.39087770089048\n",
      "Linear Regression (Semi)Binary Train Performance: Precision: 1.0, Recall: 1.0\n",
      "Linear Regression (Semi)Binary Test Performance: Precision: 0.6666666666666666, Recall: 0.46153846153846156\n"
     ]
    }
   ],
   "source": [
    "test_preds = lr.predict(test_x)\n",
    "test_preds_binary = [0 if pred <= 0 else 1 for pred in test_preds]\n",
    "train_preds = lr.predict(train_x)\n",
    "train_preds_binary = [0 if pred <= 0 else 1 for pred in train_preds]\n",
    "\n",
    "print('Linear Regression Test MSE: '+str(sklearn.metrics.mean_squared_error(test_preds,test_y)))\n",
    "print('Linear Regression (Semi)Binary Train Performance: Precision: '+\n",
    "      str(precision_score(train_y_binary,train_preds_binary))+', Recall: '+\n",
    "      str(recall_score(train_y_binary,train_preds_binary)))\n",
    "print('Linear Regression (Semi)Binary Test Performance: Precision: '+\n",
    "      str(precision_score(test_y_binary,test_preds_binary))+', Recall: '+\n",
    "      str(recall_score(test_y_binary,test_preds_binary)))"
   ]
  },
  {
   "cell_type": "markdown",
   "metadata": {},
   "source": [
    "### LASSO"
   ]
  },
  {
   "cell_type": "code",
   "execution_count": 33,
   "metadata": {},
   "outputs": [
    {
     "name": "stdout",
     "output_type": "stream",
     "text": [
      "LASSO Regression Training MSE: 5.119837779220445\n"
     ]
    }
   ],
   "source": [
    "lr = linear_model.Lasso(alpha=0.1)\n",
    "\n",
    "lr.fit(train_x,train_y)\n",
    "print('LASSO Regression Training MSE: '+str(sklearn.metrics.mean_squared_error(lr.predict(train_x),train_y)))"
   ]
  },
  {
   "cell_type": "code",
   "execution_count": 34,
   "metadata": {},
   "outputs": [
    {
     "name": "stdout",
     "output_type": "stream",
     "text": [
      "-0.0009054004811609957\n",
      "0.01983854173589269\n"
     ]
    }
   ],
   "source": [
    "print(np.mean(lr.coef_))\n",
    "print(np.std(lr.coef_))"
   ]
  },
  {
   "cell_type": "markdown",
   "metadata": {},
   "source": [
    "No wild overfitting"
   ]
  },
  {
   "cell_type": "code",
   "execution_count": 35,
   "metadata": {},
   "outputs": [
    {
     "name": "stdout",
     "output_type": "stream",
     "text": [
      "LASSO Test MSE: 6.213209246087393\n",
      "LASSO (Semi)Binary Train Performance: Precision: 0.8068965517241379, Recall: 0.6685714285714286\n",
      "LASSO (Semi)Binary Test Performance: Precision: 0.6842105263157895, Recall: 0.5\n"
     ]
    }
   ],
   "source": [
    "test_preds = lr.predict(test_x)\n",
    "test_preds_binary = [0 if pred <= 0 else 1 for pred in test_preds]\n",
    "train_preds = lr.predict(train_x)\n",
    "train_preds_binary = [0 if pred <= 0 else 1 for pred in train_preds]\n",
    "\n",
    "print('LASSO Test MSE: '+str(sklearn.metrics.mean_squared_error(test_preds,test_y)))\n",
    "print('LASSO (Semi)Binary Train Performance: Precision: '+\n",
    "      str(precision_score(train_y_binary,train_preds_binary))+', Recall: '+\n",
    "      str(recall_score(train_y_binary,train_preds_binary)))\n",
    "print('LASSO (Semi)Binary Test Performance: Precision: '+\n",
    "      str(precision_score(test_y_binary,test_preds_binary))+', Recall: '+\n",
    "      str(recall_score(test_y_binary,test_preds_binary)))"
   ]
  },
  {
   "cell_type": "markdown",
   "metadata": {},
   "source": [
    "### Baseline 2: get one-hot vectors of reactions for two bacteria, and feed into logistic regression (with binary target variable)"
   ]
  },
  {
   "cell_type": "code",
   "execution_count": 40,
   "metadata": {},
   "outputs": [],
   "source": [
    "class LogisticRegression(nn.Module):\n",
    "    def __init__(self,input_dim):\n",
    "        super(LogisticRegression, self).__init__()\n",
    "        self.linear = nn.Linear(input_dim,1)\n",
    "\n",
    "    def forward(self, x):\n",
    "        #x = torch.sigmoid(self.linear(x))\n",
    "        x = self.linear(x)\n",
    "        return x\n",
    "\n",
    "LogReg = LogisticRegression(len(co_occ_X[0]))\n",
    "\n",
    "criterion = nn.BCEWithLogitsLoss(pos_weight=torch.Tensor([(1-np.mean(train_y_binary))/np.mean(train_y_binary)]))\n",
    "optimizer = torch.optim.Adam(LogReg.parameters())\n",
    "\n",
    "epochs = 50"
   ]
  },
  {
   "cell_type": "code",
   "execution_count": 41,
   "metadata": {},
   "outputs": [
    {
     "name": "stdout",
     "output_type": "stream",
     "text": [
      "Epoch 0, loss: 1.2105110714927088\n",
      "Train Performance: Precision: 0.6170212765957447, Recall: 0.6628571428571428\n",
      "Test Performance: Precision: 0.5555555555555556, Recall: 0.5\n",
      "Epoch 5, loss: 0.841094520574519\n",
      "Train Performance: Precision: 0.7348484848484849, Recall: 0.5542857142857143\n",
      "Test Performance: Precision: 0.8333333333333334, Recall: 0.5\n",
      "Epoch 10, loss: 0.7020623241050998\n",
      "Train Performance: Precision: 0.78125, Recall: 0.5714285714285714\n",
      "Test Performance: Precision: 0.75, Recall: 0.45\n",
      "Epoch 15, loss: 0.5779075294503855\n",
      "Train Performance: Precision: 0.795774647887324, Recall: 0.6457142857142857\n",
      "Test Performance: Precision: 0.75, Recall: 0.45\n",
      "Epoch 20, loss: 0.49995148042092874\n",
      "Train Performance: Precision: 0.8068965517241379, Recall: 0.6685714285714286\n",
      "Test Performance: Precision: 0.7142857142857143, Recall: 0.5\n",
      "Epoch 25, loss: 0.43037945421670804\n",
      "Train Performance: Precision: 0.8391608391608392, Recall: 0.6857142857142857\n",
      "Test Performance: Precision: 0.6923076923076923, Recall: 0.45\n",
      "Epoch 30, loss: 0.3652465420130708\n",
      "Train Performance: Precision: 0.8531468531468531, Recall: 0.6971428571428572\n",
      "Test Performance: Precision: 0.75, Recall: 0.45\n",
      "Epoch 35, loss: 0.3029537638971117\n",
      "Train Performance: Precision: 0.8427672955974843, Recall: 0.7657142857142857\n",
      "Test Performance: Precision: 0.7333333333333333, Recall: 0.55\n",
      "Epoch 40, loss: 0.24302185724375586\n",
      "Train Performance: Precision: 0.8314606741573034, Recall: 0.8457142857142858\n",
      "Test Performance: Precision: 0.5454545454545454, Recall: 0.6\n",
      "Epoch 45, loss: 0.21062273434162163\n",
      "Train Performance: Precision: 0.7857142857142857, Recall: 0.9428571428571428\n",
      "Test Performance: Precision: 0.5769230769230769, Recall: 0.75\n"
     ]
    }
   ],
   "source": [
    "for i in range(epochs):\n",
    "    curr_loss = 0\n",
    "    for k in range(len(train_x)):\n",
    "        X = torch.Tensor(train_x[k])\n",
    "        y = torch.Tensor([train_y_binary[k]])\n",
    "        \n",
    "        optimizer.zero_grad()\n",
    "        \n",
    "        output = LogReg(X)\n",
    "        loss = criterion(output,y)\n",
    "        loss.backward()\n",
    "        optimizer.step()\n",
    "        \n",
    "        curr_loss += loss.item()\n",
    "        \n",
    "    if i%5!=0:\n",
    "        continue\n",
    "        \n",
    "    print('Epoch '+str(i)+', loss: '+ str(curr_loss/len(train_x)))\n",
    "        \n",
    "    with torch.no_grad():\n",
    "        train_output = np.transpose(LogReg(torch.Tensor(train_x)))[0] >= 0\n",
    "        val_output = np.transpose(LogReg(torch.Tensor(val_x)))[0] >= 0\n",
    "        print('Train Performance: Precision: '+\n",
    "            str(precision_score(train_y_binary,train_output))+', Recall: '+\n",
    "            str(recall_score(train_y_binary,train_output)))\n",
    "        print('Test Performance: Precision: '+\n",
    "            str(precision_score(val_y_binary,val_output))+', Recall: '+\n",
    "            str(recall_score(val_y_binary,val_output)))"
   ]
  },
  {
   "cell_type": "code",
   "execution_count": 42,
   "metadata": {},
   "outputs": [
    {
     "name": "stdout",
     "output_type": "stream",
     "text": [
      "Test Performance: Precision: 0.5925925925925926, Recall: 0.6153846153846154\n"
     ]
    }
   ],
   "source": [
    "with torch.no_grad():\n",
    "    test_output = np.transpose(LogReg(torch.Tensor(test_x)))[0] >= 0\n",
    "    print('Test Performance: Precision: '+\n",
    "        str(precision_score(test_y_binary,test_output))+', Recall: '+\n",
    "        str(recall_score(test_y_binary,test_output)))"
   ]
  },
  {
   "cell_type": "markdown",
   "metadata": {},
   "source": [
    "### Baseline 3: get indicator vectors of reactions for two bacteria, and feed into simple neural network"
   ]
  },
  {
   "cell_type": "code",
   "execution_count": 61,
   "metadata": {},
   "outputs": [],
   "source": [
    "# class NeuralNet(nn.Module):\n",
    "#     def __init__(self,input_dim,p=0.2):\n",
    "#         super(NeuralNet, self).__init__()\n",
    "#         self.fc1 = nn.Linear(input_dim,256)\n",
    "#         self.fc2 = nn.Linear(256,512)\n",
    "#         self.fc3 = nn.Linear(512,128)\n",
    "#         self.fc4 = nn.Linear(128,1)\n",
    "#         self.dropout = nn.Dropout(p=p)\n",
    "\n",
    "#     def forward(self, x):\n",
    "#         x = F.relu(self.fc1(x))\n",
    "#         x = F.relu(self.fc2(x))\n",
    "#         x = F.relu(self.fc3(x))\n",
    "#         x = torch.sigmoid(self.fc4(x))\n",
    "#         return x\n",
    "\n",
    "# BasicNN = NeuralNet(len(co_occ_X[0]))\n",
    "\n",
    "BasicNN = nn.Sequential(\n",
    "    nn.Linear(len(co_occ_X[0]),512),\n",
    "    nn.ReLU(),\n",
    "    nn.Linear(512,128),\n",
    "    nn.ReLU(),\n",
    "    nn.Linear(128,1)\n",
    ")\n",
    "\n",
    "criterion = nn.BCEWithLogitsLoss()#pos_weight=torch.Tensor([(1-np.mean(train_y_binary))/np.mean(train_y_binary)]))\n",
    "optimizer = torch.optim.Adam(BasicNN.parameters(),lr=1e-4,weight_decay=0)\n",
    "\n",
    "epochs = 30"
   ]
  },
  {
   "cell_type": "code",
   "execution_count": 62,
   "metadata": {},
   "outputs": [
    {
     "name": "stdout",
     "output_type": "stream",
     "text": [
      "Epoch 0, loss: 0.694880732419816\n",
      "Train Performance: Precision: 0.4971590909090909, Recall: 1.0\n",
      "Val Performance: Precision: 0.45454545454545453, Recall: 1.0\n",
      "Epoch 5, loss: 0.6036328817929395\n",
      "Train Performance: Precision: 0.5324675324675324, Recall: 0.9371428571428572\n",
      "Val Performance: Precision: 0.47368421052631576, Recall: 0.9\n",
      "Epoch 10, loss: 0.4797525833022188\n",
      "Train Performance: Precision: 0.6374501992031872, Recall: 0.9142857142857143\n",
      "Val Performance: Precision: 0.53125, Recall: 0.85\n",
      "Epoch 15, loss: 0.35314291393065517\n",
      "Train Performance: Precision: 0.7417840375586855, Recall: 0.9028571428571428\n",
      "Val Performance: Precision: 0.6538461538461539, Recall: 0.85\n",
      "Epoch 20, loss: 0.2311702287237164\n",
      "Train Performance: Precision: 0.8097560975609757, Recall: 0.9485714285714286\n",
      "Val Performance: Precision: 0.6538461538461539, Recall: 0.85\n",
      "Epoch 25, loss: 0.13537563177314382\n",
      "Train Performance: Precision: 0.8434343434343434, Recall: 0.9542857142857143\n",
      "Val Performance: Precision: 0.6538461538461539, Recall: 0.85\n"
     ]
    }
   ],
   "source": [
    "for i in range(epochs):\n",
    "    curr_loss = 0\n",
    "    for k in range(len(train_x)):\n",
    "        X = torch.Tensor(train_x[k])\n",
    "        y = torch.Tensor([train_y_binary[k]])\n",
    "        \n",
    "        optimizer.zero_grad()\n",
    "        \n",
    "        output = BasicNN(X)\n",
    "        loss = criterion(output, y)\n",
    "        loss.backward()\n",
    "        optimizer.step()\n",
    "        \n",
    "        curr_loss += loss.item()\n",
    "        \n",
    "    if i%5!=0:\n",
    "        continue\n",
    "        \n",
    "    print('Epoch '+str(i)+', loss: '+ str(curr_loss/len(train_x)))\n",
    "        \n",
    "    with torch.no_grad():\n",
    "        train_output = np.transpose(BasicNN(torch.Tensor(train_x)))[0] \n",
    "        train_output = train_output >= 0\n",
    "        val_output = np.transpose(BasicNN(torch.Tensor(val_x)))[0] >= 0\n",
    "        print('Train Performance: Precision: '+\n",
    "            str(precision_score(train_y_binary,train_output))+', Recall: '+\n",
    "            str(recall_score(train_y_binary,train_output)))\n",
    "        print('Val Performance: Precision: '+\n",
    "            str(precision_score(val_y_binary,val_output))+', Recall: '+\n",
    "            str(recall_score(val_y_binary,val_output)))"
   ]
  },
  {
   "cell_type": "code",
   "execution_count": 63,
   "metadata": {},
   "outputs": [
    {
     "name": "stdout",
     "output_type": "stream",
     "text": [
      "Test Performance: Precision: 0.7307692307692307, Recall: 0.7307692307692307\n"
     ]
    }
   ],
   "source": [
    "with torch.no_grad():\n",
    "        test_output = np.transpose(BasicNN(torch.Tensor(test_x)))[0] >= 0\n",
    "        print('Test Performance: Precision: '+\n",
    "            str(precision_score(test_y_binary,test_output))+', Recall: '+\n",
    "            str(recall_score(test_y_binary,test_output)))"
   ]
  },
  {
   "cell_type": "code",
   "execution_count": null,
   "metadata": {},
   "outputs": [],
   "source": []
  }
 ],
 "metadata": {
  "kernelspec": {
   "display_name": "Python 3",
   "language": "python",
   "name": "python3"
  },
  "language_info": {
   "codemirror_mode": {
    "name": "ipython",
    "version": 3
   },
   "file_extension": ".py",
   "mimetype": "text/x-python",
   "name": "python",
   "nbconvert_exporter": "python",
   "pygments_lexer": "ipython3",
   "version": "3.6.9"
  }
 },
 "nbformat": 4,
 "nbformat_minor": 4
}
