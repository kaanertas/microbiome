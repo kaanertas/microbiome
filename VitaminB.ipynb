{
 "cells": [
  {
   "cell_type": "code",
   "execution_count": 3,
   "metadata": {},
   "outputs": [],
   "source": [
    "import pandas as pd\n",
    "import numpy as np\n",
    "import networkx as nx\n",
    "import scipy.io\n",
    "import random\n",
    "from collections import defaultdict\n",
    "import math\n",
    "import re\n",
    "import matplotlib.pyplot as plt\n",
    "from sklearn import preprocessing, linear_model, decomposition\n",
    "from sklearn.metrics import precision_score, recall_score\n",
    "import sklearn\n",
    "import torch\n",
    "import torch.nn as nn\n",
    "import torch.nn.functional as F"
   ]
  },
  {
   "cell_type": "code",
   "execution_count": 4,
   "metadata": {},
   "outputs": [],
   "source": [
    "vitb_mets_X = np.load('Generated_Data/vitb/vitb_mets_X.npy')\n",
    "vitb_rxns_X = np.load('Generated_Data/vitb/vitb_rxns_X.npy')\n",
    "vitb_y = np.load('Generated_Data/vitb/vitb_y.npy')\n",
    "\n",
    "vitb_rxn_list = np.load('Generated_Data/vitb/vitb_rxn_list.npy')\n",
    "vitb_met_list = np.load('Generated_Data/vitb/vitb_met_list.npy')"
   ]
  },
  {
   "cell_type": "code",
   "execution_count": 5,
   "metadata": {},
   "outputs": [
    {
     "data": {
      "text/plain": [
       "593"
      ]
     },
     "execution_count": 5,
     "metadata": {},
     "output_type": "execute_result"
    }
   ],
   "source": [
    "len(vitb_mets_X)"
   ]
  },
  {
   "cell_type": "code",
   "execution_count": 19,
   "metadata": {},
   "outputs": [],
   "source": [
    "vitb_types = ['Biotin','Cobalamin','Folate','Niacin','Pantothenate','Pyridoxin','Riboflavin','Thiamin']"
   ]
  },
  {
   "cell_type": "code",
   "execution_count": 20,
   "metadata": {},
   "outputs": [
    {
     "data": {
      "text/plain": [
       "array([0.33220911, 0.27655987, 0.65767285, 0.55311973, 0.75885329,\n",
       "       0.56492411, 0.67284992, 0.65261383])"
      ]
     },
     "execution_count": 20,
     "metadata": {},
     "output_type": "execute_result"
    }
   ],
   "source": [
    "np.mean(vitb_y,axis=0)"
   ]
  },
  {
   "cell_type": "code",
   "execution_count": 21,
   "metadata": {},
   "outputs": [],
   "source": [
    "total_size = len(vitb_mets_X)\n",
    "train_size = int(total_size*0.8)\n",
    "val_size = int(total_size*0.1)\n",
    "test_size = total_size - (train_size+val_size)\n",
    "\n",
    "tr = sorted(random.sample(list(range(total_size)),train_size))\n",
    "val_n_te = set(range(total_size)).difference(set(tr))\n",
    "val = sorted(list(random.sample(val_n_te,val_size)))\n",
    "te = sorted(list(val_n_te.difference(set(val))))"
   ]
  },
  {
   "cell_type": "code",
   "execution_count": 22,
   "metadata": {},
   "outputs": [],
   "source": [
    "rxn_train_x = vitb_rxns_X[tr]\n",
    "met_train_x = vitb_mets_X[tr]\n",
    "train_y = vitb_y[tr]\n",
    "\n",
    "rxn_val_x = vitb_rxns_X[val]\n",
    "met_val_x = vitb_mets_X[val]\n",
    "val_y = vitb_y[val]\n",
    "\n",
    "rxn_test_x = vitb_rxns_X[te]\n",
    "met_test_x = vitb_mets_X[te]\n",
    "test_y = vitb_y[te]"
   ]
  },
  {
   "cell_type": "markdown",
   "metadata": {},
   "source": [
    "# Vanilla Linear Regression"
   ]
  },
  {
   "cell_type": "markdown",
   "metadata": {},
   "source": [
    "### Reactions"
   ]
  },
  {
   "cell_type": "code",
   "execution_count": 23,
   "metadata": {},
   "outputs": [
    {
     "data": {
      "text/plain": [
       "5152"
      ]
     },
     "execution_count": 23,
     "metadata": {},
     "output_type": "execute_result"
    }
   ],
   "source": [
    "len(rxn_train_x[0])"
   ]
  },
  {
   "cell_type": "code",
   "execution_count": 24,
   "metadata": {},
   "outputs": [
    {
     "name": "stdout",
     "output_type": "stream",
     "text": [
      "Linear Regression Training MSE: 8.600758217437382e-30\n"
     ]
    }
   ],
   "source": [
    "lr = linear_model.LinearRegression()\n",
    "\n",
    "lr.fit(rxn_train_x,train_y)\n",
    "print('Linear Regression Training MSE: '+str(sklearn.metrics.mean_squared_error(lr.predict(rxn_train_x),train_y)))"
   ]
  },
  {
   "cell_type": "code",
   "execution_count": 25,
   "metadata": {},
   "outputs": [
    {
     "name": "stdout",
     "output_type": "stream",
     "text": [
      "0.00024389354265698761\n"
     ]
    },
    {
     "data": {
      "text/plain": [
       "0.007858434642494404"
      ]
     },
     "execution_count": 25,
     "metadata": {},
     "output_type": "execute_result"
    }
   ],
   "source": [
    "print(np.mean(lr.coef_))\n",
    "np.std(lr.coef_)"
   ]
  },
  {
   "cell_type": "code",
   "execution_count": 26,
   "metadata": {},
   "outputs": [
    {
     "name": "stdout",
     "output_type": "stream",
     "text": [
      "Linear Regression Test MSE: 0.06291621397268277\n",
      "Class 1:\n",
      "Train Precision: 1.0, Train Recall: 1.0\n",
      "Test Precision: 1.0, Test Recall: 1.0\n",
      "Class 2:\n",
      "Train Precision: 1.0, Train Recall: 1.0\n",
      "Test Precision: 0.9333333333333333, Test Recall: 0.8235294117647058\n",
      "Class 3:\n",
      "Train Precision: 1.0, Train Recall: 1.0\n",
      "Test Precision: 0.9761904761904762, Test Recall: 0.9534883720930233\n",
      "Class 4:\n",
      "Train Precision: 1.0, Train Recall: 1.0\n",
      "Test Precision: 0.9411764705882353, Test Recall: 0.9696969696969697\n",
      "Class 5:\n",
      "Train Precision: 1.0, Train Recall: 1.0\n",
      "Test Precision: 0.9534883720930233, Test Recall: 0.9318181818181818\n",
      "Class 6:\n",
      "Train Precision: 1.0, Train Recall: 1.0\n",
      "Test Precision: 0.8857142857142857, Test Recall: 0.9117647058823529\n",
      "Class 7:\n",
      "Train Precision: 1.0, Train Recall: 1.0\n",
      "Test Precision: 0.9444444444444444, Test Recall: 0.9444444444444444\n",
      "Class 8:\n",
      "Train Precision: 1.0, Train Recall: 1.0\n",
      "Test Precision: 0.9444444444444444, Test Recall: 0.918918918918919\n"
     ]
    }
   ],
   "source": [
    "test_preds = lr.predict(rxn_test_x)\n",
    "test_preds_binary = [[0 if p <= 0.5 else 1 for p in pred] for pred in test_preds]\n",
    "train_preds = lr.predict(rxn_train_x)\n",
    "train_preds_binary = [[0 if p <= 0.5 else 1 for p in pred] for pred in train_preds]\n",
    "\n",
    "print('Linear Regression Test MSE: '+str(sklearn.metrics.mean_squared_error(test_preds,test_y)))\n",
    "\n",
    "for i in range(8):\n",
    "    print('Class '+str(i+1)+':') \n",
    "    print('Train Precision: '+str(precision_score(np.transpose(train_preds_binary)[i],np.transpose(train_y)[i]))+\n",
    "          ', Train Recall: '+str(recall_score(np.transpose(train_preds_binary)[i],np.transpose(train_y)[i])))\n",
    "    print('Test Precision: '+str(precision_score(np.transpose(test_preds_binary)[i],np.transpose(test_y)[i]))+\n",
    "          ', Test Recall: '+str(recall_score(np.transpose(test_preds_binary)[i],np.transpose(test_y)[i])))"
   ]
  },
  {
   "cell_type": "code",
   "execution_count": 27,
   "metadata": {},
   "outputs": [
    {
     "name": "stdout",
     "output_type": "stream",
     "text": [
      "Vitamin: Biotin\n",
      "[('AOXSr2', 0.11559157272716641), ('AOXSr', 0.1019877804821487), ('CHCOAL', 0.09178265171395561), ('EX_pime(e)', 0.09178265171395561), ('PIMEtr', 0.09178265171395561), ('EACPR2', 0.07647370003327654), ('PMACPME', 0.05523100662254921), ('METS', -0.04840245569787614), ('PYNP2r', -0.04708694427600649), ('THMP', -0.04503631230703907)]\n",
      "Vitamin: Cobalamin\n",
      "[('PC6AR', 0.08593012890345726), ('CPC5MT2', 0.0774661340738408), ('R05224', 0.07490698589832454), ('PC6YM', 0.07099775749501779), ('APPLDH', 0.06729137733576222), ('sink_dmbzid', 0.06729137733576222), ('CPC2MT', 0.0629683910720294), ('CPC5MT1', 0.06212138342630658), ('CYRDAR', 0.05464966822718065), ('RE2124C', -0.05106031388652428)]\n",
      "Vitamin: Folate\n",
      "[('DHPS2', 0.12653950827565846), ('DHNPA2', 0.11367265642216604), ('HPPK2', 0.11118211721705666), ('DDPGALA', 0.08136762956095167), ('FOLD3', 0.06599301956139923), ('ADCL', 0.05788215174907867), ('ALATA_L', 0.054121607165828894), ('PMDPHT', 0.052894459666854785), ('DHPS', 0.05188080069128457), ('ADCS', 0.04487304055114037)]\n",
      "Vitamin: Niacin\n",
      "[('ASPO7', 0.1977690803965223), ('QULNS', 0.1502560587661764), ('ASPO1', 0.12232246868025466), ('ASPO6', 0.12232246868025466), ('ASPO5', 0.09266187740383955), ('NNDPR', 0.059940187405053746), ('EX_nmn(e)', -0.030065625992611658), ('EX_ncam(e)', -0.029615445916051936), ('GLNabc', 0.0291361691213397), ('CSNt6', 0.0281648204231401)]\n",
      "Vitamin: Pantothenate\n",
      "[('MOHMT', 0.09995783303058714), ('ASP1DC', 0.0861539446891829), ('PANTS', 0.0805279020948405), ('AHMMPS', -0.041263696296811134), ('FRUK', 0.0387435417083932), ('HSERTA', 0.03685191317148817), ('DM_4HBA', 0.036653742380826644), ('GART', -0.036613151201989234), ('CYRDAAT', -0.03332114093830775), ('G1PCT', -0.03318951875654404)]\n",
      "Vitamin: Pyridoxin\n",
      "[('PLPS', 0.20757959904156473), ('PYDAMtr', 0.11115963347695024), ('EX_pydam(e)', 0.0964708741071219), ('PYDXNtr', 0.08050161167093106), ('PDX5PS', 0.07390748558632887), ('EX_pydxn(e)', 0.06581755654478412), ('PYDXK', -0.05960991160298632), ('THRAi', -0.05539297018246394), ('AMPMS2', 0.0553762369235363), ('6PGALSZ2i', -0.04881111126832234)]\n",
      "Vitamin: Riboflavin\n",
      "[('RBFSa', 0.14689402814643623), ('RBFSb', 0.13586526893930087), ('APRAUR', 0.10197679721210527), ('DHPPDA', 0.07236207333360371), ('DHPPDA2', 0.06784969467502085), ('TRPTA', 0.0663616979876067), ('GTPCII2', 0.06478523179690913), ('PMDPHT', 0.06310713057606797), ('1P4H2CBXLAH', 0.056027684277935606), ('PERD', -0.05280636168338849)]\n",
      "Vitamin: Thiamin\n",
      "[('AMPMS2', 0.1928808616809458), ('TMPPP', 0.11556566348686485), ('TMN', -0.08433738877878735), ('DM_4HBA', 0.08202203363428813), ('PMPK', 0.063874602042019), ('HMPK1', 0.06331312336145889), ('TMK', -0.061397277215812465), ('SUCD1', 0.05627458414708398), ('AHMMPS', -0.05559474603379458), ('PERD', 0.050672484487618685)]\n"
     ]
    }
   ],
   "source": [
    "# find rxns with highest impact\n",
    "\n",
    "for i in range(8):\n",
    "    rxns_n_coefs = sorted(list(zip(vitb_rxn_list,lr.coef_[i])),key=lambda t: abs(t[1]),reverse=True)\n",
    "    top10 = rxns_n_coefs[:10]\n",
    "    print('Vitamin: ' +vitb_types[i])\n",
    "    print(top10)\n",
    "    for rxn in top10:\n",
    "        rxn_ind = list(vitb_rxn_list).index(rxn[0])\n",
    "        #print(all(rxn_train_x[:,rxn_ind]) or not any (rxn_train_x[:,rxn_ind]))"
   ]
  },
  {
   "cell_type": "markdown",
   "metadata": {},
   "source": [
    "For Biotin synthesis, AOXSr and AOXSr2 (KEGG ID: 2.3.1.47) and CHCOAL (6.2.1.14) are in the synthesis pathways.\n",
    "For Thiamin, TMK has high negative coefficient -> TMK (thiamine kinase) turns thiamine into thiamine monophosphate. DM_GCALD (sink to let glycol aldehyde out of system) has negative coeff because glycol aldehyde is part of the synthesis pathway.\n",
    "\n",
    "So we may say that this regression picks up the reactions in the synthesis pathways."
   ]
  },
  {
   "cell_type": "code",
   "execution_count": 28,
   "metadata": {},
   "outputs": [
    {
     "name": "stdout",
     "output_type": "stream",
     "text": [
      "178\n"
     ]
    },
    {
     "data": {
      "text/plain": [
       "array([[-1.15559781e-06, -4.51197954e-06,  5.55009141e-06, ...,\n",
       "         0.00000000e+00,  0.00000000e+00,  0.00000000e+00],\n",
       "       [-3.54813381e-08, -1.38535284e-07,  1.70409348e-07, ...,\n",
       "         0.00000000e+00,  0.00000000e+00,  0.00000000e+00],\n",
       "       [ 1.00641924e-07,  3.92951851e-07, -4.83361831e-07, ...,\n",
       "         0.00000000e+00,  0.00000000e+00,  0.00000000e+00],\n",
       "       ...,\n",
       "       [-4.91278400e-06, -1.91817435e-05,  2.35950604e-05, ...,\n",
       "         0.00000000e+00,  0.00000000e+00,  0.00000000e+00],\n",
       "       [-8.85051888e-06, -3.45564517e-05,  4.25071666e-05, ...,\n",
       "         0.00000000e+00,  0.00000000e+00,  0.00000000e+00],\n",
       "       [-3.11137308e-06, -1.21482159e-05,  1.49432656e-05, ...,\n",
       "         0.00000000e+00,  0.00000000e+00,  0.00000000e+00]])"
      ]
     },
     "execution_count": 28,
     "metadata": {},
     "output_type": "execute_result"
    }
   ],
   "source": [
    "all_constant = []\n",
    "\n",
    "for i in range(len(rxn_train_x[0])):\n",
    "    if all(rxn_train_x[:,i]) or not any(rxn_train_x[:,i]):\n",
    "        all_constant.append(i)\n",
    "        \n",
    "print(len(all_constant))\n",
    "        \n",
    "lr.coef_[:,all_constant]"
   ]
  },
  {
   "cell_type": "markdown",
   "metadata": {},
   "source": [
    "### Metabolites"
   ]
  },
  {
   "cell_type": "code",
   "execution_count": 29,
   "metadata": {},
   "outputs": [
    {
     "name": "stdout",
     "output_type": "stream",
     "text": [
      "Linear Regression Training MSE: 2.558006662499229e-29\n"
     ]
    }
   ],
   "source": [
    "lr = linear_model.LinearRegression()\n",
    "\n",
    "lr.fit(met_train_x,train_y)\n",
    "print('Linear Regression Training MSE: '+str(sklearn.metrics.mean_squared_error(lr.predict(met_train_x),train_y)))"
   ]
  },
  {
   "cell_type": "code",
   "execution_count": 30,
   "metadata": {},
   "outputs": [
    {
     "name": "stdout",
     "output_type": "stream",
     "text": [
      "0.0005312560429706366\n"
     ]
    },
    {
     "data": {
      "text/plain": [
       "0.02027415583163048"
      ]
     },
     "execution_count": 30,
     "metadata": {},
     "output_type": "execute_result"
    }
   ],
   "source": [
    "print(np.mean(lr.coef_))\n",
    "np.std(lr.coef_)"
   ]
  },
  {
   "cell_type": "code",
   "execution_count": 31,
   "metadata": {},
   "outputs": [
    {
     "name": "stdout",
     "output_type": "stream",
     "text": [
      "Linear Regression Test MSE: 0.09029335810277547\n",
      "Class 1:\n",
      "Train Precision: 1.0, Train Recall: 1.0\n",
      "Test Precision: 1.0, Test Recall: 1.0\n",
      "Class 2:\n",
      "Train Precision: 1.0, Train Recall: 1.0\n",
      "Test Precision: 0.9333333333333333, Test Recall: 0.8235294117647058\n",
      "Class 3:\n",
      "Train Precision: 1.0, Train Recall: 1.0\n",
      "Test Precision: 0.9761904761904762, Test Recall: 0.9761904761904762\n",
      "Class 4:\n",
      "Train Precision: 1.0, Train Recall: 1.0\n",
      "Test Precision: 0.9117647058823529, Test Recall: 0.9117647058823529\n",
      "Class 5:\n",
      "Train Precision: 1.0, Train Recall: 1.0\n",
      "Test Precision: 0.9767441860465116, Test Recall: 0.8936170212765957\n",
      "Class 6:\n",
      "Train Precision: 1.0, Train Recall: 1.0\n",
      "Test Precision: 0.9142857142857143, Test Recall: 0.8888888888888888\n",
      "Class 7:\n",
      "Train Precision: 1.0, Train Recall: 1.0\n",
      "Test Precision: 0.8611111111111112, Test Recall: 0.9117647058823529\n",
      "Class 8:\n",
      "Train Precision: 1.0, Train Recall: 1.0\n",
      "Test Precision: 0.9444444444444444, Test Recall: 0.8292682926829268\n"
     ]
    }
   ],
   "source": [
    "test_preds = lr.predict(met_test_x)\n",
    "test_preds_binary = [[0 if p <= 0.5 else 1 for p in pred] for pred in test_preds]\n",
    "train_preds = lr.predict(met_train_x)\n",
    "train_preds_binary = [[0 if p <= 0.5 else 1 for p in pred] for pred in train_preds]\n",
    "\n",
    "print('Linear Regression Test MSE: '+str(sklearn.metrics.mean_squared_error(test_preds,test_y)))\n",
    "\n",
    "for i in range(8):\n",
    "    print('Class '+str(i+1)+':') \n",
    "    print('Train Precision: '+str(precision_score(np.transpose(train_preds_binary)[i],np.transpose(train_y)[i]))+\n",
    "          ', Train Recall: '+str(recall_score(np.transpose(train_preds_binary)[i],np.transpose(train_y)[i])))\n",
    "    print('Test Precision: '+str(precision_score(np.transpose(test_preds_binary)[i],np.transpose(test_y)[i]))+\n",
    "          ', Test Recall: '+str(recall_score(np.transpose(test_preds_binary)[i],np.transpose(test_y)[i])))"
   ]
  },
  {
   "cell_type": "code",
   "execution_count": 32,
   "metadata": {},
   "outputs": [
    {
     "name": "stdout",
     "output_type": "stream",
     "text": [
      "Vitamin: Biotin\n",
      "[('pime[c]', 0.19764971193042064), ('pime[e]', 0.19764971193042064), ('pmACP[c]', 0.18070529635205435), ('pmcoa[c]', 0.16871177128962114), ('epACPm[c]', 0.1289863517054425), ('L2aadp[c]', -0.11927368154982089), ('acaadp[c]', -0.11323253025661696), ('aclys[c]', -0.10778037686623948), ('raffin[e]', -0.0958292757987073), ('ala_B[c]', -0.09206009960117646)]\n",
      "Vitamin: Cobalamin\n",
      "[('pre6b[c]', 0.15471249666485382), ('pre6a[c]', 0.11835160344864375), ('C02442[c]', -0.09000646670008876), ('hgbam[c]', 0.08600063322994644), ('co1dam[c]', 0.07671598740967758), ('arabinoxyl[e]', -0.0712867166606858), ('arg_L[e]', 0.07085970318254821), ('copre6[c]', 0.06955396662381594), ('codhpre6[c]', 0.0695409038239933), ('pre5[c]', 0.06795153238438476)]\n",
      "Vitamin: Folate\n",
      "[('6hmhptpp[c]', 0.22602206584281354), ('6hmhpt[c]', 0.2098000328636892), ('glctnb[c]', 0.15755267688445604), ('cytd[e]', 0.13910405810443885), ('nforglu[c]', 0.11471068345356801), ('core7[e]', 0.11113851496206259), ('4adcho[c]', 0.11009059101205476), ('glctnb[e]', 0.10691454435750529), ('2dh3dgal6p[c]', 0.10503532665908995), ('acmana[c]', -0.08790977212641006)]\n",
      "Vitamin: Niacin\n",
      "[('iasp[c]', 0.36215122433211855), ('fmnh2[c]', 0.23341240032641317), ('quln[c]', 0.15984464237012258), ('ncam[e]', -0.11458445418627987), ('pmcoa[c]', -0.0910157460729966), ('no3[c]', 0.08762466512245937), ('2mop[c]', -0.08423977145701227), ('ethamp[c]', 0.0786380153102191), ('ade[e]', 0.07852499724141003), ('35cgmp[c]', 0.07491134181173036)]\n",
      "Vitamin: Pantothenate\n",
      "[('ala_B[c]', 0.14313323637038902), ('nmn[c]', -0.09073779067551653), ('nac[e]', -0.08778691887926982), ('pydam[e]', 0.07704042767223486), ('ametam[c]', -0.07657402287156756), ('nicrns[c]', -0.07541520629119322), ('pnto_R[e]', -0.07257817645680832), ('thmmp[c]', 0.07176333362523592), ('4mhetz[c]', -0.07093331778599628), ('asp_L[e]', -0.07048143073651073)]\n",
      "Vitamin: Pyridoxin\n",
      "[('pydam[e]', 0.2800647806823862), ('pydxn[e]', 0.1962316527212608), ('pydx[c]', -0.18176711058987471), ('dha[c]', 0.13840895992348104), ('pydx[e]', -0.11481958646867656), ('gthox[c]', 0.11266431076797638), ('4abut[c]', 0.11239745625840199), ('udpgal[c]', 0.1079708573133102), ('kdo8p[c]', 0.10184953740963529), ('iasp[c]', 0.09932387462527323)]\n",
      "Vitamin: Riboflavin\n",
      "[('4r5au[c]', 0.20255553461767814), ('dmlz[c]', 0.20255522755494745), ('fald[c]', 0.1308888291340859), ('25drapp[c]', 0.10509306011013488), ('5aprbu[c]', 0.1034203562829647), ('nac[e]', -0.10166958179803692), ('1p4h2cbxl[c]', 0.08928233180350618), ('forglu[c]', -0.08790738709696272), ('aclys[c]', 0.08736631720184164), ('acaadp[c]', 0.08405773469387878)]\n",
      "Vitamin: Thiamin\n",
      "[('4ampm[c]', 0.21894359333664165), ('2mahmp[c]', 0.17440006553761733), ('pullulan1200[e]', 0.15594493045016083), ('rbl_D[c]', 0.12620520454035608), ('4mhetz[c]', -0.12591431538958844), ('ametam[c]', -0.12193448178772749), ('5apru[c]', 0.11793229936217077), ('fuc_L[e]', -0.11231857089248826), ('hxan[e]', 0.1119719805114862), ('phpyr[c]', 0.10628579501537108)]\n"
     ]
    }
   ],
   "source": [
    "# find mets with highest impact\n",
    "\n",
    "for i in range(8):\n",
    "    mets_n_coefs = sorted(list(zip(vitb_met_list,lr.coef_[i])),key=lambda t: abs(t[1]),reverse=True)\n",
    "    top10 = mets_n_coefs[:10]\n",
    "    print('Vitamin: ' +vitb_types[i])\n",
    "    print(top10)\n",
    "    for met in top10:\n",
    "        met_ind = list(vitb_met_list).index(met[0])\n",
    "        #print(all(met_train_x[:,met_ind]) or not any (met_train_x[:,met_ind]))"
   ]
  },
  {
   "cell_type": "markdown",
   "metadata": {},
   "source": [
    "For Thiamin, 4mhetz[c](large negative coeff) is a product of thiaminase, hence the large negative coeff?\n",
    "\n",
    "Also, the y values are AGORA predictions, so the success of linear regression only shows that we get close to their predictions."
   ]
  },
  {
   "cell_type": "markdown",
   "metadata": {},
   "source": [
    "# LASSO Regression"
   ]
  },
  {
   "cell_type": "markdown",
   "metadata": {},
   "source": [
    "### Reactions"
   ]
  },
  {
   "cell_type": "code",
   "execution_count": 33,
   "metadata": {},
   "outputs": [
    {
     "data": {
      "text/plain": [
       "5152"
      ]
     },
     "execution_count": 33,
     "metadata": {},
     "output_type": "execute_result"
    }
   ],
   "source": [
    "len(rxn_train_x[0])"
   ]
  },
  {
   "cell_type": "code",
   "execution_count": 34,
   "metadata": {},
   "outputs": [
    {
     "name": "stdout",
     "output_type": "stream",
     "text": [
      "LASSO Regression Training MSE: 0.02660934078303468\n"
     ]
    }
   ],
   "source": [
    "lasso = linear_model.Lasso(alpha=0.01)\n",
    "\n",
    "lasso.fit(rxn_train_x,train_y)\n",
    "print('LASSO Regression Training MSE: '+str(sklearn.metrics.mean_squared_error(lasso.predict(rxn_train_x),train_y)))"
   ]
  },
  {
   "cell_type": "code",
   "execution_count": 35,
   "metadata": {},
   "outputs": [
    {
     "name": "stdout",
     "output_type": "stream",
     "text": [
      "0.00021642883423393086\n"
     ]
    },
    {
     "data": {
      "text/plain": [
       "0.009177894461913062"
      ]
     },
     "execution_count": 35,
     "metadata": {},
     "output_type": "execute_result"
    }
   ],
   "source": [
    "print(np.mean(lasso.coef_))\n",
    "np.std(lasso.coef_)"
   ]
  },
  {
   "cell_type": "code",
   "execution_count": 36,
   "metadata": {},
   "outputs": [
    {
     "name": "stdout",
     "output_type": "stream",
     "text": [
      "LASSO Regression Val MSE: 0.04712679012549796\n",
      "Class 1:\n",
      "Train Precision: 0.993421052631579, Train Recall: 0.9869281045751634\n",
      "Val Precision: 0.96, Val Recall: 1.0\n",
      "Class 2:\n",
      "Train Precision: 0.9927007299270073, Train Recall: 0.9444444444444444\n",
      "Val Precision: 1.0, Val Recall: 0.8\n",
      "Class 3:\n",
      "Train Precision: 0.987012987012987, Train Recall: 0.9806451612903225\n",
      "Val Precision: 0.95, Val Recall: 0.9743589743589743\n",
      "Class 4:\n",
      "Train Precision: 1.0, Train Recall: 0.9705882352941176\n",
      "Val Precision: 0.9666666666666667, Val Recall: 0.9666666666666667\n",
      "Class 5:\n",
      "Train Precision: 0.9805555555555555, Train Recall: 0.9644808743169399\n",
      "Val Precision: 0.9574468085106383, Val Recall: 0.9375\n",
      "Class 6:\n",
      "Train Precision: 0.996268656716418, Train Recall: 0.956989247311828\n",
      "Val Precision: 0.9375, Val Recall: 0.9090909090909091\n",
      "Class 7:\n",
      "Train Precision: 0.9937694704049844, Train Recall: 0.9382352941176471\n",
      "Val Precision: 1.0, Val Recall: 0.9333333333333333\n",
      "Class 8:\n",
      "Train Precision: 0.9807692307692307, Train Recall: 0.95625\n",
      "Val Precision: 0.9230769230769231, Val Recall: 0.9473684210526315\n"
     ]
    }
   ],
   "source": [
    "val_preds = lasso.predict(rxn_val_x)\n",
    "val_preds_binary = [[0 if p <= 0.5 else 1 for p in pred] for pred in val_preds]\n",
    "train_preds = lasso.predict(rxn_train_x)\n",
    "train_preds_binary = [[0 if p <= 0.5 else 1 for p in pred] for pred in train_preds]\n",
    "\n",
    "print('LASSO Regression Val MSE: '+str(sklearn.metrics.mean_squared_error(val_preds,val_y)))\n",
    "\n",
    "for i in range(8):\n",
    "    print('Class '+str(i+1)+':') \n",
    "    print('Train Precision: '+str(precision_score(np.transpose(train_preds_binary)[i],np.transpose(train_y)[i]))+\n",
    "          ', Train Recall: '+str(recall_score(np.transpose(train_preds_binary)[i],np.transpose(train_y)[i])))\n",
    "    print('Val Precision: '+str(precision_score(np.transpose(val_preds_binary)[i],np.transpose(val_y)[i]))+\n",
    "          ', Val Recall: '+str(recall_score(np.transpose(val_preds_binary)[i],np.transpose(val_y)[i])))"
   ]
  },
  {
   "cell_type": "code",
   "execution_count": 37,
   "metadata": {},
   "outputs": [
    {
     "name": "stdout",
     "output_type": "stream",
     "text": [
      "LASSO Regression Test MSE: 0.03154050873985644\n",
      "Class 1:\n",
      "Test Precision: 1.0, Test Recall: 1.0\n",
      "Class 2:\n",
      "Test Precision: 0.9333333333333333, Test Recall: 0.8235294117647058\n",
      "Class 3:\n",
      "Test Precision: 1.0, Test Recall: 1.0\n",
      "Class 4:\n",
      "Test Precision: 1.0, Test Recall: 0.9714285714285714\n",
      "Class 5:\n",
      "Test Precision: 1.0, Test Recall: 0.9772727272727273\n",
      "Class 6:\n",
      "Test Precision: 0.9714285714285714, Test Recall: 0.8717948717948718\n",
      "Class 7:\n",
      "Test Precision: 1.0, Test Recall: 0.8780487804878049\n",
      "Class 8:\n",
      "Test Precision: 1.0, Test Recall: 0.9\n"
     ]
    }
   ],
   "source": [
    "test_preds = lasso.predict(rxn_test_x)\n",
    "test_preds_binary = [[0 if p <= 0.5 else 1 for p in pred] for pred in test_preds]\n",
    "\n",
    "print('LASSO Regression Test MSE: '+str(sklearn.metrics.mean_squared_error(test_preds,test_y)))\n",
    "\n",
    "for i in range(8):\n",
    "    print('Class '+str(i+1)+':') \n",
    "    print('Test Precision: '+str(precision_score(np.transpose(test_preds_binary)[i],np.transpose(test_y)[i]))+\n",
    "          ', Test Recall: '+str(recall_score(np.transpose(test_preds_binary)[i],np.transpose(test_y)[i])))"
   ]
  },
  {
   "cell_type": "code",
   "execution_count": 38,
   "metadata": {},
   "outputs": [
    {
     "name": "stdout",
     "output_type": "stream",
     "text": [
      "Vitamin: Biotin\n",
      "[('EACPR2', 0.42968480320474645), ('CHCOAL', 0.33666102718151314), ('PMACPME', 0.24273105993401725), ('AOXSr2', 0.2311678464765085), ('EX_pime(e)', 0.12843325985900214), ('AOXSr', 0.024732525631027378), ('PIMEtr', 0.010718389651271398), ('MEVK1c', -0.009488813709789459), ('NAt3', 0.00781312546764339), ('PPAt2r', 0.003372703425057713)]\n",
      "Vitamin: Cobalamin\n",
      "[('APPLDH', 0.26425271546825935), ('CPC2MT', 0.1993831354090898), ('CPC5MT2', 0.1715094047949219), ('PC6AR', 0.1421719793407116), ('PC6YM', 0.12143799572170814), ('R05224', 0.11007046068690476), ('CYRDAR', 0.08383287275664425), ('SHCHCC', 0.03214750333471601), ('CBMTHL2', 0.022830655605081313), ('sink_dmbzid', 0.022153854809268864)]\n",
      "Vitamin: Folate\n",
      "[('DHPS2', 0.8653715846638236), ('DDPGALA', 0.02829914980174601), ('FOLD3', 0.01728242789933411), ('EX_ppa(e)', 0.015108492890656616), ('PMDPHT', 0.00471752663121331), ('GCCa', 0.004409770429756634), ('ADCL', 0.004396905357962379), ('PANTS', 0.002299709296893714), ('EAR11M12x', 0.0015707645910622552), ('PDX5PSYN', 0.0014698320345261251)]\n",
      "Vitamin: Niacin\n",
      "[('ASPO7', 0.851097186615128), ('QULNS', 0.07732040768611402), ('AMALT1', 0.010560704470181157), ('THRD', 0.010259163896248515), ('XYLK', 0.005409139443259094), ('AP4AH', -0.004760262238505056), ('HSST', 0.002870126311811063), ('EX_dcyt(e)', 0.0017475302585005716), ('PFL', 0.0009578708442259904), ('AGDC', 0.0008037787270232498)]\n",
      "Vitamin: Pantothenate\n",
      "[('MOHMT', 0.5422141661728951), ('ASP1DC', 0.1195911070867138), ('CDPEAS', 0.07482938778079858), ('PSD181', 0.06295582430766931), ('GLCS3', -0.03992357672168932), ('PANTS', 0.039313376860794384), ('UACMAMAT', 0.030308507962294402), ('DCYTD', 0.029131326865053514), ('TMPK', 0.025251649998632334), ('FRD2', 0.018399817076061534)]\n",
      "Vitamin: Pyridoxin\n",
      "[('PLPS', 0.4354455210928216), ('PDX5PS', 0.4130921364290174), ('PYDAMtr', 0.1293196293602305), ('OHPBAT', 0.12214121807403158), ('5AIZCDC', 0.11580529570885838), ('PYDXNtr', 0.07206938642447204), ('G3PD5', 0.05432196580298583), ('ASPO1', 0.046029965270830094), ('SUCDimq', 0.04241230452276674), ('ASP1DC', 0.03792831006344482)]\n",
      "Vitamin: Riboflavin\n",
      "[('RBFSa', 0.4366626878677421), ('DM_clpnai17(c)', -0.18133398886415955), ('RBFSb', 0.16778469214399308), ('DHPPDA2', 0.08734016026568846), ('GTPCII', 0.0812761341458479), ('DB4PS', 0.07301609129585816), ('ASPO7', 0.05876795899936736), ('EX_arg_L(e)', 0.021398938164671734), ('DM_GCALD', -0.015048853343825951), ('GLUN', 0.010288401358906952)]\n",
      "Vitamin: Thiamin\n",
      "[('AMPMS2', 0.5227604243477998), ('TMPPP', 0.14125527646026412), ('PMPK', 0.07522256972302391), ('TMN', -0.06756572137664076), ('DM_clpnai17(c)', -0.06418114592543057), ('IPDPUPT', -0.06176914179338779), ('TMK', -0.061386891280918114), ('SUCD1', 0.06114483854826323), ('GTPCII', 0.05932286728634331), ('XYLI2', 0.04812986283021396)]\n"
     ]
    }
   ],
   "source": [
    "# find rxns with highest impact\n",
    "\n",
    "for i in range(8):\n",
    "    rxns_n_coefs = sorted(list(zip(vitb_rxn_list,lasso.coef_[i])),key=lambda t: abs(t[1]),reverse=True)\n",
    "    top10 = rxns_n_coefs[:10]\n",
    "    print('Vitamin: ' +vitb_types[i])\n",
    "    print(top10)\n",
    "    for rxn in top10:\n",
    "        rxn_ind = list(vitb_rxn_list).index(rxn[0])\n",
    "        #print(all(rxn_train_x[:,rxn_ind]) or not any (rxn_train_x[:,rxn_ind]))"
   ]
  },
  {
   "cell_type": "markdown",
   "metadata": {},
   "source": [
    "All features variant"
   ]
  },
  {
   "cell_type": "code",
   "execution_count": 39,
   "metadata": {},
   "outputs": [
    {
     "name": "stdout",
     "output_type": "stream",
     "text": [
      "178\n",
      "5152\n",
      "[0. 0. 0. 0. 0. 0. 0. 0.]\n",
      "[0. 0. 0. 0. 0. 0. 0. 0.]\n"
     ]
    }
   ],
   "source": [
    "all_constant = []\n",
    "\n",
    "for i in range(len(rxn_train_x[0])):\n",
    "    if all(rxn_train_x[:,i]) or not any(rxn_train_x[:,i]):\n",
    "        all_constant.append(i)\n",
    "        \n",
    "print(len(all_constant))\n",
    "print(len(rxn_train_x[0]))\n",
    "        \n",
    "print(np.sum(lasso.coef_[:,all_constant],axis=1))\n",
    "print(np.std(lasso.coef_[:,all_constant],axis=1))"
   ]
  },
  {
   "cell_type": "markdown",
   "metadata": {},
   "source": [
    "Lasso eliminates the effect of all invariant features"
   ]
  },
  {
   "cell_type": "markdown",
   "metadata": {},
   "source": [
    "### Metabolites"
   ]
  },
  {
   "cell_type": "code",
   "execution_count": 40,
   "metadata": {},
   "outputs": [
    {
     "data": {
      "text/plain": [
       "2447"
      ]
     },
     "execution_count": 40,
     "metadata": {},
     "output_type": "execute_result"
    }
   ],
   "source": [
    "len(met_train_x[0])"
   ]
  },
  {
   "cell_type": "code",
   "execution_count": 41,
   "metadata": {},
   "outputs": [
    {
     "name": "stdout",
     "output_type": "stream",
     "text": [
      "LASSO Regression Training MSE: 0.03906649351190376\n"
     ]
    }
   ],
   "source": [
    "lasso = linear_model.Lasso(alpha=0.01)\n",
    "\n",
    "lasso.fit(met_train_x,train_y)\n",
    "print('LASSO Regression Training MSE: '+str(sklearn.metrics.mean_squared_error(lasso.predict(met_train_x),train_y)))"
   ]
  },
  {
   "cell_type": "code",
   "execution_count": 42,
   "metadata": {},
   "outputs": [
    {
     "name": "stdout",
     "output_type": "stream",
     "text": [
      "0.00041169163570084553\n"
     ]
    },
    {
     "data": {
      "text/plain": [
       "0.013203602569130576"
      ]
     },
     "execution_count": 42,
     "metadata": {},
     "output_type": "execute_result"
    }
   ],
   "source": [
    "print(np.mean(lasso.coef_))\n",
    "np.std(lasso.coef_)"
   ]
  },
  {
   "cell_type": "code",
   "execution_count": 43,
   "metadata": {},
   "outputs": [
    {
     "name": "stdout",
     "output_type": "stream",
     "text": [
      "LASSO Regression Val MSE: 0.062013657126327476\n",
      "Class 1:\n",
      "Train Precision: 0.993421052631579, Train Recall: 0.9741935483870968\n",
      "Val Precision: 0.96, Val Recall: 1.0\n",
      "Class 2:\n",
      "Train Precision: 0.9854014598540146, Train Recall: 0.8653846153846154\n",
      "Val Precision: 1.0, Val Recall: 0.7058823529411765\n",
      "Class 3:\n",
      "Train Precision: 0.987012987012987, Train Recall: 0.9806451612903225\n",
      "Val Precision: 0.95, Val Recall: 0.9743589743589743\n",
      "Class 4:\n",
      "Train Precision: 1.0, Train Recall: 0.8949152542372881\n",
      "Val Precision: 0.9666666666666667, Val Recall: 0.8529411764705882\n",
      "Class 5:\n",
      "Train Precision: 0.9861111111111112, Train Recall: 0.9806629834254144\n",
      "Val Precision: 0.9787234042553191, Val Recall: 0.9787234042553191\n",
      "Class 6:\n",
      "Train Precision: 0.9552238805970149, Train Recall: 0.9516728624535316\n",
      "Val Precision: 0.9375, Val Recall: 0.9375\n",
      "Class 7:\n",
      "Train Precision: 0.9937694704049844, Train Recall: 0.9327485380116959\n",
      "Val Precision: 1.0, Val Recall: 0.9333333333333333\n",
      "Class 8:\n",
      "Train Precision: 0.9775641025641025, Train Recall: 0.9159159159159159\n",
      "Val Precision: 0.9743589743589743, Val Recall: 0.8444444444444444\n"
     ]
    }
   ],
   "source": [
    "val_preds = lasso.predict(met_val_x)\n",
    "val_preds_binary = [[0 if p <= 0.5 else 1 for p in pred] for pred in val_preds]\n",
    "train_preds = lasso.predict(met_train_x)\n",
    "train_preds_binary = [[0 if p <= 0.5 else 1 for p in pred] for pred in train_preds]\n",
    "\n",
    "print('LASSO Regression Val MSE: '+str(sklearn.metrics.mean_squared_error(val_preds,val_y)))\n",
    "\n",
    "for i in range(8):\n",
    "    print('Class '+str(i+1)+':') \n",
    "    print('Train Precision: '+str(precision_score(np.transpose(train_preds_binary)[i],np.transpose(train_y)[i]))+\n",
    "          ', Train Recall: '+str(recall_score(np.transpose(train_preds_binary)[i],np.transpose(train_y)[i])))\n",
    "    print('Val Precision: '+str(precision_score(np.transpose(val_preds_binary)[i],np.transpose(val_y)[i]))+\n",
    "          ', Val Recall: '+str(recall_score(np.transpose(val_preds_binary)[i],np.transpose(val_y)[i])))"
   ]
  },
  {
   "cell_type": "code",
   "execution_count": 44,
   "metadata": {},
   "outputs": [
    {
     "name": "stdout",
     "output_type": "stream",
     "text": [
      "LASSO Regression Test MSE: 0.058288779587913966\n",
      "Class 1:\n",
      "Test Precision: 1.0, Test Recall: 1.0\n",
      "Class 2:\n",
      "Test Precision: 1.0, Test Recall: 0.7894736842105263\n",
      "Class 3:\n",
      "Test Precision: 1.0, Test Recall: 1.0\n",
      "Class 4:\n",
      "Test Precision: 1.0, Test Recall: 0.85\n",
      "Class 5:\n",
      "Test Precision: 1.0, Test Recall: 0.9772727272727273\n",
      "Class 6:\n",
      "Test Precision: 0.8857142857142857, Test Recall: 0.8378378378378378\n",
      "Class 7:\n",
      "Test Precision: 1.0, Test Recall: 0.8780487804878049\n",
      "Class 8:\n",
      "Test Precision: 0.9722222222222222, Test Recall: 0.8333333333333334\n"
     ]
    }
   ],
   "source": [
    "test_preds = lasso.predict(met_test_x)\n",
    "test_preds_binary = [[0 if p <= 0.5 else 1 for p in pred] for pred in test_preds]\n",
    "\n",
    "print('LASSO Regression Test MSE: '+str(sklearn.metrics.mean_squared_error(test_preds,test_y)))\n",
    "\n",
    "for i in range(8):\n",
    "    print('Class '+str(i+1)+':') \n",
    "    print('Test Precision: '+str(precision_score(np.transpose(test_preds_binary)[i],np.transpose(test_y)[i]))+\n",
    "          ', Test Recall: '+str(recall_score(np.transpose(test_preds_binary)[i],np.transpose(test_y)[i])))"
   ]
  },
  {
   "cell_type": "code",
   "execution_count": 45,
   "metadata": {},
   "outputs": [
    {
     "name": "stdout",
     "output_type": "stream",
     "text": [
      "Vitamin: Biotin\n",
      "[('epACPm[c]', 0.6051344148309721), ('pime[c]', 0.4628303008534392), ('pmACP[c]', 0.23258725661737922), ('egACPm[c]', 0.05143933979391657), ('pmcoa[c]', 0.04392616297699127), ('5pmev[c]', -0.011562595428314778), ('gACPm[c]', 0.001702860643686051), ('3hgACPm[c]', 0.0012151912430323332), ('pime[e]', 4.3828445788788125e-15), ('10fthf5glu[c]', 0.0)]\n",
      "Vitamin: Cobalamin\n",
      "[('pre6b[c]', 0.6683665720394808), ('pre3a[c]', 0.08953826060553485), ('gam[e]', -0.050510208997825747), ('23ddhb[c]', -0.04659412664896315), ('pser_D[c]', -0.04008879735835773), ('56dthm[c]', 0.03855446051003598), ('hgbam[c]', 0.026851024234385165), ('rib_D[e]', 0.02613353279451607), ('drib[c]', 0.025023126595877753), ('ttc_ggdp[c]', -0.023851157762739734)]\n",
      "Vitamin: Folate\n",
      "[('6hmhptpp[c]', 0.8794229559716208), ('2dh3dgal6p[c]', 0.01674439314908353), ('2ahhmd[c]', 0.014957190962627893), ('ppa[e]', 0.0131090602662391), ('sucorn[c]', 0.007326623677913703), ('forglu[c]', 0.0030846402954628075), ('pmcoa[c]', 0.001482875618148691), ('pnto_R[e]', -0.0014189374307701987), ('10fthf5glu[c]', 0.0), ('10fthf[c]', 0.0)]\n",
      "Vitamin: Niacin\n",
      "[('iasp[c]', 0.5935269084720708), ('fmnh2[c]', 0.22142550458829843), ('ethamp[c]', 0.0850334642227149), ('quln[c]', 0.070615546373237), ('chol[e]', -0.044854533314758596), ('glucys[c]', -0.04296134477762409), ('5dpmev[c]', -0.03763255280586871), ('s[c]', 0.027049394510009404), ('ser_D[e]', -0.024458373428095686), ('ppp9[c]', -0.022011140462851728)]\n",
      "Vitamin: Pantothenate\n",
      "[('ala_B[c]', 0.261862011505007), ('mmcoa_S[c]', 0.1436953459587572), ('gthox[c]', 0.11694739534695577), ('5thf[c]', 0.11039345170250109), ('pnto_R[e]', -0.09050819657812907), ('pe181[c]', 0.06452761016697299), ('ppgpp[c]', 0.049822702432740694), ('acbdma14gapuc[c]', 0.04154009038254876), ('fmnh2[c]', -0.039569744296452235), ('ps181[c]', 0.035555465649033634)]\n",
      "Vitamin: Pyridoxin\n",
      "[('pydam[e]', 0.3985928845261031), ('pydx[c]', -0.2508047956130522), ('fmnh2[c]', 0.14164871831466985), ('sl2a6o[c]', 0.13055050695652592), ('2aobut[c]', 0.11933070480577981), ('2s5epchc[c]', 0.0959130016690486), ('ai17tcaala_D[c]', -0.08518211179106451), ('2ahhmd[c]', 0.08356329978911342), ('iasp[c]', 0.07080595256057566), ('1p3h5c[c]', 0.0699824920197989)]\n",
      "Vitamin: Riboflavin\n",
      "[('4r5au[c]', 0.5322581639106172), ('25drapp[c]', 0.16356847030352106), ('db4p[c]', 0.13004765068529867), ('fald[c]', 0.09984032541657617), ('5aprbu[c]', 0.04198291250094709), ('C11821[c]', 0.032164601527812836), ('alltn_R[c]', 0.02710950421509377), ('L2aadp6sa[c]', 0.026073616951774046), ('arg_L[e]', 0.022732440707830877), ('s[c]', 0.020329935055711238)]\n",
      "Vitamin: Thiamin\n",
      "[('4ampm[c]', 0.44828438969059947), ('5apru[c]', 0.12228562427265237), ('rbl_D[c]', 0.10008443511596013), ('fald[c]', 0.08679211981132723), ('HC01651[c]', 0.08558328989313822), ('pe180[c]', 0.08503103728629285), ('mmcoa_S[c]', 0.06357995746380994), ('din[c]', -0.057065603871819505), ('ddca[e]', -0.0565031279595478), ('dad_5[c]', 0.050268102466448826)]\n"
     ]
    }
   ],
   "source": [
    "# find mets with highest impact\n",
    "\n",
    "for i in range(8):\n",
    "    mets_n_coefs = sorted(list(zip(vitb_met_list,lasso.coef_[i])),key=lambda t: abs(t[1]),reverse=True)\n",
    "    top10 = mets_n_coefs[:10]\n",
    "    print('Vitamin: ' +vitb_types[i])\n",
    "    print(top10)\n",
    "    for met in top10:\n",
    "        met_ind = list(vitb_met_list).index(met[0])\n",
    "        #print(all(met_train_x[:,met_ind]) or not any (met_train_x[:,met_ind]))"
   ]
  },
  {
   "cell_type": "markdown",
   "metadata": {},
   "source": [
    "# Logistic Regression"
   ]
  },
  {
   "cell_type": "markdown",
   "metadata": {},
   "source": [
    "### Reactions"
   ]
  },
  {
   "cell_type": "code",
   "execution_count": 47,
   "metadata": {},
   "outputs": [],
   "source": [
    "LogReg = nn.Sequential(\n",
    "    nn.Linear(len(vitb_rxns_X[0]),8)\n",
    ")\n",
    "\n",
    "criterion = nn.BCEWithLogitsLoss()\n",
    "optimizer = torch.optim.Adam(LogReg.parameters(),lr=1e-4,weight_decay=0)\n",
    "\n",
    "epochs = 15"
   ]
  },
  {
   "cell_type": "code",
   "execution_count": 48,
   "metadata": {},
   "outputs": [
    {
     "name": "stdout",
     "output_type": "stream",
     "text": [
      "Epoch 0, Train MSE: 3.4602291785212005\n",
      "Val MSE: 0.21822033898305085\n",
      "Train Precision: 0.7444510338754325, Train Recall: 0.857989606881298\n",
      "Val Precision: 0.7276089646169434, Val Recall: 0.8223062068650304\n",
      "Epoch 5, Train MSE: 4.354703415295242\n",
      "Val MSE: 0.1313559322033898\n",
      "Train Precision: 0.9282318732434429, Train Recall: 0.9396089937155229\n",
      "Val Precision: 0.874782837951056, Val Recall: 0.8566769641054308\n",
      "Epoch 10, Train MSE: 5.599160766802759\n",
      "Val MSE: 0.09533898305084745\n",
      "Train Precision: 0.9613586806230742, Train Recall: 0.97061792559452\n",
      "Val Precision: 0.9238395049099837, Val Recall: 0.894817847846745\n"
     ]
    }
   ],
   "source": [
    "for i in range(epochs):\n",
    "    curr_loss = 0\n",
    "    for k in range(len(rxn_train_x)):\n",
    "        X = torch.Tensor(rxn_train_x[k])\n",
    "        y = torch.Tensor(train_y[k])\n",
    "        \n",
    "        optimizer.zero_grad()\n",
    "        \n",
    "        output = LogReg(X)\n",
    "        loss = criterion(output, y) + 0.01*torch.norm(LogReg[0].weight.data,1)\n",
    "        loss.backward()\n",
    "        optimizer.step()\n",
    "        \n",
    "        curr_loss += loss.item()\n",
    "        \n",
    "    if i % 5 != 0:\n",
    "        continue\n",
    "        \n",
    "    print('Epoch '+str(i)+', Train MSE: '+ str(curr_loss/len(rxn_train_x)))\n",
    "        \n",
    "    with torch.no_grad():\n",
    "        train_preds = np.transpose(LogReg(torch.Tensor(rxn_train_x)))\n",
    "        val_preds = LogReg(torch.Tensor(rxn_val_x))\n",
    "        train_preds_binary = [[0 if p <= 0 else 1 for p in pred] for pred in train_preds]\n",
    "        val_preds_binary = [[0 if p <= 0 else 1 for p in pred] for pred in val_preds]\n",
    "\n",
    "        print('Val MSE: '+str(sklearn.metrics.mean_squared_error(val_preds_binary,val_y)))\n",
    "        \n",
    "        print('Train Precision: '+str(np.mean([precision_score(train_preds_binary[i],np.transpose(train_y)[i]) for i in range(8)]))+\n",
    "                  ', Train Recall: '+str(np.mean([recall_score(train_preds_binary[i],np.transpose(train_y)[i]) for i in range(8)])))\n",
    "        print('Val Precision: '+str(np.mean([precision_score(np.transpose(val_preds_binary)[i],np.transpose(val_y)[i]) for i in range(8)]))+\n",
    "                  ', Val Recall: '+str(np.mean([recall_score(np.transpose(val_preds_binary)[i],np.transpose(val_y)[i]) for i in range(8)])))"
   ]
  },
  {
   "cell_type": "code",
   "execution_count": 49,
   "metadata": {},
   "outputs": [
    {
     "name": "stdout",
     "output_type": "stream",
     "text": [
      "Test MSE: 0.09166666666666666\n",
      "Test Precision: [0.95, 1.0, 0.9523809523809523, 0.8529411764705882, 0.9534883720930233, 0.8571428571428571, 0.9444444444444444, 0.8888888888888888], Test Recall: [0.8636363636363636, 0.7894736842105263, 0.9090909090909091, 0.9354838709677419, 1.0, 0.8823529411764706, 0.8947368421052632, 0.9411764705882353]\n"
     ]
    }
   ],
   "source": [
    "with torch.no_grad():\n",
    "    test_preds = LogReg(torch.Tensor(rxn_test_x))\n",
    "    test_preds_binary = [[0 if p <= 0 else 1 for p in pred] for pred in test_preds]\n",
    "\n",
    "    print('Test MSE: '+str(sklearn.metrics.mean_squared_error(test_preds_binary,test_y)))\n",
    "    print('Test Precision: '+str([precision_score(np.transpose(test_preds_binary)[i],np.transpose(test_y)[i]) for i in range(8)])+\n",
    "              ', Test Recall: '+str([recall_score(np.transpose(test_preds_binary)[i],np.transpose(test_y)[i]) for i in range(8)]))"
   ]
  },
  {
   "cell_type": "code",
   "execution_count": 323,
   "metadata": {},
   "outputs": [
    {
     "name": "stdout",
     "output_type": "stream",
     "text": [
      "tensor([[-0.0069,  0.0782,  0.0218,  ..., -0.0715,  0.2551, -0.0678],\n",
      "        [-0.0006,  0.0627,  0.0923,  ..., -0.0410,  0.0349, -0.0762],\n",
      "        [ 0.0045,  0.0525,  0.0226,  ..., -0.0033,  0.0144, -0.0392],\n",
      "        ...,\n",
      "        [ 0.0034, -0.0220, -0.0662,  ..., -0.0924, -0.0435, -0.0664],\n",
      "        [ 0.0203,  0.0092,  0.0397,  ...,  0.0010,  0.0884, -0.0568],\n",
      "        [ 0.0271, -0.0388,  0.0584,  ...,  0.0691,  0.0679,  0.0518]])\n"
     ]
    }
   ],
   "source": [
    "print(LogReg[0].weight.data)"
   ]
  },
  {
   "cell_type": "code",
   "execution_count": 325,
   "metadata": {},
   "outputs": [
    {
     "name": "stdout",
     "output_type": "stream",
     "text": [
      "Vitamin: Biotin\n",
      "[('MALCOACD', tensor(0.3964)), ('3HACPR1', tensor(0.3962)), ('EACPR1', tensor(0.3921)), ('GACPCD', tensor(0.3887)), ('EACPR2', tensor(0.3838)), ('3HACPR2', tensor(0.3803)), ('3OAACPR1', tensor(0.3790)), ('3OAACPR2', tensor(0.3755)), ('AOXSr2', tensor(0.3193)), ('PMACPME', tensor(0.3030))]\n",
      "Vitamin: Cobalamin\n",
      "[('PC6YM', tensor(0.3073)), ('CPC5MT2', tensor(0.3047)), ('R05224', tensor(0.3020)), ('PC6AR', tensor(0.2852)), ('APPLDH', tensor(0.2769)), ('CPC5MT1', tensor(0.2737)), ('sink_dmbzid', tensor(0.2706)), ('CPC2MT', tensor(0.2548)), ('CPC4MT', tensor(0.2438)), ('CPC6MT', tensor(0.2385))]\n",
      "Vitamin: Folate\n",
      "[('HPPK2', tensor(0.4588)), ('DHPS2', tensor(0.4512)), ('DHNPA2', tensor(0.4492)), ('DDPGALA', tensor(0.3751)), ('ADCL', tensor(0.2801)), ('GCALDD', tensor(0.2628)), ('GLXCL', tensor(0.2541)), ('FE3t4', tensor(0.2497)), ('GLYCLTDxr', tensor(0.2470)), ('r0085', tensor(0.2145))]\n",
      "Vitamin: Niacin\n",
      "[('ASPO7', tensor(0.5248)), ('QULNS', tensor(0.4524)), ('ASPO1', tensor(0.4048)), ('ASPO6', tensor(0.3887)), ('ASPO5', tensor(0.3807)), ('NNDPR', tensor(0.2513)), ('CITRAMALS', tensor(0.2006)), ('NACUP', tensor(-0.1986)), ('MSAS', tensor(0.1935)), ('SPTc', tensor(0.1891))]\n",
      "Vitamin: Pantothenate\n",
      "[('ASP1DC', tensor(0.2631)), ('MCLOR', tensor(0.2566)), ('2HBO', tensor(0.2514)), ('PANTS', tensor(0.2348)), ('TRIOK', tensor(0.2229)), ('MOHMT', tensor(0.1977)), ('CHOLK', tensor(0.1956)), ('NEU23', tensor(0.1949)), ('r0679', tensor(0.1906)), ('DPGM', tensor(0.1898))]\n",
      "Vitamin: Pyridoxin\n",
      "[('PDX5PS', tensor(0.4198)), ('PYDAMtr', tensor(0.3723)), ('PYDXNtr', tensor(0.3123)), ('PLPS', tensor(0.3011)), ('PYAM5POr', tensor(0.2540)), ('PPC', tensor(0.2347)), ('INSK', tensor(0.1987)), ('EX_pydam(e)', tensor(0.1883)), ('MANAD_D', tensor(0.1820)), ('FALDH2', tensor(0.1803))]\n",
      "Vitamin: Riboflavin\n",
      "[('DHPPDA2', tensor(0.3896)), ('GTPCII2', tensor(0.3742)), ('1P4H2CBXLAH', tensor(0.3459)), ('RBFSb', tensor(0.3185)), ('RBFSa', tensor(0.3068)), ('GTPCII', tensor(0.2976)), ('APRAUR', tensor(0.2794)), ('DHPPDA', tensor(0.2767)), ('DB4PS', tensor(0.2726)), ('PMDPHT', tensor(0.2158))]\n",
      "Vitamin: Thiamin\n",
      "[('AMPMS2', tensor(0.4366)), ('DM_4HBA', tensor(0.2589)), ('2DDPENTHL', tensor(0.2384)), ('TMPPP', tensor(0.2024)), ('PMPK', tensor(0.1937)), ('HMPK1', tensor(0.1931)), ('FALDH2', tensor(0.1884)), ('r0488', tensor(-0.1811)), ('GALCTND', tensor(0.1787)), ('SHMGTyOX', tensor(0.1753))]\n"
     ]
    }
   ],
   "source": [
    "# find rxns with highest impact\n",
    "\n",
    "for i in range(8):\n",
    "    rxns_n_coefs = sorted(list(zip(vitb_rxn_list,LogReg[0].weight.data[i])),key=lambda t: abs(t[1]),reverse=True)\n",
    "    top10 = rxns_n_coefs[:10]\n",
    "    print('Vitamin: ' +vitb_types[i])\n",
    "    print(top10)\n",
    "    for rxn in top10:\n",
    "        rxn_ind = list(vitb_rxn_list).index(rxn[0])\n",
    "        #print(all(rxn_train_x[:,rxn_ind]) or not any (rxn_train_x[:,rxn_ind]))"
   ]
  },
  {
   "cell_type": "markdown",
   "metadata": {},
   "source": [
    "### Metabolites"
   ]
  },
  {
   "cell_type": "code",
   "execution_count": 53,
   "metadata": {},
   "outputs": [],
   "source": [
    "LogReg = nn.Sequential(\n",
    "    nn.Linear(len(vitb_mets_X[0]),8)\n",
    ")\n",
    "\n",
    "criterion = nn.BCEWithLogitsLoss()\n",
    "optimizer = torch.optim.Adam(LogReg.parameters(),lr=1e-4,weight_decay=0)\n",
    "\n",
    "epochs = 20"
   ]
  },
  {
   "cell_type": "code",
   "execution_count": 54,
   "metadata": {},
   "outputs": [
    {
     "name": "stdout",
     "output_type": "stream",
     "text": [
      "Epoch 0, Train MSE: 2.565445295366054\n",
      "Val MSE: 0.2457627118644068\n",
      "Train Precision: 0.6564424066234342, Train Recall: 0.8721351160212238\n",
      "Val Precision: 0.624762586704076, Val Recall: 0.8391987338519731\n",
      "Epoch 5, Train MSE: 2.9023507888810043\n",
      "Val MSE: 0.1461864406779661\n",
      "Train Precision: 0.8831181705178295, Train Recall: 0.9204934690150965\n",
      "Val Precision: 0.8395623757891046, Val Recall: 0.86748363912897\n",
      "Epoch 10, Train MSE: 3.4719913569180774\n",
      "Val MSE: 0.11864406779661016\n",
      "Train Precision: 0.9169981817258798, Train Recall: 0.9423087839342286\n",
      "Val Precision: 0.8801301413568701, Val Recall: 0.8811387677034795\n",
      "Epoch 15, Train MSE: 4.082319248074721\n",
      "Val MSE: 0.11440677966101695\n",
      "Train Precision: 0.9436216734203959, Train Recall: 0.9607899490734884\n",
      "Val Precision: 0.900001936228665, Val Recall: 0.8764356840554934\n"
     ]
    }
   ],
   "source": [
    "for i in range(epochs):\n",
    "    curr_loss = 0\n",
    "    for k in range(len(met_train_x)):\n",
    "        X = torch.Tensor(met_train_x[k])\n",
    "        y = torch.Tensor(train_y[k])\n",
    "        \n",
    "        optimizer.zero_grad()\n",
    "        \n",
    "        output = LogReg(X)\n",
    "        loss = criterion(output, y) + 0.01*torch.norm(LogReg[0].weight.data,1)\n",
    "        loss.backward()\n",
    "        optimizer.step()\n",
    "        \n",
    "        curr_loss += loss.item()\n",
    "        \n",
    "    if i % 5 != 0:\n",
    "        continue\n",
    "        \n",
    "    print('Epoch '+str(i)+', Train MSE: '+ str(curr_loss/len(met_train_x)))\n",
    "        \n",
    "    with torch.no_grad():\n",
    "        train_preds = np.transpose(LogReg(torch.Tensor(met_train_x)))\n",
    "        val_preds = LogReg(torch.Tensor(met_val_x))\n",
    "        train_preds_binary = [[0 if p <= 0 else 1 for p in pred] for pred in train_preds]\n",
    "        val_preds_binary = [[0 if p <= 0 else 1 for p in pred] for pred in val_preds]\n",
    "\n",
    "        print('Val MSE: '+str(sklearn.metrics.mean_squared_error(val_preds_binary,val_y)))\n",
    "        \n",
    "        print('Train Precision: '+str(np.mean([precision_score(train_preds_binary[i],np.transpose(train_y)[i]) for i in range(8)]))+\n",
    "                  ', Train Recall: '+str(np.mean([recall_score(train_preds_binary[i],np.transpose(train_y)[i]) for i in range(8)])))\n",
    "        print('Val Precision: '+str(np.mean([precision_score(np.transpose(val_preds_binary)[i],np.transpose(val_y)[i]) for i in range(8)]))+\n",
    "                  ', Val Recall: '+str(np.mean([recall_score(np.transpose(val_preds_binary)[i],np.transpose(val_y)[i]) for i in range(8)])))"
   ]
  },
  {
   "cell_type": "code",
   "execution_count": 52,
   "metadata": {},
   "outputs": [
    {
     "name": "stdout",
     "output_type": "stream",
     "text": [
      "Test MSE: 0.10416666666666666\n",
      "Test Precision: [0.95, 1.0, 0.9047619047619048, 0.7941176470588235, 1.0, 0.8, 0.9444444444444444, 0.8611111111111112], Test Recall: [0.8636363636363636, 0.75, 0.9047619047619048, 0.9642857142857143, 1.0, 0.8484848484848485, 0.8947368421052632, 0.9393939393939394]\n"
     ]
    }
   ],
   "source": [
    "with torch.no_grad():\n",
    "    test_preds = LogReg(torch.Tensor(met_test_x))\n",
    "    test_preds_binary = [[0 if p <= 0 else 1 for p in pred] for pred in test_preds]\n",
    "\n",
    "    print('Test MSE: '+str(sklearn.metrics.mean_squared_error(test_preds_binary,test_y)))\n",
    "    print('Test Precision: '+str([precision_score(np.transpose(test_preds_binary)[i],np.transpose(test_y)[i]) for i in range(8)])+\n",
    "              ', Test Recall: '+str([recall_score(np.transpose(test_preds_binary)[i],np.transpose(test_y)[i]) for i in range(8)]))"
   ]
  },
  {
   "cell_type": "code",
   "execution_count": 329,
   "metadata": {},
   "outputs": [
    {
     "name": "stdout",
     "output_type": "stream",
     "text": [
      "tensor([[ 0.0129, -0.0047, -0.0230,  ...,  0.0253,  0.0030, -0.0089],\n",
      "        [-0.0081,  0.0047, -0.0200,  ...,  0.0542, -0.0306,  0.0033],\n",
      "        [ 0.0237, -0.0156, -0.0129,  ...,  0.0596, -0.0208, -0.0279],\n",
      "        ...,\n",
      "        [ 0.0184, -0.0110, -0.0231,  ...,  0.1151, -0.0129,  0.0033],\n",
      "        [ 0.0232, -0.0159,  0.0008,  ...,  0.1211, -0.0152, -0.0252],\n",
      "        [ 0.0153, -0.0270, -0.0179,  ...,  0.1128, -0.0198, -0.0252]])\n"
     ]
    }
   ],
   "source": [
    "print(LogReg[0].weight.data)"
   ]
  },
  {
   "cell_type": "code",
   "execution_count": 331,
   "metadata": {},
   "outputs": [
    {
     "name": "stdout",
     "output_type": "stream",
     "text": [
      "Vitamin: Biotin\n",
      "[('malcoam[c]', tensor(0.4647)), ('3ogACPm[c]', tensor(0.4533)), ('gACPm[c]', tensor(0.4473)), ('3opACPm[c]', tensor(0.4453)), ('3hpACPm[c]', tensor(0.4426)), ('3hgACPm[c]', tensor(0.4409)), ('epACPm[c]', tensor(0.4377)), ('egACPm[c]', tensor(0.4336)), ('pmACP[c]', tensor(0.3321)), ('pmACPm[c]', tensor(0.3265))]\n",
      "Vitamin: Cobalamin\n",
      "[('pre6b[c]', tensor(0.3397)), ('pre6a[c]', tensor(0.3213)), ('copre5b[c]', tensor(0.3026)), ('hgbam[c]', tensor(0.2883)), ('copre6[c]', tensor(0.2796)), ('codhpre6[c]', tensor(0.2685)), ('pre5[c]', tensor(0.2605)), ('pre4[c]', tensor(0.2581)), ('pre3a[c]', tensor(0.2519)), ('C02442[c]', tensor(-0.2507))]\n",
      "Vitamin: Folate\n",
      "[('6hmhptpp[c]', tensor(0.5569)), ('6hmhpt[c]', tensor(0.5380)), ('2dh3dgal6p[c]', tensor(0.3964)), ('5thf[c]', tensor(0.2467)), ('2ahhmd[c]', tensor(0.2370)), ('HC00591[c]', tensor(0.2281)), ('gcald[e]', tensor(0.2218)), ('dhnpt[c]', tensor(0.2147)), ('dhpmp[c]', tensor(0.2109)), ('2ahhmp[c]', tensor(0.2061))]\n",
      "Vitamin: Niacin\n",
      "[('iasp[c]', tensor(0.4586)), ('fmnh2[c]', tensor(0.3447)), ('quln[c]', tensor(0.2960)), ('nmn[e]', tensor(-0.2228)), ('2mmal[c]', tensor(0.2129)), ('acon_T[c]', tensor(0.2046)), ('3hpppn[c]', tensor(0.1845)), ('3hcinnm[c]', tensor(0.1825)), ('mobd[c]', tensor(0.1822)), ('melt[c]', tensor(0.1804))]\n",
      "Vitamin: Pantothenate\n",
      "[('mercppyr[c]', tensor(0.3052)), ('mercplac[c]', tensor(0.2930)), ('mmcoa_R[c]', tensor(0.2680)), ('2hb[c]', tensor(0.2640)), ('25dop[c]', tensor(0.2460)), ('ala_B[c]', tensor(0.2435)), ('3mop[e]', tensor(0.2418)), ('gd1b_hs[c]', tensor(0.2414)), ('ptth[c]', tensor(0.2356)), ('cholp[c]', tensor(0.2339))]\n",
      "Vitamin: Pyridoxin\n",
      "[('hgentis[c]', tensor(0.2335)), ('mnl[c]', tensor(0.2292)), ('octa[c]', tensor(0.2238)), ('pydam[e]', tensor(0.2212)), ('hmgth[c]', tensor(0.2168)), ('4mlacac[c]', tensor(0.2039)), ('pydxn[e]', tensor(0.1919)), ('sucglu[c]', tensor(0.1876)), ('fmnh2[c]', tensor(0.1725)), ('2h3oppan[c]', tensor(-0.1686))]\n",
      "Vitamin: Riboflavin\n",
      "[('25drapp[c]', tensor(0.4325)), ('25dop[c]', tensor(0.3550)), ('1p4h2cbxl[c]', tensor(0.3398)), ('4r5au[c]', tensor(0.3259)), ('dmlz[c]', tensor(0.3212)), ('5aprbu[c]', tensor(0.3156)), ('db4p[c]', tensor(0.2905)), ('5apru[c]', tensor(0.2869)), ('25dhpp[c]', tensor(0.2831)), ('2ddpent[c]', tensor(0.2489))]\n",
      "Vitamin: Thiamin\n",
      "[('2ddpent[c]', tensor(0.2934)), ('4ampm[c]', tensor(0.2422)), ('HC02121[c]', tensor(0.2250)), ('btoh[e]', tensor(0.2101)), ('octa[c]', tensor(0.2052)), ('cysam[c]', tensor(0.2021)), ('Sfglutth[c]', tensor(0.1987)), ('hmgth[c]', tensor(0.1912)), ('galctn_D[c]', tensor(0.1911)), ('pre1[c]', tensor(0.1905))]\n"
     ]
    }
   ],
   "source": [
    "# find mets with highest impact\n",
    "\n",
    "for i in range(8):\n",
    "    mets_n_coefs = sorted(list(zip(vitb_met_list,LogReg[0].weight.data[i])),key=lambda t: abs(t[1]),reverse=True)\n",
    "    top10 = mets_n_coefs[:10]\n",
    "    print('Vitamin: ' +vitb_types[i])\n",
    "    print(top10)\n",
    "    for met in top10:\n",
    "        met_ind = list(vitb_met_list).index(met[0])\n",
    "        #print(all(met_train_x[:,met_ind]) or not any (met_train_x[:,met_ind]))"
   ]
  },
  {
   "cell_type": "markdown",
   "metadata": {},
   "source": [
    "## PCA - How much can we reduce the dimension and retain accuracy?"
   ]
  },
  {
   "cell_type": "code",
   "execution_count": 55,
   "metadata": {},
   "outputs": [],
   "source": [
    "rxn_train_x_normalized = rxn_train_x.astype('float64')\n",
    "\n",
    "for i in range(len(rxn_train_x_normalized[0])):\n",
    "    column = rxn_train_x_normalized[:,i]\n",
    "    rxn_train_x_normalized[:,i] = (column-np.mean(column))/(np.std(column)+1e-9)"
   ]
  },
  {
   "cell_type": "code",
   "execution_count": 56,
   "metadata": {},
   "outputs": [
    {
     "name": "stdout",
     "output_type": "stream",
     "text": [
      "[0.19103243 0.05646531 0.04672895 0.04335922 0.03191484 0.02603424\n",
      " 0.0218206  0.01901022 0.01658328 0.01529474]\n",
      "0.8441534926994904\n"
     ]
    }
   ],
   "source": [
    "pca = decomposition.PCA(n_components = 128)\n",
    "pca.fit(rxn_train_x_normalized)\n",
    "print(pca.explained_variance_ratio_[:10])\n",
    "print(sum(pca.explained_variance_ratio_))"
   ]
  },
  {
   "cell_type": "code",
   "execution_count": 57,
   "metadata": {},
   "outputs": [
    {
     "data": {
      "text/plain": [
       "(474, 128)"
      ]
     },
     "execution_count": 57,
     "metadata": {},
     "output_type": "execute_result"
    }
   ],
   "source": [
    "rxn_train_x_pca = pca.fit_transform(rxn_train_x_normalized)\n",
    "rxn_train_x_pca.shape"
   ]
  },
  {
   "cell_type": "code",
   "execution_count": 58,
   "metadata": {},
   "outputs": [
    {
     "data": {
      "text/plain": [
       "(60, 128)"
      ]
     },
     "execution_count": 58,
     "metadata": {},
     "output_type": "execute_result"
    }
   ],
   "source": [
    "rxn_test_x_normalized = rxn_test_x.astype('float64')\n",
    "\n",
    "for i in range(len(rxn_test_x_normalized[0])):\n",
    "    column = rxn_test_x_normalized[:,i]\n",
    "    rxn_test_x_normalized[:,i] = (column-np.mean(column))/(np.std(column)+1e-9)\n",
    "\n",
    "rxn_test_x_pca = pca.transform(rxn_test_x_normalized)\n",
    "\n",
    "rxn_test_x_pca.shape"
   ]
  },
  {
   "cell_type": "markdown",
   "metadata": {},
   "source": [
    "### LR - Reactions"
   ]
  },
  {
   "cell_type": "code",
   "execution_count": 443,
   "metadata": {},
   "outputs": [
    {
     "name": "stdout",
     "output_type": "stream",
     "text": [
      "PCA Linear Regression Training MSE: 0.03874068820037886\n"
     ]
    }
   ],
   "source": [
    "lr_pca = linear_model.LinearRegression()\n",
    "\n",
    "lr_pca.fit(rxn_train_x_pca,train_y)\n",
    "print('PCA Linear Regression Training MSE: '+str(sklearn.metrics.mean_squared_error(lr_pca.predict(rxn_train_x_pca),train_y)))"
   ]
  },
  {
   "cell_type": "code",
   "execution_count": 444,
   "metadata": {},
   "outputs": [
    {
     "name": "stdout",
     "output_type": "stream",
     "text": [
      "-0.0004755489606459864\n"
     ]
    },
    {
     "data": {
      "text/plain": [
       "0.007014498542541464"
      ]
     },
     "execution_count": 444,
     "metadata": {},
     "output_type": "execute_result"
    }
   ],
   "source": [
    "print(np.mean(lr_pca.coef_))\n",
    "np.std(lr_pca.coef_)"
   ]
  },
  {
   "cell_type": "code",
   "execution_count": 445,
   "metadata": {},
   "outputs": [
    {
     "name": "stdout",
     "output_type": "stream",
     "text": [
      "PCA Linear Regression Test MSE: 0.06793252576910466\n",
      "Class 1:\n",
      "Train Precision: 0.9741935483870968, Train Recall: 0.967948717948718\n",
      "Test Precision: 0.9047619047619048, Test Recall: 1.0\n",
      "Class 2:\n",
      "Train Precision: 1.0, Train Recall: 0.9568345323741008\n",
      "Test Precision: 1.0, Test Recall: 0.85\n",
      "Class 3:\n",
      "Train Precision: 0.9839743589743589, Train Recall: 0.9808306709265175\n",
      "Test Precision: 0.972972972972973, Test Recall: 1.0\n",
      "Class 4:\n",
      "Train Precision: 0.9847328244274809, Train Recall: 0.9626865671641791\n",
      "Test Precision: 0.9333333333333333, Test Recall: 0.9333333333333333\n",
      "Class 5:\n",
      "Train Precision: 0.9888268156424581, Train Recall: 0.9833333333333333\n",
      "Test Precision: 0.8913043478260869, Test Recall: 1.0\n",
      "Class 6:\n",
      "Train Precision: 0.9422382671480144, Train Recall: 0.9490909090909091\n",
      "Test Precision: 0.8518518518518519, Test Recall: 0.8214285714285714\n",
      "Class 7:\n",
      "Train Precision: 0.9811912225705329, Train Recall: 0.9660493827160493\n",
      "Test Precision: 0.8809523809523809, Test Recall: 0.9487179487179487\n",
      "Class 8:\n",
      "Train Precision: 0.9777777777777777, Train Recall: 0.9535603715170279\n",
      "Test Precision: 0.9473684210526315, Test Recall: 0.8780487804878049\n"
     ]
    }
   ],
   "source": [
    "test_preds = lr_pca.predict(rxn_test_x_pca)\n",
    "test_preds_binary = [[0 if p <= 0.5 else 1 for p in pred] for pred in test_preds]\n",
    "train_preds = lr_pca.predict(rxn_train_x_pca)\n",
    "train_preds_binary = [[0 if p <= 0.5 else 1 for p in pred] for pred in train_preds]\n",
    "\n",
    "print('PCA Linear Regression Test MSE: '+str(sklearn.metrics.mean_squared_error(test_preds,test_y)))\n",
    "\n",
    "for i in range(8):\n",
    "    print('Class '+str(i+1)+':') \n",
    "    print('Train Precision: '+str(precision_score(np.transpose(train_preds_binary)[i],np.transpose(train_y)[i]))+\n",
    "          ', Train Recall: '+str(recall_score(np.transpose(train_preds_binary)[i],np.transpose(train_y)[i])))\n",
    "    print('Test Precision: '+str(precision_score(np.transpose(test_preds_binary)[i],np.transpose(test_y)[i]))+\n",
    "          ', Test Recall: '+str(recall_score(np.transpose(test_preds_binary)[i],np.transpose(test_y)[i])))"
   ]
  },
  {
   "cell_type": "markdown",
   "metadata": {},
   "source": [
    "### LASSO - Reactions"
   ]
  },
  {
   "cell_type": "code",
   "execution_count": 59,
   "metadata": {},
   "outputs": [
    {
     "name": "stdout",
     "output_type": "stream",
     "text": [
      "PCA LASSO Regression Training MSE: 0.04065141886097279\n"
     ]
    }
   ],
   "source": [
    "lasso_pca = linear_model.Lasso(alpha=0.01)\n",
    "\n",
    "lasso_pca.fit(rxn_train_x_pca,train_y)\n",
    "print('PCA LASSO Regression Training MSE: '+str(sklearn.metrics.mean_squared_error(lasso_pca.predict(rxn_train_x_pca),train_y)))"
   ]
  },
  {
   "cell_type": "code",
   "execution_count": 60,
   "metadata": {},
   "outputs": [
    {
     "name": "stdout",
     "output_type": "stream",
     "text": [
      "-0.0003827744264982707\n"
     ]
    },
    {
     "data": {
      "text/plain": [
       "0.006246642945561395"
      ]
     },
     "execution_count": 60,
     "metadata": {},
     "output_type": "execute_result"
    }
   ],
   "source": [
    "print(np.mean(lasso_pca.coef_))\n",
    "np.std(lasso_pca.coef_)"
   ]
  },
  {
   "cell_type": "code",
   "execution_count": 61,
   "metadata": {},
   "outputs": [
    {
     "name": "stdout",
     "output_type": "stream",
     "text": [
      "PCA LASSO Regression Test MSE: 0.08352304595357915\n",
      "Class 1:\n",
      "Train Precision: 0.9605263157894737, Train Recall: 0.9733333333333334\n",
      "Test Precision: 0.95, Test Recall: 0.8260869565217391\n",
      "Class 2:\n",
      "Train Precision: 0.9927007299270073, Train Recall: 0.9645390070921985\n",
      "Test Precision: 1.0, Test Recall: 0.7894736842105263\n",
      "Class 3:\n",
      "Train Precision: 0.9837662337662337, Train Recall: 0.9742765273311897\n",
      "Test Precision: 0.9285714285714286, Test Recall: 0.8863636363636364\n",
      "Class 4:\n",
      "Train Precision: 0.9696969696969697, Train Recall: 0.9552238805970149\n",
      "Test Precision: 0.7941176470588235, Test Recall: 0.8709677419354839\n",
      "Class 5:\n",
      "Train Precision: 0.9861111111111112, Train Recall: 0.9833795013850416\n",
      "Test Precision: 1.0, Test Recall: 0.9555555555555556\n",
      "Class 6:\n",
      "Train Precision: 0.9291044776119403, Train Recall: 0.939622641509434\n",
      "Test Precision: 0.8, Test Recall: 0.875\n",
      "Class 7:\n",
      "Train Precision: 0.9719626168224299, Train Recall: 0.9659442724458205\n",
      "Test Precision: 0.9444444444444444, Test Recall: 0.8717948717948718\n",
      "Class 8:\n",
      "Train Precision: 0.9743589743589743, Train Recall: 0.9559748427672956\n",
      "Test Precision: 0.9444444444444444, Test Recall: 0.8717948717948718\n"
     ]
    }
   ],
   "source": [
    "test_preds = lasso_pca.predict(rxn_test_x_pca)\n",
    "test_preds_binary = [[0 if p <= 0.5 else 1 for p in pred] for pred in test_preds]\n",
    "train_preds = lasso_pca.predict(rxn_train_x_pca)\n",
    "train_preds_binary = [[0 if p <= 0.5 else 1 for p in pred] for pred in train_preds]\n",
    "\n",
    "print('PCA LASSO Regression Test MSE: '+str(sklearn.metrics.mean_squared_error(test_preds,test_y)))\n",
    "\n",
    "for i in range(8):\n",
    "    print('Class '+str(i+1)+':') \n",
    "    print('Train Precision: '+str(precision_score(np.transpose(train_preds_binary)[i],np.transpose(train_y)[i]))+\n",
    "          ', Train Recall: '+str(recall_score(np.transpose(train_preds_binary)[i],np.transpose(train_y)[i])))\n",
    "    print('Test Precision: '+str(precision_score(np.transpose(test_preds_binary)[i],np.transpose(test_y)[i]))+\n",
    "          ', Test Recall: '+str(recall_score(np.transpose(test_preds_binary)[i],np.transpose(test_y)[i])))"
   ]
  },
  {
   "cell_type": "code",
   "execution_count": null,
   "metadata": {},
   "outputs": [],
   "source": []
  }
 ],
 "metadata": {
  "kernelspec": {
   "display_name": "Python 3",
   "language": "python",
   "name": "python3"
  },
  "language_info": {
   "codemirror_mode": {
    "name": "ipython",
    "version": 3
   },
   "file_extension": ".py",
   "mimetype": "text/x-python",
   "name": "python",
   "nbconvert_exporter": "python",
   "pygments_lexer": "ipython3",
   "version": "3.6.9"
  }
 },
 "nbformat": 4,
 "nbformat_minor": 4
}
