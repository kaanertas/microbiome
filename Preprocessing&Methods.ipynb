{
 "cells": [
  {
   "cell_type": "code",
   "execution_count": 8,
   "metadata": {},
   "outputs": [],
   "source": [
    "import pandas as pd\n",
    "import numpy as np\n",
    "import networkx as nx\n",
    "import scipy.io\n",
    "import random\n",
    "from collections import defaultdict\n",
    "import math\n",
    "import re\n",
    "import matplotlib.pyplot as plt\n",
    "from sklearn import preprocessing, linear_model\n",
    "from sklearn.metrics import precision_score, recall_score\n",
    "import sklearn\n",
    "import torch\n",
    "import torch.nn as nn\n",
    "import torch.nn.functional as F\n",
    "import seaborn as sns\n",
    "from os import listdir\n",
    "import pickle\n",
    "from sklearn.manifold import TSNE"
   ]
  },
  {
   "cell_type": "code",
   "execution_count": 2,
   "metadata": {},
   "outputs": [],
   "source": [
    "def get_mets(file_path):\n",
    "    mat = scipy.io.loadmat(file_path)\n",
    "    model = mat['model'][0][0]\n",
    "    \n",
    "    met_list = model[5]\n",
    "    return set([met[0][0] for met in met_list])"
   ]
  },
  {
   "cell_type": "code",
   "execution_count": 3,
   "metadata": {},
   "outputs": [],
   "source": [
    "def get_rxns(file_path):\n",
    "    mat = scipy.io.loadmat(file_path)\n",
    "    model = mat['model'][0][0]\n",
    "    \n",
    "    rxn_list = model[0]\n",
    "    \n",
    "    return set([rxn[0][0] for rxn in rxn_list])"
   ]
  },
  {
   "cell_type": "code",
   "execution_count": 151,
   "metadata": {},
   "outputs": [],
   "source": [
    "def mat_to_network(file_path):\n",
    "    global rxn_rev\n",
    "#     global rxn_bac_gene_dict\n",
    "    \n",
    "    mat = scipy.io.loadmat(file_path)\n",
    "    model = mat['model'][0][0]\n",
    "    \n",
    "    rxn_list = model[0]\n",
    "    met_list = model[5]\n",
    "    gene_list = model[8]\n",
    "    rxn_met_mat = model[1].tocoo()\n",
    "#     rxn_gene_mat = model[11].tocoo()    \n",
    "\n",
    "    rxn_gene_dict = defaultdict(list)\n",
    "    rxn_met_dict = {}\n",
    "\n",
    "#     for rxn, gene in zip(rxn_gene_mat.row, rxn_gene_mat.col):\n",
    "#         if rxn_list[rxn][0][0] in rxn_bac_gene_dict:\n",
    "#             rxn_bac_gene_dict[rxn_list[rxn][0][0]][file_path].append(gene_list[gene][0][0])\n",
    "#         else:\n",
    "#             rxn_bac_gene_dict[rxn_list[rxn][0][0]][file_path] = [gene_list[gene][0][0]]\n",
    "\n",
    "#         rxn_gene_dict[rxn_list[rxn][0][0]].append(gene_list[gene][0][0])\n",
    "        \n",
    "    for met, rxn, coeff in zip(rxn_met_mat.row, rxn_met_mat.col, rxn_met_mat.data):\n",
    "        \n",
    "        if rxn_list[rxn][0][0] in rxn_rev:\n",
    "            if rxn_rev[rxn_list[rxn][0][0]]:\n",
    "                if rxn_list[rxn][0][0] in rxn_met_dict:\n",
    "                    rxn_met_dict[rxn_list[rxn][0][0]]['substrates'].append((met_list[met][0][0],abs(coeff)))\n",
    "                    rxn_met_dict[rxn_list[rxn][0][0]]['products'].append((met_list[met][0][0],abs(coeff)))\n",
    "                else:\n",
    "                    rxn_met_dict[rxn_list[rxn][0][0]] = {'substrates':[(met_list[met][0][0],abs(coeff))],'products':[(met_list[met][0][0],abs(coeff))]}\n",
    "\n",
    "            else:\n",
    "                if rxn_list[rxn][0][0] in rxn_met_dict:\n",
    "                    if coeff < 0:\n",
    "                        rxn_met_dict[rxn_list[rxn][0][0]]['substrates'].append((met_list[met][0][0],-coeff))\n",
    "                    else:\n",
    "                        rxn_met_dict[rxn_list[rxn][0][0]]['products'].append((met_list[met][0][0],coeff))\n",
    "                else:\n",
    "                    if coeff < 0:\n",
    "                        rxn_met_dict[rxn_list[rxn][0][0]] = {'substrates':[(met_list[met][0][0],-coeff)],'products':[]}\n",
    "                    else:\n",
    "                        rxn_met_dict[rxn_list[rxn][0][0]] = {'substrates':[],'products':[(met_list[met][0][0],coeff)]}\n",
    "            continue\n",
    "        \n",
    "        document = client.get('https://www.vmh.life/_api/reactions/?abbreviation='+rxn_list[rxn][0][0])\n",
    "        rxn_rev[rxn_list[rxn][0][0]] = '<=>' in document['results'][0]['formula']\n",
    "        \n",
    "        if '<=>' in document['results'][0]['formula']:\n",
    "            if rxn_list[rxn][0][0] in rxn_met_dict:\n",
    "                rxn_met_dict[rxn_list[rxn][0][0]]['substrates'].append((met_list[met][0][0],abs(coeff)))\n",
    "                rxn_met_dict[rxn_list[rxn][0][0]]['products'].append((met_list[met][0][0],abs(coeff)))\n",
    "            else:\n",
    "                rxn_met_dict[rxn_list[rxn][0][0]] = {'substrates':[(met_list[met][0][0],abs(coeff))],'products':[(met_list[met][0][0],abs(coeff))]}        \n",
    "        \n",
    "        else:\n",
    "            if rxn_list[rxn][0][0] in rxn_met_dict:\n",
    "                if coeff < 0:\n",
    "                    rxn_met_dict[rxn_list[rxn][0][0]]['substrates'].append((met_list[met][0][0],-coeff))\n",
    "                else:\n",
    "                    rxn_met_dict[rxn_list[rxn][0][0]]['products'].append((met_list[met][0][0],coeff))\n",
    "            else:\n",
    "                if coeff < 0:\n",
    "                    rxn_met_dict[rxn_list[rxn][0][0]] = {'substrates':[(met_list[met][0][0],-coeff)],'products':[]}\n",
    "                else:\n",
    "                    rxn_met_dict[rxn_list[rxn][0][0]] = {'substrates':[],'products':[(met_list[met][0][0],coeff)]}\n",
    "                \n",
    "    met_rxn_network = nx.DiGraph()\n",
    "\n",
    "    for rxn in rxn_met_dict:\n",
    "        sl = rxn_met_dict[rxn]['substrates']\n",
    "        pl = rxn_met_dict[rxn]['products']\n",
    "        \n",
    "        # skip reaction if one of the fields is missing\n",
    "        \n",
    "        if not (sl and pl):\n",
    "            continue\n",
    "\n",
    "        for s in sl:\n",
    "            s_id, s_coef = s\n",
    "            met_rxn_network.add_edge(s_id,rxn, coef=s_coef)\n",
    "\n",
    "        for p in pl:\n",
    "            p_id, p_coef = p\n",
    "            met_rxn_network.add_edge(rxn,p_id, coef=s_coef)\n",
    "    \n",
    "    return met_rxn_network"
   ]
  },
  {
   "cell_type": "code",
   "execution_count": null,
   "metadata": {},
   "outputs": [],
   "source": [
    "all_rxns = set()\n",
    "all_mets = set()\n",
    "bacs = {}\n",
    "\n",
    "all_files = sorted(listdir('./reconstructions/mat/'))\n",
    "\n",
    "problems = ['.DS_Store','Roseburia_hominis_A2_183.mat']#['Roseburia_hominis_A2_183',,'.DS_Store','Ruminococcus_sp_18P13','Ruminococcus_sp_18P13.mat']\n",
    "\n",
    "for file in all_files:\n",
    "    print(file[:-4])\n",
    "    \n",
    "    if file in problems:\n",
    "        continue\n",
    "    \n",
    "    file_path = './reconstructions/mat/'+file\n",
    "    \n",
    "    rxns = get_rxns(file_path)\n",
    "    mets = get_mets(file_path)\n",
    "        \n",
    "    bacs[file[:-4]] = (rxns,mets)"
   ]
  },
  {
   "cell_type": "code",
   "execution_count": 144,
   "metadata": {},
   "outputs": [],
   "source": [
    "with open('all_bacs.pickle', 'wb') as handle:\n",
    "    pickle.dump(bacs, handle)"
   ]
  },
  {
   "cell_type": "code",
   "execution_count": 145,
   "metadata": {},
   "outputs": [
    {
     "name": "stdout",
     "output_type": "stream",
     "text": [
      "5417\n",
      "2473\n"
     ]
    }
   ],
   "source": [
    "all_rxns = set()\n",
    "all_mets = set()\n",
    "\n",
    "for bac,data in bacs.items():\n",
    "    all_rxns.update(data[0])\n",
    "    all_mets.update(data[1])\n",
    "    \n",
    "print(len(all_rxns))\n",
    "print(len(all_mets))"
   ]
  },
  {
   "cell_type": "code",
   "execution_count": 146,
   "metadata": {},
   "outputs": [],
   "source": [
    "np.save('all_rxns.npy',sorted(list(all_rxns)))\n",
    "np.save('all_mets.npy',sorted(list(all_mets)))"
   ]
  },
  {
   "cell_type": "code",
   "execution_count": null,
   "metadata": {},
   "outputs": [],
   "source": [
    "all_rxns = np.load('Generated_Data/all_rxns.npy')\n",
    "all_mets = np.load('Generated_Data/all_mets.npy')\n",
    "all_bacs = pickle.load( open( \"Generated_Data/all_bacs.pickle\", \"rb\" ) )"
   ]
  },
  {
   "cell_type": "code",
   "execution_count": 96,
   "metadata": {},
   "outputs": [],
   "source": [
    "bac_rxn_ind = {}\n",
    "bac_met_ind = {}"
   ]
  },
  {
   "cell_type": "code",
   "execution_count": 97,
   "metadata": {},
   "outputs": [],
   "source": [
    "for bac,data in all_bacs.items():\n",
    "    bac_rxn_ind[bac] = [rxn in data[0] for rxn in all_rxns]\n",
    "    bac_met_ind[bac] = [met in data[1] for met in all_mets]"
   ]
  },
  {
   "cell_type": "code",
   "execution_count": 98,
   "metadata": {},
   "outputs": [],
   "source": [
    "with open('bac_rxn_ind.pickle', 'wb') as handle:\n",
    "    pickle.dump(bac_rxn_ind, handle)\n",
    "with open('bac_met_ind.pickle', 'wb') as handle:\n",
    "    pickle.dump(bac_met_ind, handle)"
   ]
  },
  {
   "cell_type": "markdown",
   "metadata": {},
   "source": [
    "# Taxonomy Data"
   ]
  },
  {
   "cell_type": "markdown",
   "metadata": {},
   "source": [
    "### Get taxonomy for each microbe reconstruction"
   ]
  },
  {
   "cell_type": "code",
   "execution_count": 5,
   "metadata": {},
   "outputs": [],
   "source": [
    "tax = pd.read_csv('Data/microbes_taxonomy.tsv',sep='\\t')\n",
    "#tax.head()"
   ]
  },
  {
   "cell_type": "code",
   "execution_count": 6,
   "metadata": {},
   "outputs": [],
   "source": [
    "# find the microbe with the highest reaction count for each phylum, class, order, family and genus\n",
    "\n",
    "p_max = {}\n",
    "c_max = {}\n",
    "o_max = {}\n",
    "f_max = {}\n",
    "g_max = {}\n",
    "\n",
    "for i,row in tax.iterrows():\n",
    "    p, c, o, f, g = row[['phylum','mclass','order','family','genus']]\n",
    "    org = row['organism']\n",
    "    rxn_count = row['reactions']\n",
    "    \n",
    "    if p in p_max:\n",
    "        if p_max[p]['rxn_count'] < rxn_count:\n",
    "            p_max[p]['rxn_count'] = rxn_count\n",
    "            p_max[p]['name'] = org\n",
    "    else:\n",
    "        p_max[p] = {'name':org, 'rxn_count':rxn_count}\n",
    "        \n",
    "    if c in c_max:\n",
    "        if c_max[c]['rxn_count'] < rxn_count:\n",
    "            c_max[c]['rxn_count'] = rxn_count\n",
    "            c_max[c]['name'] = org\n",
    "    else:\n",
    "        c_max[c] = {'name':org, 'rxn_count':rxn_count}\n",
    "        \n",
    "    if o in o_max:\n",
    "        if o_max[o]['rxn_count'] < rxn_count:\n",
    "            o_max[o]['rxn_count'] = rxn_count\n",
    "            o_max[o]['name'] = org\n",
    "    else:\n",
    "        o_max[o] = {'name':org, 'rxn_count':rxn_count}\n",
    "        \n",
    "    if f in f_max:\n",
    "        if f_max[f]['rxn_count'] < rxn_count:\n",
    "            f_max[f]['rxn_count'] = rxn_count\n",
    "            f_max[f]['name'] = org\n",
    "    else:\n",
    "        f_max[f] = {'name':org, 'rxn_count':rxn_count}\n",
    "        \n",
    "    if g in g_max:\n",
    "        if g_max[g]['rxn_count'] < rxn_count:\n",
    "            g_max[g]['rxn_count'] = rxn_count\n",
    "            g_max[g]['name'] = org\n",
    "    else:\n",
    "        g_max[g] = {'name':org, 'rxn_count':rxn_count}"
   ]
  },
  {
   "cell_type": "markdown",
   "metadata": {},
   "source": [
    "# Cooccurrence"
   ]
  },
  {
   "cell_type": "markdown",
   "metadata": {},
   "source": [
    "### Parse co-occurrence dataset and find appropriate microbes"
   ]
  },
  {
   "cell_type": "code",
   "execution_count": 7,
   "metadata": {},
   "outputs": [],
   "source": [
    "co_occ = pd.read_excel('Data/co-occurrence.XLSX')"
   ]
  },
  {
   "cell_type": "code",
   "execution_count": 8,
   "metadata": {},
   "outputs": [],
   "source": [
    "co_occ = co_occ[['Clade 1','Clade 2','Direction']]\n",
    "co_occ['microbe 1'] = None\n",
    "co_occ['file path 1'] = None\n",
    "co_occ['microbe 2'] = None\n",
    "co_occ['file path 2'] = None\n",
    "\n",
    "co_occ = co_occ[np.logical_or(co_occ['Direction']<=-2,co_occ['Direction']>=2)]\n",
    "\n",
    "for i,row in co_occ.iterrows():\n",
    "    t1 = row['Clade 1'].split('-')\n",
    "    t1 = t1[0] if t1[1] == 'unclassified' else t1[1]\n",
    "    t2 = row['Clade 2'].split('-')\n",
    "    t2 = t2[0] if t2[1] == 'unclassified' else t2[1]\n",
    "    \n",
    "    m1 = None\n",
    "    m2 = None\n",
    "    \n",
    "    # use the most specific microbe available with the given info\n",
    "    \n",
    "    if t1 in p_max:\n",
    "        m1 = p_max[t1]['name']\n",
    "    if t1 in c_max:\n",
    "        m1 = c_max[t1]['name']\n",
    "    if t1 in o_max:\n",
    "        m1 = o_max[t1]['name']\n",
    "    if t1 in f_max:\n",
    "        m1 = f_max[t1]['name']\n",
    "    if t1 in g_max:\n",
    "        m1 = g_max[t1]['name']\n",
    "        \n",
    "    if t2 in p_max:\n",
    "        m2 = p_max[t2]['name']\n",
    "    if t2 in c_max:\n",
    "        m2 = c_max[t2]['name']\n",
    "    if t2 in o_max:\n",
    "        m2 = o_max[t2]['name']\n",
    "    if t2 in f_max:\n",
    "        m2 = f_max[t2]['name']\n",
    "    if t2 in g_max:\n",
    "        m2 = g_max[t2]['name']\n",
    "        \n",
    "    if m1 and m2:\n",
    "        f1 = './reconstructions/mat/' + re.sub('[^0-9a-zA-Z]+', '_', m1) + '.mat'\n",
    "        f2 = './reconstructions/mat/' + re.sub('[^0-9a-zA-Z]+', '_', m2) + '.mat'\n",
    "        co_occ.loc[i,['microbe 1','file path 1','microbe 2','file path 2']] = [m1,f1,m2,f2]"
   ]
  },
  {
   "cell_type": "code",
   "execution_count": 9,
   "metadata": {},
   "outputs": [],
   "source": [
    "co_occ = co_occ.dropna()\n",
    "co_occ = co_occ[co_occ['microbe 1']!=co_occ['microbe 2']]"
   ]
  },
  {
   "cell_type": "code",
   "execution_count": 10,
   "metadata": {},
   "outputs": [],
   "source": [
    "# rxn to bacteria-gene pair list dict\n",
    "rxn_bac_gene_dict = defaultdict(dict)"
   ]
  },
  {
   "cell_type": "markdown",
   "metadata": {},
   "source": [
    "### Number of pairs in the dataset"
   ]
  },
  {
   "cell_type": "code",
   "execution_count": 11,
   "metadata": {},
   "outputs": [
    {
     "data": {
      "text/plain": [
       "440"
      ]
     },
     "execution_count": 11,
     "metadata": {},
     "output_type": "execute_result"
    }
   ],
   "source": [
    "s = set()\n",
    "for m_pair in zip(co_occ['microbe 1'],co_occ['microbe 2']):\n",
    "    if m_pair[0]!=m_pair[1]:\n",
    "        s.add(tuple(sorted(m_pair)))\n",
    "len(s)"
   ]
  },
  {
   "cell_type": "code",
   "execution_count": 12,
   "metadata": {},
   "outputs": [
    {
     "data": {
      "text/plain": [
       "-6"
      ]
     },
     "execution_count": 12,
     "metadata": {},
     "output_type": "execute_result"
    }
   ],
   "source": [
    "min(co_occ['Direction'])"
   ]
  },
  {
   "cell_type": "code",
   "execution_count": 13,
   "metadata": {},
   "outputs": [
    {
     "data": {
      "text/plain": [
       "0.5818798449612403"
      ]
     },
     "execution_count": 13,
     "metadata": {},
     "output_type": "execute_result"
    }
   ],
   "source": [
    "np.mean(co_occ['Direction']<=0)"
   ]
  },
  {
   "cell_type": "markdown",
   "metadata": {},
   "source": [
    "### Prepare data for indicator encoding of reactions"
   ]
  },
  {
   "cell_type": "code",
   "execution_count": 14,
   "metadata": {},
   "outputs": [
    {
     "name": "stdout",
     "output_type": "stream",
     "text": [
      "all reactions collected\n",
      "100\n",
      "200\n",
      "300\n",
      "400\n",
      "data set constructed\n"
     ]
    }
   ],
   "source": [
    "co_occ_X = []\n",
    "co_occ_y = []\n",
    "\n",
    "rxn_set = set()\n",
    "\n",
    "bacs = {}\n",
    "\n",
    "pairs_collected = set()\n",
    "\n",
    "for i,row in co_occ.iterrows():\n",
    "    if tuple(sorted([row['microbe 1'],row['microbe 2']])) in pairs_collected:\n",
    "        continue\n",
    "    else:\n",
    "        pairs_collected.add(tuple(sorted([row['microbe 1'],row['microbe 2']])))\n",
    "    if row['microbe 1'] not in bacs:\n",
    "        bacs[row['microbe 1']] = get_rxns(row['file path 1'])\n",
    "        rxn_set.update(bacs[row['microbe 1']])\n",
    "    if row['microbe 2'] not in bacs:\n",
    "        bacs[row['microbe 2']] = get_rxns(row['file path 2'])\n",
    "        rxn_set.update(bacs[row['microbe 2']])\n",
    "    \n",
    "print('all reactions collected')\n",
    "\n",
    "rxn_list = sorted(list(rxn_set))\n",
    "\n",
    "pairs_collected = set()\n",
    "\n",
    "for i,row in co_occ.iterrows():\n",
    "    if tuple(sorted([row['microbe 1'],row['microbe 2']])) in pairs_collected:\n",
    "        continue\n",
    "    else:\n",
    "        pairs_collected.add(tuple(sorted([row['microbe 1'],row['microbe 2']])))\n",
    "    x_1 = np.array([rxn in bacs[row['microbe 1']] for rxn in rxn_list])\n",
    "    x_2 = np.array([rxn in bacs[row['microbe 2']] for rxn in rxn_list])\n",
    "    y = row['Direction']\n",
    "    co_occ_X.append(np.logical_or(x_1,x_2))\n",
    "    co_occ_y.append(y)\n",
    "    if len(co_occ_y) % 100 == 0:\n",
    "        print(len(co_occ_y))\n",
    "    \n",
    "print('data set constructed')"
   ]
  },
  {
   "cell_type": "code",
   "execution_count": null,
   "metadata": {},
   "outputs": [],
   "source": [
    "np.save('co_occ_X',co_occ_X)\n",
    "np.save('co_occ_y',co_occ_y)"
   ]
  },
  {
   "cell_type": "markdown",
   "metadata": {},
   "source": [
    "### Compare with AGORA Pairwise Growth Data"
   ]
  },
  {
   "cell_type": "code",
   "execution_count": 15,
   "metadata": {},
   "outputs": [
    {
     "data": {
      "text/html": [
       "<div>\n",
       "<style scoped>\n",
       "    .dataframe tbody tr th:only-of-type {\n",
       "        vertical-align: middle;\n",
       "    }\n",
       "\n",
       "    .dataframe tbody tr th {\n",
       "        vertical-align: top;\n",
       "    }\n",
       "\n",
       "    .dataframe thead th {\n",
       "        text-align: right;\n",
       "    }\n",
       "</style>\n",
       "<table border=\"1\" class=\"dataframe\">\n",
       "  <thead>\n",
       "    <tr style=\"text-align: right;\">\n",
       "      <th></th>\n",
       "      <th>Clade 1</th>\n",
       "      <th>Clade 2</th>\n",
       "      <th>Direction</th>\n",
       "      <th>microbe 1</th>\n",
       "      <th>file path 1</th>\n",
       "      <th>microbe 2</th>\n",
       "      <th>file path 2</th>\n",
       "    </tr>\n",
       "  </thead>\n",
       "  <tbody>\n",
       "    <tr>\n",
       "      <td>0</td>\n",
       "      <td>Staphylococcaceae-Gemella</td>\n",
       "      <td>Veillonellaceae-Megasphaera</td>\n",
       "      <td>-2</td>\n",
       "      <td>Gemella sanguinis ATCC700632</td>\n",
       "      <td>./reconstructions/mat/Gemella_sanguinis_ATCC70...</td>\n",
       "      <td>Megasphaera elsdenii DSM 20460</td>\n",
       "      <td>./reconstructions/mat/Megasphaera_elsdenii_DSM...</td>\n",
       "    </tr>\n",
       "    <tr>\n",
       "      <td>1</td>\n",
       "      <td>Staphylococcaceae-Gemella</td>\n",
       "      <td>Prevotellaceae-Prevotella</td>\n",
       "      <td>-3</td>\n",
       "      <td>Gemella sanguinis ATCC700632</td>\n",
       "      <td>./reconstructions/mat/Gemella_sanguinis_ATCC70...</td>\n",
       "      <td>Prevotella salivae DSM 15606</td>\n",
       "      <td>./reconstructions/mat/Prevotella_salivae_DSM_1...</td>\n",
       "    </tr>\n",
       "    <tr>\n",
       "      <td>2</td>\n",
       "      <td>Staphylococcaceae-Gemella</td>\n",
       "      <td>Flavobacteriaceae-unclassified</td>\n",
       "      <td>2</td>\n",
       "      <td>Gemella sanguinis ATCC700632</td>\n",
       "      <td>./reconstructions/mat/Gemella_sanguinis_ATCC70...</td>\n",
       "      <td>Capnocytophaga sputigena ATCC 33612</td>\n",
       "      <td>./reconstructions/mat/Capnocytophaga_sputigena...</td>\n",
       "    </tr>\n",
       "    <tr>\n",
       "      <td>3</td>\n",
       "      <td>Staphylococcaceae-Gemella</td>\n",
       "      <td>Bacteroidales-Prevotellaceae</td>\n",
       "      <td>-3</td>\n",
       "      <td>Gemella sanguinis ATCC700632</td>\n",
       "      <td>./reconstructions/mat/Gemella_sanguinis_ATCC70...</td>\n",
       "      <td>Prevotella salivae DSM 15606</td>\n",
       "      <td>./reconstructions/mat/Prevotella_salivae_DSM_1...</td>\n",
       "    </tr>\n",
       "    <tr>\n",
       "      <td>4</td>\n",
       "      <td>Staphylococcaceae-Gemella</td>\n",
       "      <td>Firmicutes-Clostridia</td>\n",
       "      <td>-3</td>\n",
       "      <td>Gemella sanguinis ATCC700632</td>\n",
       "      <td>./reconstructions/mat/Gemella_sanguinis_ATCC70...</td>\n",
       "      <td>Clostridium celatum DSM 1785</td>\n",
       "      <td>./reconstructions/mat/Clostridium_celatum_DSM_...</td>\n",
       "    </tr>\n",
       "  </tbody>\n",
       "</table>\n",
       "</div>"
      ],
      "text/plain": [
       "                     Clade 1                         Clade 2  Direction  \\\n",
       "0  Staphylococcaceae-Gemella     Veillonellaceae-Megasphaera         -2   \n",
       "1  Staphylococcaceae-Gemella       Prevotellaceae-Prevotella         -3   \n",
       "2  Staphylococcaceae-Gemella  Flavobacteriaceae-unclassified          2   \n",
       "3  Staphylococcaceae-Gemella    Bacteroidales-Prevotellaceae         -3   \n",
       "4  Staphylococcaceae-Gemella           Firmicutes-Clostridia         -3   \n",
       "\n",
       "                      microbe 1  \\\n",
       "0  Gemella sanguinis ATCC700632   \n",
       "1  Gemella sanguinis ATCC700632   \n",
       "2  Gemella sanguinis ATCC700632   \n",
       "3  Gemella sanguinis ATCC700632   \n",
       "4  Gemella sanguinis ATCC700632   \n",
       "\n",
       "                                         file path 1  \\\n",
       "0  ./reconstructions/mat/Gemella_sanguinis_ATCC70...   \n",
       "1  ./reconstructions/mat/Gemella_sanguinis_ATCC70...   \n",
       "2  ./reconstructions/mat/Gemella_sanguinis_ATCC70...   \n",
       "3  ./reconstructions/mat/Gemella_sanguinis_ATCC70...   \n",
       "4  ./reconstructions/mat/Gemella_sanguinis_ATCC70...   \n",
       "\n",
       "                             microbe 2  \\\n",
       "0       Megasphaera elsdenii DSM 20460   \n",
       "1         Prevotella salivae DSM 15606   \n",
       "2  Capnocytophaga sputigena ATCC 33612   \n",
       "3         Prevotella salivae DSM 15606   \n",
       "4         Clostridium celatum DSM 1785   \n",
       "\n",
       "                                         file path 2  \n",
       "0  ./reconstructions/mat/Megasphaera_elsdenii_DSM...  \n",
       "1  ./reconstructions/mat/Prevotella_salivae_DSM_1...  \n",
       "2  ./reconstructions/mat/Capnocytophaga_sputigena...  \n",
       "3  ./reconstructions/mat/Prevotella_salivae_DSM_1...  \n",
       "4  ./reconstructions/mat/Clostridium_celatum_DSM_...  "
      ]
     },
     "execution_count": 15,
     "metadata": {},
     "output_type": "execute_result"
    }
   ],
   "source": [
    "co_occ.head()"
   ]
  },
  {
   "cell_type": "markdown",
   "metadata": {},
   "source": [
    "# Pairwise growth rate data"
   ]
  },
  {
   "cell_type": "code",
   "execution_count": 69,
   "metadata": {},
   "outputs": [],
   "source": [
    "pairwise = pd.read_excel('Data/pairwise_S9.xlsx')"
   ]
  },
  {
   "cell_type": "code",
   "execution_count": 17,
   "metadata": {},
   "outputs": [],
   "source": [
    "pairwise['WD An Ratio'] = 0\n",
    "pairwise['WD Ae Ratio'] = 0\n",
    "pairwise['HFD An Ratio'] = 0\n",
    "pairwise['HFD Ae Ratio'] = 0"
   ]
  },
  {
   "cell_type": "markdown",
   "metadata": {},
   "source": [
    "### WARNING: takes very long to run"
   ]
  },
  {
   "cell_type": "code",
   "execution_count": 18,
   "metadata": {},
   "outputs": [],
   "source": [
    "for i,row in pairwise.iterrows():\n",
    "    pairwise.loc[i,'WD An Ratio'] = min(row['WesternDietAnaerobic_Strain1'],row['WesternDietAnaerobic_Strain2'])/max(row['WesternDietAnaerobic_Strain1'],row['WesternDietAnaerobic_Strain2'])\n",
    "    pairwise.loc[i,'WD Ae Ratio'] = min(row['WesternDietAerobic_Strain1'],row['WesternDietAerobic_Strain2'])/max(row['WesternDietAerobic_Strain1'],row['WesternDietAerobic_Strain2'])\n",
    "    pairwise.loc[i,'HFD An Ratio'] = min(row['HighFiberDietAnaerobic_Strain1'],row['HighFiberDietAnaerobic_Strain2'])/max(row['HighFiberDietAnaerobic_Strain1'],row['HighFiberDietAnaerobic_Strain2'])\n",
    "    pairwise.loc[i,'HFD Ae Ratio'] = min(row['HighFiberDietAerobic_Strain1'],row['HighFiberDietAerobic_Strain2'])/max(row['HighFiberDietAerobic_Strain1'],row['HighFiberDietAerobic_Strain2'])"
   ]
  },
  {
   "cell_type": "code",
   "execution_count": 19,
   "metadata": {},
   "outputs": [
    {
     "data": {
      "text/html": [
       "<div>\n",
       "<style scoped>\n",
       "    .dataframe tbody tr th:only-of-type {\n",
       "        vertical-align: middle;\n",
       "    }\n",
       "\n",
       "    .dataframe tbody tr th {\n",
       "        vertical-align: top;\n",
       "    }\n",
       "\n",
       "    .dataframe thead th {\n",
       "        text-align: right;\n",
       "    }\n",
       "</style>\n",
       "<table border=\"1\" class=\"dataframe\">\n",
       "  <thead>\n",
       "    <tr style=\"text-align: right;\">\n",
       "      <th></th>\n",
       "      <th>Strain1</th>\n",
       "      <th>Strain2</th>\n",
       "      <th>MetabolicDistance</th>\n",
       "      <th>WesternDietAnaerobic_Strain1</th>\n",
       "      <th>WesternDietAnaerobic_Strain2</th>\n",
       "      <th>WesternDietAerobic_Strain1</th>\n",
       "      <th>WesternDietAerobic_Strain2</th>\n",
       "      <th>HighFiberDietAnaerobic_Strain1</th>\n",
       "      <th>HighFiberDietAnaerobic_Strain2</th>\n",
       "      <th>HighFiberDietAerobic_Strain1</th>\n",
       "      <th>HighFiberDietAerobic_Strain2</th>\n",
       "      <th>WD An Ratio</th>\n",
       "      <th>WD Ae Ratio</th>\n",
       "      <th>HFD An Ratio</th>\n",
       "      <th>HFD Ae Ratio</th>\n",
       "    </tr>\n",
       "  </thead>\n",
       "  <tbody>\n",
       "    <tr>\n",
       "      <td>0</td>\n",
       "      <td>Abiotrophia_defectiva_ATCC_49176</td>\n",
       "      <td>Acidaminococcus_fermentans_DSM_20731</td>\n",
       "      <td>0.506916</td>\n",
       "      <td>0.083975</td>\n",
       "      <td>0.323212</td>\n",
       "      <td>0.102995</td>\n",
       "      <td>0.367884</td>\n",
       "      <td>0.150243</td>\n",
       "      <td>0.228819</td>\n",
       "      <td>0.179257</td>\n",
       "      <td>0.228819</td>\n",
       "      <td>0.259815</td>\n",
       "      <td>0.279965</td>\n",
       "      <td>0.656602</td>\n",
       "      <td>0.783401</td>\n",
       "    </tr>\n",
       "    <tr>\n",
       "      <td>1</td>\n",
       "      <td>Abiotrophia_defectiva_ATCC_49176</td>\n",
       "      <td>Acidaminococcus_intestini_RyC_MR95</td>\n",
       "      <td>0.490856</td>\n",
       "      <td>0.235220</td>\n",
       "      <td>0.389636</td>\n",
       "      <td>0.242811</td>\n",
       "      <td>0.443023</td>\n",
       "      <td>0.231492</td>\n",
       "      <td>0.403192</td>\n",
       "      <td>0.229546</td>\n",
       "      <td>0.432670</td>\n",
       "      <td>0.603693</td>\n",
       "      <td>0.548077</td>\n",
       "      <td>0.574149</td>\n",
       "      <td>0.530534</td>\n",
       "    </tr>\n",
       "    <tr>\n",
       "      <td>2</td>\n",
       "      <td>Abiotrophia_defectiva_ATCC_49176</td>\n",
       "      <td>Acidaminococcus_sp_D21</td>\n",
       "      <td>0.534351</td>\n",
       "      <td>0.181236</td>\n",
       "      <td>0.091164</td>\n",
       "      <td>0.194221</td>\n",
       "      <td>0.132466</td>\n",
       "      <td>0.177800</td>\n",
       "      <td>0.096361</td>\n",
       "      <td>0.191920</td>\n",
       "      <td>0.122726</td>\n",
       "      <td>0.503013</td>\n",
       "      <td>0.682040</td>\n",
       "      <td>0.541963</td>\n",
       "      <td>0.639462</td>\n",
       "    </tr>\n",
       "    <tr>\n",
       "      <td>3</td>\n",
       "      <td>Abiotrophia_defectiva_ATCC_49176</td>\n",
       "      <td>Acinetobacter_calcoaceticus_PHEA_2</td>\n",
       "      <td>0.539700</td>\n",
       "      <td>0.125950</td>\n",
       "      <td>0.447691</td>\n",
       "      <td>0.115378</td>\n",
       "      <td>1.220015</td>\n",
       "      <td>0.148777</td>\n",
       "      <td>0.397997</td>\n",
       "      <td>0.155532</td>\n",
       "      <td>1.166038</td>\n",
       "      <td>0.281331</td>\n",
       "      <td>0.094571</td>\n",
       "      <td>0.373814</td>\n",
       "      <td>0.133385</td>\n",
       "    </tr>\n",
       "    <tr>\n",
       "      <td>4</td>\n",
       "      <td>Abiotrophia_defectiva_ATCC_49176</td>\n",
       "      <td>Acinetobacter_haemolyticus_NIPH_261</td>\n",
       "      <td>0.521845</td>\n",
       "      <td>0.033281</td>\n",
       "      <td>0.363215</td>\n",
       "      <td>0.414591</td>\n",
       "      <td>0.457639</td>\n",
       "      <td>0.134721</td>\n",
       "      <td>0.228819</td>\n",
       "      <td>0.496263</td>\n",
       "      <td>0.228819</td>\n",
       "      <td>0.091628</td>\n",
       "      <td>0.905936</td>\n",
       "      <td>0.588764</td>\n",
       "      <td>0.461085</td>\n",
       "    </tr>\n",
       "  </tbody>\n",
       "</table>\n",
       "</div>"
      ],
      "text/plain": [
       "                            Strain1                               Strain2  \\\n",
       "0  Abiotrophia_defectiva_ATCC_49176  Acidaminococcus_fermentans_DSM_20731   \n",
       "1  Abiotrophia_defectiva_ATCC_49176    Acidaminococcus_intestini_RyC_MR95   \n",
       "2  Abiotrophia_defectiva_ATCC_49176                Acidaminococcus_sp_D21   \n",
       "3  Abiotrophia_defectiva_ATCC_49176    Acinetobacter_calcoaceticus_PHEA_2   \n",
       "4  Abiotrophia_defectiva_ATCC_49176   Acinetobacter_haemolyticus_NIPH_261   \n",
       "\n",
       "   MetabolicDistance  WesternDietAnaerobic_Strain1  \\\n",
       "0           0.506916                      0.083975   \n",
       "1           0.490856                      0.235220   \n",
       "2           0.534351                      0.181236   \n",
       "3           0.539700                      0.125950   \n",
       "4           0.521845                      0.033281   \n",
       "\n",
       "   WesternDietAnaerobic_Strain2  WesternDietAerobic_Strain1  \\\n",
       "0                      0.323212                    0.102995   \n",
       "1                      0.389636                    0.242811   \n",
       "2                      0.091164                    0.194221   \n",
       "3                      0.447691                    0.115378   \n",
       "4                      0.363215                    0.414591   \n",
       "\n",
       "   WesternDietAerobic_Strain2  HighFiberDietAnaerobic_Strain1  \\\n",
       "0                    0.367884                        0.150243   \n",
       "1                    0.443023                        0.231492   \n",
       "2                    0.132466                        0.177800   \n",
       "3                    1.220015                        0.148777   \n",
       "4                    0.457639                        0.134721   \n",
       "\n",
       "   HighFiberDietAnaerobic_Strain2  HighFiberDietAerobic_Strain1  \\\n",
       "0                        0.228819                      0.179257   \n",
       "1                        0.403192                      0.229546   \n",
       "2                        0.096361                      0.191920   \n",
       "3                        0.397997                      0.155532   \n",
       "4                        0.228819                      0.496263   \n",
       "\n",
       "   HighFiberDietAerobic_Strain2  WD An Ratio  WD Ae Ratio  HFD An Ratio  \\\n",
       "0                      0.228819     0.259815     0.279965      0.656602   \n",
       "1                      0.432670     0.603693     0.548077      0.574149   \n",
       "2                      0.122726     0.503013     0.682040      0.541963   \n",
       "3                      1.166038     0.281331     0.094571      0.373814   \n",
       "4                      0.228819     0.091628     0.905936      0.588764   \n",
       "\n",
       "   HFD Ae Ratio  \n",
       "0      0.783401  \n",
       "1      0.530534  \n",
       "2      0.639462  \n",
       "3      0.133385  \n",
       "4      0.461085  "
      ]
     },
     "execution_count": 19,
     "metadata": {},
     "output_type": "execute_result"
    }
   ],
   "source": [
    "pairwise.head()"
   ]
  },
  {
   "cell_type": "code",
   "execution_count": null,
   "metadata": {},
   "outputs": [],
   "source": [
    "co_occ_dict = {}\n",
    "\n",
    "for i, row in co_occ.iterrows():\n",
    "    pair = tuple(sorted([row['file path 1'][22:-4],row['file path 2'][22:-4]]))\n",
    "    co_occ_dict[pair] = row['Direction']\n",
    "    \n",
    "pairwise_dict = {}\n",
    "\n",
    "for i, row in pairwise.iterrows():\n",
    "    if i % 10000 == 0:\n",
    "        print(i)\n",
    "    pair = tuple([row['Strain1'],row['Strain2']])\n",
    "    pairwise_dict[pair] = row[['MetabolicDistance','WD An Ratio','WD Ae Ratio','HFD An Ratio','HFD Ae Ratio']]\n"
   ]
  },
  {
   "cell_type": "code",
   "execution_count": 21,
   "metadata": {},
   "outputs": [],
   "source": [
    "directions = []\n",
    "ratios = {'MetabolicDistance':[],'WD An Ratio':[],'WD Ae Ratio':[],'HFD An Ratio':[],'HFD Ae Ratio':[]}\n",
    "\n",
    "for pair,direction in co_occ_dict.items():\n",
    "    if pair in pairwise_dict:\n",
    "        directions.append(direction)\n",
    "        for attr in ratios.keys():\n",
    "            ratios[attr].append(pairwise_dict[pair][attr])"
   ]
  },
  {
   "cell_type": "code",
   "execution_count": 23,
   "metadata": {},
   "outputs": [],
   "source": [
    "with open('pairwise_growth.pickle', 'wb') as handle:\n",
    "    pickle.dump(ratios, handle)"
   ]
  },
  {
   "cell_type": "code",
   "execution_count": 24,
   "metadata": {},
   "outputs": [],
   "source": [
    "with open('pairwise_coocc.pickle', 'wb') as handle:\n",
    "    pickle.dump(directions, handle)"
   ]
  },
  {
   "cell_type": "code",
   "execution_count": 22,
   "metadata": {},
   "outputs": [
    {
     "data": {
      "text/plain": [
       "Text(0.5, 0, 'Cooccurrence Direction')"
      ]
     },
     "execution_count": 22,
     "metadata": {},
     "output_type": "execute_result"
    },
    {
     "data": {
      "image/png": "[encoded data removed]",
      "text/plain": [
       "<Figure size 1728x576 with 1 Axes>"
      ]
     },
     "metadata": {
      "needs_background": "light"
     },
     "output_type": "display_data"
    }
   ],
   "source": [
    "_, ax = plt.subplots(figsize=(24,8))\n",
    "\n",
    "sns.boxplot(directions,ratios['MetabolicDistance'],ax=ax)\n",
    "ax.set_title('Cooccurrence vs Metabolic Distance')\n",
    "ax.set_ylabel('Metabolic Distance')\n",
    "ax.set_xlabel('Cooccurrence Direction')"
   ]
  },
  {
   "cell_type": "code",
   "execution_count": 25,
   "metadata": {},
   "outputs": [
    {
     "name": "stdout",
     "output_type": "stream",
     "text": [
      "Pearson Correlation: -0.17312774539902231\n",
      "r^2: 0.029973216226948485\n"
     ]
    }
   ],
   "source": [
    "print('Pearson Correlation: ', end='')\n",
    "print(np.corrcoef(ratios['MetabolicDistance'],directions)[0,1])\n",
    "\n",
    "lr = linear_model.LinearRegression()\n",
    "\n",
    "lr.fit(np.array(ratios['MetabolicDistance']).reshape(-1,1),directions)\n",
    "print('r^2: '+str(lr.score(np.array(ratios['MetabolicDistance']).reshape(-1,1),directions)))"
   ]
  },
  {
   "cell_type": "code",
   "execution_count": 26,
   "metadata": {},
   "outputs": [
    {
     "data": {
      "text/plain": [
       "Text(0, 0.5, 'Log Ratio')"
      ]
     },
     "execution_count": 26,
     "metadata": {},
     "output_type": "execute_result"
    },
    {
     "data": {
      "image/png": "[encoded data removed]",
      "text/plain": [
       "<Figure size 1728x576 with 2 Axes>"
      ]
     },
     "metadata": {
      "needs_background": "light"
     },
     "output_type": "display_data"
    }
   ],
   "source": [
    "_, axes = plt.subplots(1,2,figsize=(24,8))\n",
    "\n",
    "sns.boxplot(directions,np.log(ratios['WD An Ratio']),ax=axes[0])\n",
    "axes[0].set_title('Pairwise Growth Log Ratio (Western - Anaerobic) as a function of Cooccurrence')\n",
    "axes[0].set_xlabel('Cooccurrence Direction')\n",
    "axes[0].set_ylabel('Log Ratio')\n",
    "\n",
    "sns.boxplot(directions,np.log(ratios['WD Ae Ratio']),ax=axes[1])\n",
    "axes[1].set_title('Pairwise Growth Log Ratio (Western - Aerobic) as a function of Cooccurrence')\n",
    "axes[1].set_xlabel('Cooccurrence Direction')\n",
    "axes[1].set_ylabel('Log Ratio')"
   ]
  },
  {
   "cell_type": "code",
   "execution_count": 27,
   "metadata": {},
   "outputs": [
    {
     "name": "stdout",
     "output_type": "stream",
     "text": [
      "Left:\n",
      "Pearson Correlation: 0.020584302008161345\n",
      "r^2: 0.00042371348916314666\n",
      "Right:\n",
      "Pearson Correlation: 0.0794381500036905\n",
      "r^2: 0.0063104196760086495\n"
     ]
    }
   ],
   "source": [
    "print('Left:')\n",
    "print('Pearson Correlation: ', end='')\n",
    "print(np.corrcoef(np.log(ratios['WD An Ratio']),directions)[0,1])\n",
    "\n",
    "lr = linear_model.LinearRegression()\n",
    "\n",
    "lr.fit(np.log(np.array(ratios['WD An Ratio'])).reshape(-1,1),directions)\n",
    "print('r^2: '+str(lr.score(np.log(np.array(ratios['WD An Ratio'])).reshape(-1,1),directions)))\n",
    "\n",
    "print('Right:')\n",
    "print('Pearson Correlation: ', end='')\n",
    "print(np.corrcoef(np.log(ratios['WD Ae Ratio']),directions)[0,1])\n",
    "\n",
    "lr = linear_model.LinearRegression()\n",
    "\n",
    "lr.fit(np.log(np.array(ratios['WD Ae Ratio'])).reshape(-1,1),directions)\n",
    "print('r^2: '+str(lr.score(np.log(np.array(ratios['WD Ae Ratio'])).reshape(-1,1),directions)))"
   ]
  },
  {
   "cell_type": "markdown",
   "metadata": {},
   "source": [
    "### Cooccurrence and pairwise growth ratio are more correlated in an aerobic setting?"
   ]
  },
  {
   "cell_type": "code",
   "execution_count": 28,
   "metadata": {},
   "outputs": [
    {
     "data": {
      "text/plain": [
       "Text(0, 0.5, 'Log Ratio')"
      ]
     },
     "execution_count": 28,
     "metadata": {},
     "output_type": "execute_result"
    },
    {
     "data": {
      "image/png": "[encoded data removed]",
      "text/plain": [
       "<Figure size 1728x576 with 2 Axes>"
      ]
     },
     "metadata": {
      "needs_background": "light"
     },
     "output_type": "display_data"
    }
   ],
   "source": [
    "_, axes = plt.subplots(1,2,figsize=(24,8))\n",
    "\n",
    "sns.boxplot(directions,np.log(ratios['HFD An Ratio']),ax=axes[0])\n",
    "axes[0].set_title('Pairwise Growth Log Ratio (High Fiber - Anaerobic) as a function of Cooccurrence')\n",
    "axes[0].set_xlabel('Cooccurrence Direction')\n",
    "axes[0].set_ylabel('Log Ratio')\n",
    "\n",
    "sns.boxplot(directions,np.log(ratios['HFD Ae Ratio']),ax=axes[1])\n",
    "axes[1].set_title('Pairwise Growth Log Ratio (High Fiber - Aerobic) as a function of Cooccurrence')\n",
    "axes[1].set_xlabel('Cooccurrence Direction')\n",
    "axes[1].set_ylabel('Log Ratio')"
   ]
  },
  {
   "cell_type": "code",
   "execution_count": 29,
   "metadata": {},
   "outputs": [
    {
     "name": "stdout",
     "output_type": "stream",
     "text": [
      "Left:\n",
      "Pearson Correlation: -0.027091573954849846\n",
      "r^2: 0.0007339533793510044\n",
      "Right:\n",
      "Pearson Correlation: 0.08244438500816019\n",
      "r^2: 0.0067970766193736765\n"
     ]
    }
   ],
   "source": [
    "print('Left:')\n",
    "print('Pearson Correlation: ', end='')\n",
    "print(np.corrcoef(np.log(ratios['HFD An Ratio']),directions)[0,1])\n",
    "\n",
    "lr = linear_model.LinearRegression()\n",
    "\n",
    "lr.fit(np.log(np.array(ratios['HFD An Ratio'])).reshape(-1,1),directions)\n",
    "print('r^2: '+str(lr.score(np.log(np.array(ratios['HFD An Ratio'])).reshape(-1,1),directions)))\n",
    "\n",
    "print('Right:')\n",
    "print('Pearson Correlation: ', end='')\n",
    "print(np.corrcoef(np.log(ratios['HFD Ae Ratio']),directions)[0,1])\n",
    "\n",
    "lr = linear_model.LinearRegression()\n",
    "\n",
    "lr.fit(np.log(np.array(ratios['HFD Ae Ratio'])).reshape(-1,1),directions)\n",
    "print('r^2: '+str(lr.score(np.log(np.array(ratios['HFD Ae Ratio'])).reshape(-1,1),directions)))"
   ]
  },
  {
   "cell_type": "markdown",
   "metadata": {},
   "source": [
    "### Prepare pairwise data with indicator rxn vector"
   ]
  },
  {
   "cell_type": "code",
   "execution_count": null,
   "metadata": {},
   "outputs": [],
   "source": [
    "pairwise_WDAn_X = []\n",
    "pairwise_WDAn_y = []\n",
    "\n",
    "rxn_set = set()\n",
    "\n",
    "bacs = {}\n",
    "pairs = {}\n",
    "\n",
    "all_files = [file[:-4] for file in listdir('./reconstructions/mat/')]\n",
    "\n",
    "problems = ['Roseburia_hominis_A2_183','.DS_Store']"
   ]
  },
  {
   "cell_type": "code",
   "execution_count": null,
   "metadata": {},
   "outputs": [],
   "source": [
    "for i,row in pairwise.iterrows():\n",
    "    if i%10000 == 0:\n",
    "        print(i)\n",
    "    if not (row['Strain1'] in all_files and row['Strain2'] in all_files) or (row['Strain1'] in problems or row['Strain2'] in problems):\n",
    "        continue\n",
    "    if row['Strain1'] not in bacs:\n",
    "        print(row['Strain1'])\n",
    "        bacs[row['Strain1']] = get_rxns('./reconstructions/mat/'+row['Strain1']+'.mat')\n",
    "        rxn_set.update(bacs[row['Strain1']])\n",
    "    if row['Strain2'] not in bacs:\n",
    "        print(row['Strain2'])\n",
    "        bacs[row['Strain2']] = get_rxns('./reconstructions/mat/'+row['Strain2']+'.mat')\n",
    "        rxn_set.update(bacs[row['Strain2']])\n",
    "    pairs[(row['Strain1'],row['Strain2'])] = (bacs[row['Strain1']].union(bacs[row['Strain2']]),row['WD An Ratio'])\n",
    "    \n",
    "print('all reactions collected')\n",
    "\n",
    "rxn_list = sorted(list(rxn_set))\n",
    "\n",
    "for pair, data in pairs.items():\n",
    "    x = np.array([rxn in data[0] for rxn in rxn_list])\n",
    "    y = data[1]\n",
    "    pairwise_WDAn_X.append(x)\n",
    "    pairwise_WDAn_y.append(y)\n",
    "    if len(pairwise_WDAn_y) % 10000 == 0:\n",
    "        print(len(co_occ_y))\n",
    "    \n",
    "print('data set constructed')"
   ]
  },
  {
   "cell_type": "code",
   "execution_count": null,
   "metadata": {},
   "outputs": [],
   "source": [
    "mean = np.mean(pairwise_WDAn_y)\n",
    "mean"
   ]
  },
  {
   "cell_type": "code",
   "execution_count": null,
   "metadata": {},
   "outputs": [],
   "source": [
    "std = np.std(pairwise_WDAn_y)\n",
    "std"
   ]
  },
  {
   "cell_type": "code",
   "execution_count": null,
   "metadata": {},
   "outputs": [],
   "source": [
    "np.save('pairwise_WDAn_X',pairwise_WDAn_X)\n",
    "np.save('pairwise_WDAn_y',pairwise_WDAn_y)"
   ]
  },
  {
   "cell_type": "markdown",
   "metadata": {},
   "source": [
    "# Growth Rates"
   ]
  },
  {
   "cell_type": "code",
   "execution_count": 52,
   "metadata": {},
   "outputs": [
    {
     "data": {
      "text/html": [
       "<div>\n",
       "<style scoped>\n",
       "    .dataframe tbody tr th:only-of-type {\n",
       "        vertical-align: middle;\n",
       "    }\n",
       "\n",
       "    .dataframe tbody tr th {\n",
       "        vertical-align: top;\n",
       "    }\n",
       "\n",
       "    .dataframe thead th {\n",
       "        text-align: right;\n",
       "    }\n",
       "</style>\n",
       "<table border=\"1\" class=\"dataframe\">\n",
       "  <thead>\n",
       "    <tr style=\"text-align: right;\">\n",
       "      <th></th>\n",
       "      <th>AGORA Strain</th>\n",
       "      <th>Model ID</th>\n",
       "      <th>Western diet, anaerobic (h-1)</th>\n",
       "      <th>Western diet, aerobic (h-1)</th>\n",
       "      <th>High fiber diet, anaerobic (h-1)</th>\n",
       "      <th>High fiber diet, aerobic (h-1)</th>\n",
       "    </tr>\n",
       "  </thead>\n",
       "  <tbody>\n",
       "    <tr>\n",
       "      <td>0</td>\n",
       "      <td>Abiotrophia defectiva ATCC 49176</td>\n",
       "      <td>Abiotrophia_defectiva_ATCC_49176</td>\n",
       "      <td>0.149475</td>\n",
       "      <td>0.167712</td>\n",
       "      <td>0.164658</td>\n",
       "      <td>0.171042</td>\n",
       "    </tr>\n",
       "    <tr>\n",
       "      <td>1</td>\n",
       "      <td>Acidaminococcus fermentans DSM 20731</td>\n",
       "      <td>Acidaminococcus_fermentans_DSM_20731</td>\n",
       "      <td>0.190554</td>\n",
       "      <td>0.215615</td>\n",
       "      <td>0.151478</td>\n",
       "      <td>0.171014</td>\n",
       "    </tr>\n",
       "    <tr>\n",
       "      <td>2</td>\n",
       "      <td>Acidaminococcus intestini RyC-MR95</td>\n",
       "      <td>Acidaminococcus_intestini_RyC_MR95</td>\n",
       "      <td>0.122018</td>\n",
       "      <td>0.122468</td>\n",
       "      <td>0.111260</td>\n",
       "      <td>0.111670</td>\n",
       "    </tr>\n",
       "    <tr>\n",
       "      <td>3</td>\n",
       "      <td>Acidaminococcus sp. D21</td>\n",
       "      <td>Acidaminococcus_sp_D21</td>\n",
       "      <td>0.122922</td>\n",
       "      <td>0.123365</td>\n",
       "      <td>0.117347</td>\n",
       "      <td>0.117770</td>\n",
       "    </tr>\n",
       "    <tr>\n",
       "      <td>4</td>\n",
       "      <td>Acinetobacter calcoaceticus PHEA-2</td>\n",
       "      <td>Acinetobacter_calcoaceticus_PHEA_2</td>\n",
       "      <td>0.244252</td>\n",
       "      <td>1.018836</td>\n",
       "      <td>0.325669</td>\n",
       "      <td>1.103735</td>\n",
       "    </tr>\n",
       "  </tbody>\n",
       "</table>\n",
       "</div>"
      ],
      "text/plain": [
       "                           AGORA Strain                              Model ID  \\\n",
       "0      Abiotrophia defectiva ATCC 49176      Abiotrophia_defectiva_ATCC_49176   \n",
       "1  Acidaminococcus fermentans DSM 20731  Acidaminococcus_fermentans_DSM_20731   \n",
       "2    Acidaminococcus intestini RyC-MR95    Acidaminococcus_intestini_RyC_MR95   \n",
       "3               Acidaminococcus sp. D21                Acidaminococcus_sp_D21   \n",
       "4    Acinetobacter calcoaceticus PHEA-2    Acinetobacter_calcoaceticus_PHEA_2   \n",
       "\n",
       "   Western diet, anaerobic (h-1)  Western diet, aerobic (h-1)  \\\n",
       "0                       0.149475                     0.167712   \n",
       "1                       0.190554                     0.215615   \n",
       "2                       0.122018                     0.122468   \n",
       "3                       0.122922                     0.123365   \n",
       "4                       0.244252                     1.018836   \n",
       "\n",
       "   High fiber diet, anaerobic (h-1)  High fiber diet, aerobic (h-1)  \n",
       "0                          0.164658                        0.171042  \n",
       "1                          0.151478                        0.171014  \n",
       "2                          0.111260                        0.111670  \n",
       "3                          0.117347                        0.117770  \n",
       "4                          0.325669                        1.103735  "
      ]
     },
     "execution_count": 52,
     "metadata": {},
     "output_type": "execute_result"
    }
   ],
   "source": [
    "growth = pd.read_excel('Data/growth_rates_S6.xlsx')\n",
    "growth.head()"
   ]
  },
  {
   "cell_type": "code",
   "execution_count": 53,
   "metadata": {},
   "outputs": [],
   "source": [
    "growth_dict = {}"
   ]
  },
  {
   "cell_type": "code",
   "execution_count": 54,
   "metadata": {},
   "outputs": [],
   "source": [
    "for i,row in growth.iterrows():\n",
    "    growth_dict[row['Model ID']] = (row['Western diet, anaerobic (h-1)'],row['Western diet, aerobic (h-1)'],row['High fiber diet, anaerobic (h-1)'],row['High fiber diet, aerobic (h-1)'])"
   ]
  },
  {
   "cell_type": "code",
   "execution_count": null,
   "metadata": {},
   "outputs": [],
   "source": [
    "for i,row in pairwise.iterrows():\n",
    "    if i % 10000 == 0:\n",
    "        print(i)\n",
    "    pairwise.loc[i,'WD An Ratio'] = row['WesternDietAnaerobic_Strain1']/row['WesternDietAnaerobic_Strain2']\n",
    "    pairwise.loc[i,'WD Ae Ratio'] = row['WesternDietAerobic_Strain1']/row['WesternDietAerobic_Strain2']\n",
    "    pairwise.loc[i,'HFD An Ratio'] = row['HighFiberDietAnaerobic_Strain1']/row['HighFiberDietAnaerobic_Strain2']\n",
    "    pairwise.loc[i,'HFD Ae Ratio'] = row['HighFiberDietAerobic_Strain1']/row['HighFiberDietAerobic_Strain2']\n",
    "    pairwise.loc[i,'S6 WD An Growth Ratio'] = growth_dict[row['Strain1']][0]/growth_dict[row['Strain2']][0]\n",
    "    pairwise.loc[i,'S6 WD Ae Growth Ratio'] = growth_dict[row['Strain1']][1]/growth_dict[row['Strain2']][1]\n",
    "    pairwise.loc[i,'S6 HFD An Growth Ratio'] = growth_dict[row['Strain1']][2]/growth_dict[row['Strain2']][2]\n",
    "    pairwise.loc[i,'S6 HFD Ae Growth Ratio'] = growth_dict[row['Strain1']][3]/growth_dict[row['Strain2']][3]"
   ]
  },
  {
   "cell_type": "code",
   "execution_count": 137,
   "metadata": {},
   "outputs": [
    {
     "data": {
      "text/plain": [
       "<matplotlib.axes._subplots.AxesSubplot at 0x1a84320710>"
      ]
     },
     "execution_count": 137,
     "metadata": {},
     "output_type": "execute_result"
    },
    {
     "data": {
      "image/png": "[encoded data removed]",
      "text/plain": [
       "<Figure size 1080x1080 with 1 Axes>"
      ]
     },
     "metadata": {
      "needs_background": "light"
     },
     "output_type": "display_data"
    }
   ],
   "source": [
    "_, ax = plt.subplots(figsize=(15,15))\n",
    "sample = random.sample(list(range(298378)),298378)\n",
    "sns.regplot(np.log(pairwise['WD An Ratio'][sample]),np.log(pairwise['S6 WD An Growth Ratio'][sample]),ax=ax)"
   ]
  },
  {
   "cell_type": "code",
   "execution_count": 134,
   "metadata": {},
   "outputs": [
    {
     "data": {
      "text/plain": [
       "<matplotlib.axes._subplots.AxesSubplot at 0x1a835dd0f0>"
      ]
     },
     "execution_count": 134,
     "metadata": {},
     "output_type": "execute_result"
    },
    {
     "data": {
      "image/png": "[encoded data removed]",
      "text/plain": [
       "<Figure size 1728x432 with 1 Axes>"
      ]
     },
     "metadata": {
      "needs_background": "light"
     },
     "output_type": "display_data"
    }
   ],
   "source": [
    "_, ax = plt.subplots(figsize=(24,6))\n",
    "sns.boxplot(np.log(pairwise['WD An Ratio'][sample]/pairwise['S6 WD An Growth Ratio'][sample]),ax=ax)"
   ]
  },
  {
   "cell_type": "code",
   "execution_count": null,
   "metadata": {},
   "outputs": [],
   "source": [
    "for i,row in pairwise.iterrows():\n",
    "    if i % 10000 == 0:\n",
    "        print(i)\n",
    "    pairwise.loc[i,'S6 WD An 1'] = growth_dict[row['Strain1']][0]\n",
    "    pairwise.loc[i,'S6 WD An 2'] = growth_dict[row['Strain2']][0]\n",
    "    pairwise.loc[i,'S6 WD Ae 1'] = growth_dict[row['Strain1']][1]\n",
    "    pairwise.loc[i,'S6 WD Ae 2'] = growth_dict[row['Strain2']][1]\n",
    "    pairwise.loc[i,'S6 HFD An 1'] = growth_dict[row['Strain1']][2]\n",
    "    pairwise.loc[i,'S6 HFD An 2'] = growth_dict[row['Strain2']][2]\n",
    "    pairwise.loc[i,'S6 HFD Ae 1'] = growth_dict[row['Strain1']][3]\n",
    "    pairwise.loc[i,'S6 HFD Ae 2'] = growth_dict[row['Strain2']][3]"
   ]
  },
  {
   "cell_type": "code",
   "execution_count": 71,
   "metadata": {},
   "outputs": [
    {
     "data": {
      "text/html": [
       "<div>\n",
       "<style scoped>\n",
       "    .dataframe tbody tr th:only-of-type {\n",
       "        vertical-align: middle;\n",
       "    }\n",
       "\n",
       "    .dataframe tbody tr th {\n",
       "        vertical-align: top;\n",
       "    }\n",
       "\n",
       "    .dataframe thead th {\n",
       "        text-align: right;\n",
       "    }\n",
       "</style>\n",
       "<table border=\"1\" class=\"dataframe\">\n",
       "  <thead>\n",
       "    <tr style=\"text-align: right;\">\n",
       "      <th></th>\n",
       "      <th>Strain1</th>\n",
       "      <th>Strain2</th>\n",
       "      <th>MetabolicDistance</th>\n",
       "      <th>WesternDietAnaerobic_Strain1</th>\n",
       "      <th>WesternDietAnaerobic_Strain2</th>\n",
       "      <th>WesternDietAerobic_Strain1</th>\n",
       "      <th>WesternDietAerobic_Strain2</th>\n",
       "      <th>HighFiberDietAnaerobic_Strain1</th>\n",
       "      <th>HighFiberDietAnaerobic_Strain2</th>\n",
       "      <th>HighFiberDietAerobic_Strain1</th>\n",
       "      <th>HighFiberDietAerobic_Strain2</th>\n",
       "      <th>S6 WD An 1</th>\n",
       "      <th>S6 WD An 2</th>\n",
       "      <th>S6 WD Ae 1</th>\n",
       "      <th>S6 WD Ae 2</th>\n",
       "      <th>S6 HFD An 1</th>\n",
       "      <th>S6 HFD An 2</th>\n",
       "      <th>S6 HFD Ae 1</th>\n",
       "      <th>S6 HFD Ae 2</th>\n",
       "    </tr>\n",
       "  </thead>\n",
       "  <tbody>\n",
       "    <tr>\n",
       "      <td>0</td>\n",
       "      <td>Abiotrophia_defectiva_ATCC_49176</td>\n",
       "      <td>Acidaminococcus_fermentans_DSM_20731</td>\n",
       "      <td>0.506916</td>\n",
       "      <td>0.083975</td>\n",
       "      <td>0.323212</td>\n",
       "      <td>0.102995</td>\n",
       "      <td>0.367884</td>\n",
       "      <td>0.150243</td>\n",
       "      <td>0.228819</td>\n",
       "      <td>0.179257</td>\n",
       "      <td>0.228819</td>\n",
       "      <td>0.149475</td>\n",
       "      <td>0.190554</td>\n",
       "      <td>0.167712</td>\n",
       "      <td>0.215615</td>\n",
       "      <td>0.164658</td>\n",
       "      <td>0.151478</td>\n",
       "      <td>0.171042</td>\n",
       "      <td>0.171014</td>\n",
       "    </tr>\n",
       "    <tr>\n",
       "      <td>1</td>\n",
       "      <td>Abiotrophia_defectiva_ATCC_49176</td>\n",
       "      <td>Acidaminococcus_intestini_RyC_MR95</td>\n",
       "      <td>0.490856</td>\n",
       "      <td>0.235220</td>\n",
       "      <td>0.389636</td>\n",
       "      <td>0.242811</td>\n",
       "      <td>0.443023</td>\n",
       "      <td>0.231492</td>\n",
       "      <td>0.403192</td>\n",
       "      <td>0.229546</td>\n",
       "      <td>0.432670</td>\n",
       "      <td>0.149475</td>\n",
       "      <td>0.122018</td>\n",
       "      <td>0.167712</td>\n",
       "      <td>0.122468</td>\n",
       "      <td>0.164658</td>\n",
       "      <td>0.111260</td>\n",
       "      <td>0.171042</td>\n",
       "      <td>0.111670</td>\n",
       "    </tr>\n",
       "    <tr>\n",
       "      <td>2</td>\n",
       "      <td>Abiotrophia_defectiva_ATCC_49176</td>\n",
       "      <td>Acidaminococcus_sp_D21</td>\n",
       "      <td>0.534351</td>\n",
       "      <td>0.181236</td>\n",
       "      <td>0.091164</td>\n",
       "      <td>0.194221</td>\n",
       "      <td>0.132466</td>\n",
       "      <td>0.177800</td>\n",
       "      <td>0.096361</td>\n",
       "      <td>0.191920</td>\n",
       "      <td>0.122726</td>\n",
       "      <td>0.149475</td>\n",
       "      <td>0.122922</td>\n",
       "      <td>0.167712</td>\n",
       "      <td>0.123365</td>\n",
       "      <td>0.164658</td>\n",
       "      <td>0.117347</td>\n",
       "      <td>0.171042</td>\n",
       "      <td>0.117770</td>\n",
       "    </tr>\n",
       "    <tr>\n",
       "      <td>3</td>\n",
       "      <td>Abiotrophia_defectiva_ATCC_49176</td>\n",
       "      <td>Acinetobacter_calcoaceticus_PHEA_2</td>\n",
       "      <td>0.539700</td>\n",
       "      <td>0.125950</td>\n",
       "      <td>0.447691</td>\n",
       "      <td>0.115378</td>\n",
       "      <td>1.220015</td>\n",
       "      <td>0.148777</td>\n",
       "      <td>0.397997</td>\n",
       "      <td>0.155532</td>\n",
       "      <td>1.166038</td>\n",
       "      <td>0.149475</td>\n",
       "      <td>0.244252</td>\n",
       "      <td>0.167712</td>\n",
       "      <td>1.018836</td>\n",
       "      <td>0.164658</td>\n",
       "      <td>0.325669</td>\n",
       "      <td>0.171042</td>\n",
       "      <td>1.103735</td>\n",
       "    </tr>\n",
       "    <tr>\n",
       "      <td>4</td>\n",
       "      <td>Abiotrophia_defectiva_ATCC_49176</td>\n",
       "      <td>Acinetobacter_haemolyticus_NIPH_261</td>\n",
       "      <td>0.521845</td>\n",
       "      <td>0.033281</td>\n",
       "      <td>0.363215</td>\n",
       "      <td>0.414591</td>\n",
       "      <td>0.457639</td>\n",
       "      <td>0.134721</td>\n",
       "      <td>0.228819</td>\n",
       "      <td>0.496263</td>\n",
       "      <td>0.228819</td>\n",
       "      <td>0.149475</td>\n",
       "      <td>0.129391</td>\n",
       "      <td>0.167712</td>\n",
       "      <td>0.457639</td>\n",
       "      <td>0.164658</td>\n",
       "      <td>0.162202</td>\n",
       "      <td>0.171042</td>\n",
       "      <td>0.228819</td>\n",
       "    </tr>\n",
       "  </tbody>\n",
       "</table>\n",
       "</div>"
      ],
      "text/plain": [
       "                            Strain1                               Strain2  \\\n",
       "0  Abiotrophia_defectiva_ATCC_49176  Acidaminococcus_fermentans_DSM_20731   \n",
       "1  Abiotrophia_defectiva_ATCC_49176    Acidaminococcus_intestini_RyC_MR95   \n",
       "2  Abiotrophia_defectiva_ATCC_49176                Acidaminococcus_sp_D21   \n",
       "3  Abiotrophia_defectiva_ATCC_49176    Acinetobacter_calcoaceticus_PHEA_2   \n",
       "4  Abiotrophia_defectiva_ATCC_49176   Acinetobacter_haemolyticus_NIPH_261   \n",
       "\n",
       "   MetabolicDistance  WesternDietAnaerobic_Strain1  \\\n",
       "0           0.506916                      0.083975   \n",
       "1           0.490856                      0.235220   \n",
       "2           0.534351                      0.181236   \n",
       "3           0.539700                      0.125950   \n",
       "4           0.521845                      0.033281   \n",
       "\n",
       "   WesternDietAnaerobic_Strain2  WesternDietAerobic_Strain1  \\\n",
       "0                      0.323212                    0.102995   \n",
       "1                      0.389636                    0.242811   \n",
       "2                      0.091164                    0.194221   \n",
       "3                      0.447691                    0.115378   \n",
       "4                      0.363215                    0.414591   \n",
       "\n",
       "   WesternDietAerobic_Strain2  HighFiberDietAnaerobic_Strain1  \\\n",
       "0                    0.367884                        0.150243   \n",
       "1                    0.443023                        0.231492   \n",
       "2                    0.132466                        0.177800   \n",
       "3                    1.220015                        0.148777   \n",
       "4                    0.457639                        0.134721   \n",
       "\n",
       "   HighFiberDietAnaerobic_Strain2  HighFiberDietAerobic_Strain1  \\\n",
       "0                        0.228819                      0.179257   \n",
       "1                        0.403192                      0.229546   \n",
       "2                        0.096361                      0.191920   \n",
       "3                        0.397997                      0.155532   \n",
       "4                        0.228819                      0.496263   \n",
       "\n",
       "   HighFiberDietAerobic_Strain2  S6 WD An 1  S6 WD An 2  S6 WD Ae 1  \\\n",
       "0                      0.228819    0.149475    0.190554    0.167712   \n",
       "1                      0.432670    0.149475    0.122018    0.167712   \n",
       "2                      0.122726    0.149475    0.122922    0.167712   \n",
       "3                      1.166038    0.149475    0.244252    0.167712   \n",
       "4                      0.228819    0.149475    0.129391    0.167712   \n",
       "\n",
       "   S6 WD Ae 2  S6 HFD An 1  S6 HFD An 2  S6 HFD Ae 1  S6 HFD Ae 2  \n",
       "0    0.215615     0.164658     0.151478     0.171042     0.171014  \n",
       "1    0.122468     0.164658     0.111260     0.171042     0.111670  \n",
       "2    0.123365     0.164658     0.117347     0.171042     0.117770  \n",
       "3    1.018836     0.164658     0.325669     0.171042     1.103735  \n",
       "4    0.457639     0.164658     0.162202     0.171042     0.228819  "
      ]
     },
     "execution_count": 71,
     "metadata": {},
     "output_type": "execute_result"
    }
   ],
   "source": [
    "pairwise.head()"
   ]
  },
  {
   "cell_type": "code",
   "execution_count": 72,
   "metadata": {},
   "outputs": [],
   "source": [
    "pairwise.to_csv('pairwise_w_growth.csv')"
   ]
  },
  {
   "cell_type": "markdown",
   "metadata": {},
   "source": [
    "# Vitamin B"
   ]
  },
  {
   "cell_type": "code",
   "execution_count": 47,
   "metadata": {},
   "outputs": [],
   "source": [
    "all_files = sorted([file[:-4] for file in listdir('./reconstructions/mat/')])\n",
    "#print(all_files)"
   ]
  },
  {
   "cell_type": "code",
   "execution_count": 49,
   "metadata": {},
   "outputs": [],
   "source": [
    "vitb = pd.read_excel('Data/vitB_S18.xlsx')\n",
    "#vitb.head()"
   ]
  },
  {
   "cell_type": "code",
   "execution_count": 49,
   "metadata": {},
   "outputs": [],
   "source": [
    "#!python3 node2vec-master/src/main.py --input node2vec-master/graph/karate.edgelist --output node2vec-master/emb/karate.emd --iter 10"
   ]
  },
  {
   "cell_type": "markdown",
   "metadata": {},
   "source": [
    "### Create metabolite-reaction network of all AGORA reconstructions in VitB dataset"
   ]
  },
  {
   "cell_type": "code",
   "execution_count": 50,
   "metadata": {},
   "outputs": [
    {
     "name": "stdout",
     "output_type": "stream",
     "text": [
      "0\n",
      "100\n",
      "200\n",
      "300\n",
      "400\n",
      "500\n"
     ]
    }
   ],
   "source": [
    "reactionset = set()\n",
    "metaboliteset = set()\n",
    "all_files = sorted([file[:-4] for file in listdir('./reconstructions/mat/')])\n",
    "\n",
    "big_rxn_met_network = nx.DiGraph()\n",
    "\n",
    "bacs = {}\n",
    "\n",
    "problems = ['Roseburia_hominis_A2_183','Roseburia_hominis_A2_183.mat','.DS_S','Ruminococcus_sp_18P13','Ruminococcus_sp_18P13.mat']\n",
    "\n",
    "for i, row in vitb.iterrows():\n",
    "    if i%100==0:\n",
    "        print(i)\n",
    "    \n",
    "    if row['Model ID'] in problems:\n",
    "        continue\n",
    "    name = row['Model ID'] if row['Model ID'][-4:]!='.mat' else row['Model ID'][:-4]\n",
    "    \n",
    "    file_path = './reconstructions/mat/'+name+'.mat'\n",
    "    \n",
    "    rxns = get_rxns(file_path)\n",
    "    mets = get_mets(file_path)\n",
    "        \n",
    "    bac_network = mat_to_network(file_path)\n",
    "    \n",
    "    big_rxn_met_network = nx.compose(big_rxn_met_network,bac_network)\n",
    "        \n",
    "    reactionset.update(rxns)\n",
    "    metaboliteset.update(mets)\n",
    "    bacs[name] = (rxns,mets,list(row[['Biotin','Cobalamin','Folate','Niacin','Pantothenate','Pyridoxin','Riboflavin','Thiamin']]))"
   ]
  },
  {
   "cell_type": "code",
   "execution_count": 51,
   "metadata": {},
   "outputs": [],
   "source": [
    "nx.write_gpickle(big_rxn_met_network, \"big_rxn_met_network.gpickle\")"
   ]
  },
  {
   "cell_type": "code",
   "execution_count": 52,
   "metadata": {},
   "outputs": [],
   "source": [
    "with open('bacs.pickle', 'wb') as handle:\n",
    "    pickle.dump(bacs, handle)"
   ]
  },
  {
   "cell_type": "code",
   "execution_count": 53,
   "metadata": {},
   "outputs": [],
   "source": [
    "big_rxn_met_network = nx.read_gpickle('Generated_Data/big_rxn_met_network.gpickle')\n",
    "bacs = pickle.load( open( \"Generated_Data/bacs.pickle\", \"rb\" ) )"
   ]
  },
  {
   "cell_type": "code",
   "execution_count": 54,
   "metadata": {},
   "outputs": [],
   "source": [
    "reaction_list = sorted(list(reactionset))\n",
    "metabolite_list = sorted(list(metaboliteset))"
   ]
  },
  {
   "cell_type": "code",
   "execution_count": 55,
   "metadata": {},
   "outputs": [],
   "source": [
    "vitb_rxns_X = []\n",
    "vitb_mets_X = []\n",
    "vitb_y = []\n",
    "\n",
    "for bac, data in bacs.items():\n",
    "    rxns, mets, y = data\n",
    "    \n",
    "    vitb_rxns_X.append([rxn in rxns for rxn in reaction_list])\n",
    "    vitb_mets_X.append([met in mets for met in metabolite_list])\n",
    "    vitb_y.append(y)"
   ]
  },
  {
   "cell_type": "code",
   "execution_count": 56,
   "metadata": {},
   "outputs": [],
   "source": [
    "np.save('vitb_rxns_X',vitb_rxns_X)\n",
    "np.save('vitb_mets_X',vitb_mets_X)\n",
    "np.save('vitb_y',vitb_y)"
   ]
  },
  {
   "cell_type": "code",
   "execution_count": 57,
   "metadata": {},
   "outputs": [],
   "source": [
    "np.save('vitb_rxn_list',reaction_list)\n",
    "np.save('vitb_met_list',metabolite_list)"
   ]
  },
  {
   "cell_type": "code",
   "execution_count": 58,
   "metadata": {},
   "outputs": [],
   "source": [
    "reaction_dict_by_ind = dict(enumerate(reaction_list))\n",
    "metabolite_dict_by_ind = dict(enumerate(metabolite_list,len(reaction_dict_by_ind)))\n",
    "\n",
    "reaction_dict_by_rxn = {v:k for k,v in reaction_dict_by_ind.items()}\n",
    "metabolite_dict_by_met = {v:k for k,v in metabolite_dict_by_ind.items()}"
   ]
  },
  {
   "cell_type": "code",
   "execution_count": 59,
   "metadata": {},
   "outputs": [],
   "source": [
    "#run node2vec\n",
    "#get subgraph representations\n",
    "#run linreg, logreg, nn "
   ]
  },
  {
   "cell_type": "code",
   "execution_count": 60,
   "metadata": {},
   "outputs": [],
   "source": [
    "big_rxn_met_network_nos = nx.relabel.relabel_nodes(big_rxn_met_network,{**reaction_dict_by_rxn,**metabolite_dict_by_met})"
   ]
  },
  {
   "cell_type": "code",
   "execution_count": null,
   "metadata": {},
   "outputs": [],
   "source": [
    "!pip install coreapi-cli"
   ]
  },
  {
   "cell_type": "code",
   "execution_count": null,
   "metadata": {},
   "outputs": [],
   "source": [
    "!pip install coreapi"
   ]
  },
  {
   "cell_type": "code",
   "execution_count": 94,
   "metadata": {},
   "outputs": [],
   "source": [
    "from coreapi import Client\n",
    "client = Client()"
   ]
  },
  {
   "cell_type": "code",
   "execution_count": 155,
   "metadata": {},
   "outputs": [],
   "source": [
    "rxn_rev = {}"
   ]
  },
  {
   "cell_type": "code",
   "execution_count": 156,
   "metadata": {},
   "outputs": [],
   "source": [
    "all_files = sorted(listdir('./reconstructions/mat/'))\n",
    "\n",
    "big_rxn_met_network = nx.DiGraph()\n",
    "\n",
    "problems = ['.DS_Store','Roseburia_hominis_A2_183.mat']"
   ]
  },
  {
   "cell_type": "code",
   "execution_count": null,
   "metadata": {},
   "outputs": [],
   "source": [
    "for i in range(len(all_files)):\n",
    "    if i%20==0:\n",
    "        print(i)\n",
    "    file = all_files[i]\n",
    "    \n",
    "    if file in problems:\n",
    "        continue\n",
    "    \n",
    "    file_path = './reconstructions/mat/'+file\n",
    "    \n",
    "    bac_network = mat_to_network(file_path)\n",
    "    \n",
    "    big_rxn_met_network = nx.compose(big_rxn_met_network,bac_network)"
   ]
  },
  {
   "cell_type": "code",
   "execution_count": 158,
   "metadata": {},
   "outputs": [],
   "source": [
    "nx.write_gpickle(big_rxn_met_network, \"all_bacs_rxnmet_network.gpickle\")"
   ]
  },
  {
   "cell_type": "markdown",
   "metadata": {},
   "source": [
    "### Generate Node2Vec Embeddings of Dimension 128"
   ]
  },
  {
   "cell_type": "code",
   "execution_count": 25,
   "metadata": {},
   "outputs": [],
   "source": [
    "big_rxn_met_network = nx.read_gpickle('Generated_Data/all_bacs_rxnmet_network.gpickle')\n",
    "mets = np.load('Generated_Data/all_mets.npy')\n",
    "rxns = np.load('Generated_Data/all_rxns.npy')"
   ]
  },
  {
   "cell_type": "code",
   "execution_count": 100,
   "metadata": {},
   "outputs": [
    {
     "data": {
      "text/plain": [
       "2473"
      ]
     },
     "execution_count": 100,
     "metadata": {},
     "output_type": "execute_result"
    }
   ],
   "source": [
    "len(mets)"
   ]
  },
  {
   "cell_type": "code",
   "execution_count": 101,
   "metadata": {},
   "outputs": [
    {
     "data": {
      "text/plain": [
       "5417"
      ]
     },
     "execution_count": 101,
     "metadata": {},
     "output_type": "execute_result"
    }
   ],
   "source": [
    "len(rxns)"
   ]
  },
  {
   "cell_type": "code",
   "execution_count": 26,
   "metadata": {},
   "outputs": [],
   "source": [
    "reaction_dict_by_ind = dict(enumerate(rxns))\n",
    "metabolite_dict_by_ind = dict(enumerate(mets,len(reaction_dict_by_ind)))\n",
    "\n",
    "reaction_dict_by_rxn = {v:k for k,v in reaction_dict_by_ind.items()}\n",
    "metabolite_dict_by_met = {v:k for k,v in metabolite_dict_by_ind.items()}"
   ]
  },
  {
   "cell_type": "code",
   "execution_count": 99,
   "metadata": {},
   "outputs": [],
   "source": [
    "with open('reaction_dict_by_ind.pickle', 'wb') as handle:\n",
    "    pickle.dump(reaction_dict_by_ind, handle)\n",
    "with open('metabolite_dict_by_ind.pickle', 'wb') as handle:\n",
    "    pickle.dump(metabolite_dict_by_ind, handle)\n",
    "with open('reaction_dict_by_rxn.pickle', 'wb') as handle:\n",
    "    pickle.dump(reaction_dict_by_rxn, handle)\n",
    "with open('metabolite_dict_by_met.pickle', 'wb') as handle:\n",
    "    pickle.dump(metabolite_dict_by_met, handle)"
   ]
  },
  {
   "cell_type": "code",
   "execution_count": 27,
   "metadata": {},
   "outputs": [],
   "source": [
    "big_rxn_met_network_nos = nx.relabel.relabel_nodes(big_rxn_met_network,{**reaction_dict_by_rxn,**metabolite_dict_by_met})"
   ]
  },
  {
   "cell_type": "code",
   "execution_count": 103,
   "metadata": {},
   "outputs": [
    {
     "data": {
      "text/plain": [
       "7450"
      ]
     },
     "execution_count": 103,
     "metadata": {},
     "output_type": "execute_result"
    }
   ],
   "source": [
    "len(big_rxn_met_network)"
   ]
  },
  {
   "cell_type": "code",
   "execution_count": 31,
   "metadata": {},
   "outputs": [],
   "source": [
    "nx.write_edgelist(big_rxn_met_network_nos,'edgelist.txt',data=True)"
   ]
  },
  {
   "cell_type": "code",
   "execution_count": 42,
   "metadata": {},
   "outputs": [],
   "source": [
    "with open('edgelist.txt','r') as old:\n",
    "    with open('edgelist1.txt','w') as new:\n",
    "        for line in old:\n",
    "            edge1, edge2, _, weight = line.split()\n",
    "            new.write(' '.join([edge1,edge2,weight[:-1]])+'\\n')          "
   ]
  },
  {
   "cell_type": "code",
   "execution_count": 46,
   "metadata": {},
   "outputs": [
    {
     "name": "stdout",
     "output_type": "stream",
     "text": [
      "Walk iteration:\n",
      "1 / 10\n",
      "2 / 10\n",
      "3 / 10\n",
      "4 / 10\n",
      "5 / 10\n",
      "6 / 10\n",
      "7 / 10\n",
      "8 / 10\n",
      "9 / 10\n",
      "10 / 10\n"
     ]
    }
   ],
   "source": [
    "!python3 node2vec-master/src/main.py --input edgelist.txt --output embeddings.txt --iter 2 --q 2 --weighted"
   ]
  },
  {
   "cell_type": "markdown",
   "metadata": {},
   "source": [
    "### t-SNE"
   ]
  },
  {
   "cell_type": "code",
   "execution_count": 11,
   "metadata": {},
   "outputs": [],
   "source": [
    "reaction_dict_by_ind = pickle.load(open('Generated_Data/reaction_dict_by_ind.pickle','rb'))\n",
    "metabolite_dict_by_ind = pickle.load(open('Generated_Data/metabolite_dict_by_ind.pickle','rb'))\n",
    "all_rxns = np.load('Generated_Data/all_rxns.npy')\n",
    "all_mets = np.load('Generated_Data/all_mets.npy')"
   ]
  },
  {
   "cell_type": "code",
   "execution_count": 12,
   "metadata": {},
   "outputs": [],
   "source": [
    "embeddings = {}\n",
    "\n",
    "with open('Generated_Data/embeddings.txt','r') as file:\n",
    "    for line in file:\n",
    "        node = int(line.split()[0])\n",
    "        vec = np.array(line.split()[1:]).astype(np.float64)\n",
    "        \n",
    "        if node in reaction_dict_by_ind:\n",
    "            embeddings[reaction_dict_by_ind[node]] = vec\n",
    "        else:\n",
    "            embeddings[metabolite_dict_by_ind[node]] = vec"
   ]
  },
  {
   "cell_type": "code",
   "execution_count": 13,
   "metadata": {},
   "outputs": [],
   "source": [
    "tsne = TSNE()"
   ]
  },
  {
   "cell_type": "code",
   "execution_count": 30,
   "metadata": {},
   "outputs": [],
   "source": [
    "rxn_embeddings = []\n",
    "\n",
    "for name,emb in embeddings.items():\n",
    "    if name in all_rxns:\n",
    "        rxn_embeddings.append((name,emb))\n",
    "\n",
    "met_embeddings = []\n",
    "\n",
    "for name,emb in embeddings.items():\n",
    "    if name in all_mets:\n",
    "        met_embeddings.append((name,emb))"
   ]
  },
  {
   "cell_type": "code",
   "execution_count": 31,
   "metadata": {},
   "outputs": [],
   "source": [
    "rxn_embeddings.sort(key=lambda t:t[0])\n",
    "met_embeddings.sort(key=lambda t:t[0])"
   ]
  },
  {
   "cell_type": "code",
   "execution_count": 35,
   "metadata": {},
   "outputs": [],
   "source": [
    "a = tsne.fit_transform([emb for name,emb in rxn_embeddings])"
   ]
  },
  {
   "cell_type": "code",
   "execution_count": 41,
   "metadata": {},
   "outputs": [
    {
     "data": {
      "text/plain": [
       "<matplotlib.collections.PathCollection at 0x1a23a17dd8>"
      ]
     },
     "execution_count": 41,
     "metadata": {},
     "output_type": "execute_result"
    },
    {
     "data": {
      "image/png": "[encoded data removed]",
      "text/plain": [
       "<Figure size 432x288 with 1 Axes>"
      ]
     },
     "metadata": {
      "needs_background": "light"
     },
     "output_type": "display_data"
    }
   ],
   "source": [
    "plt.scatter(a[:,0],a[:,1])"
   ]
  },
  {
   "cell_type": "code",
   "execution_count": null,
   "metadata": {},
   "outputs": [],
   "source": []
  }
 ],
 "metadata": {
  "kernelspec": {
   "display_name": "Python 3",
   "language": "python",
   "name": "python3"
  },
  "language_info": {
   "codemirror_mode": {
    "name": "ipython",
    "version": 3
   },
   "file_extension": ".py",
   "mimetype": "text/x-python",
   "name": "python",
   "nbconvert_exporter": "python",
   "pygments_lexer": "ipython3",
   "version": "3.6.9"
  }
 },
 "nbformat": 4,
 "nbformat_minor": 4
}
