{
 "cells": [
  {
   "cell_type": "code",
   "execution_count": 264,
   "metadata": {},
   "outputs": [],
   "source": [
    "import pandas as pd\n",
    "import numpy as np\n",
    "import networkx as nx\n",
    "import scipy.io\n",
    "import random\n",
    "from collections import defaultdict\n",
    "import math\n",
    "import re\n",
    "import matplotlib.pyplot as plt\n",
    "from sklearn import preprocessing, linear_model, decomposition\n",
    "from sklearn.metrics import precision_score, recall_score\n",
    "import sklearn\n",
    "import torch\n",
    "import torch.nn as nn\n",
    "import torch.nn.functional as F\n",
    "import seaborn as sns\n",
    "from os import listdir\n",
    "import pickle"
   ]
  },
  {
   "cell_type": "code",
   "execution_count": 2,
   "metadata": {},
   "outputs": [],
   "source": [
    "pairwise_WDAn_X = np.load('pairwise_WDAn_X.npy')\n",
    "pairwise_WDAn_y = np.load('pairwise_WDAn_y.npy')"
   ]
  },
  {
   "cell_type": "markdown",
   "metadata": {},
   "source": [
    "### With very high likelihood there will be at least one of each bacteria in the test, so we good"
   ]
  },
  {
   "cell_type": "code",
   "execution_count": 3,
   "metadata": {},
   "outputs": [],
   "source": [
    "total_size = len(pairwise_WDAn_X)\n",
    "train_size = int(total_size*0.95)\n",
    "\n",
    "tr = random.sample(list(range(total_size)),train_size)\n",
    "te = sorted(list(set(range(total_size)).difference(set(tr))))"
   ]
  },
  {
   "cell_type": "markdown",
   "metadata": {},
   "source": [
    "### Baseline 1: get one-hot vectors of reactions for two bacteria, and feed into linear regression\n",
    "- cannot generalize to unseen reactions\n",
    "- regularization is essential, otherwise extreme overfitting occurs\n",
    "- average guess within 0.26 of actual value"
   ]
  },
  {
   "cell_type": "code",
   "execution_count": 4,
   "metadata": {},
   "outputs": [],
   "source": [
    "train_x = pairwise_WDAn_X[tr][:20000]\n",
    "train_y = pairwise_WDAn_y[tr][:20000]\n",
    "test_x = pairwise_WDAn_X[te][:1000]\n",
    "test_y = pairwise_WDAn_y[te][:1000]"
   ]
  },
  {
   "cell_type": "code",
   "execution_count": 90,
   "metadata": {},
   "outputs": [
    {
     "name": "stdout",
     "output_type": "stream",
     "text": [
      "Linear Regression Training MSE: 0.05513384599363458\n"
     ]
    }
   ],
   "source": [
    "lr = linear_model.Ridge()\n",
    "\n",
    "lr.fit(train_x,train_y)\n",
    "print('Linear Regression Training MSE: '+str(sklearn.metrics.mean_squared_error(lr.predict(train_x),train_y)))"
   ]
  },
  {
   "cell_type": "code",
   "execution_count": 91,
   "metadata": {},
   "outputs": [
    {
     "name": "stdout",
     "output_type": "stream",
     "text": [
      "0.00013055720150947014\n"
     ]
    },
    {
     "data": {
      "text/plain": [
       "0.04899349160185669"
      ]
     },
     "execution_count": 91,
     "metadata": {},
     "output_type": "execute_result"
    }
   ],
   "source": [
    "print(np.mean(lr.coef_))\n",
    "np.std(lr.coef_)"
   ]
  },
  {
   "cell_type": "code",
   "execution_count": 92,
   "metadata": {},
   "outputs": [
    {
     "name": "stdout",
     "output_type": "stream",
     "text": [
      "Linear Regression Test MSE: 0.06964001534507036\n"
     ]
    }
   ],
   "source": [
    "test_preds = lr.predict(test_x)\n",
    "\n",
    "print('Linear Regression Test MSE: '+str(sklearn.metrics.mean_squared_error(test_preds,test_y)))"
   ]
  },
  {
   "cell_type": "markdown",
   "metadata": {},
   "source": [
    "### Baseline 2: get indicator vectors of reactions for two bacteria, and feed into simple neural network"
   ]
  },
  {
   "cell_type": "code",
   "execution_count": 5,
   "metadata": {},
   "outputs": [],
   "source": [
    "train_x = pairwise_WDAn_X[tr][:10000]\n",
    "train_y = pairwise_WDAn_y[tr][:10000]"
   ]
  },
  {
   "cell_type": "markdown",
   "metadata": {},
   "source": [
    "### Grid Search Hyperparameters"
   ]
  },
  {
   "cell_type": "code",
   "execution_count": 7,
   "metadata": {
    "collapsed": true,
    "jupyter": {
     "outputs_hidden": true,
     "source_hidden": true
    }
   },
   "outputs": [
    {
     "name": "stdout",
     "output_type": "stream",
     "text": [
      "Weight Decay: 0.0001, Learning Rate: 1e-05\n",
      "Epoch 0, Train MSE: 0.08821307470804834\n",
      "Neural Net Test MSE: 0.08312078418919858\n",
      "Epoch 1, Train MSE: 0.08101959077669607\n",
      "Neural Net Test MSE: 0.07619718633275235\n",
      "Epoch 2, Train MSE: 0.07758341257742324\n",
      "Neural Net Test MSE: 0.07383445137453493\n",
      "Epoch 3, Train MSE: 0.07469824921461435\n",
      "Neural Net Test MSE: 0.07087489504138626\n",
      "Epoch 4, Train MSE: 0.07232484356153039\n",
      "Neural Net Test MSE: 0.07094009229785177\n",
      "Weight Decay: 0.0001, Learning Rate: 0.0001\n",
      "Epoch 0, Train MSE: 0.08837124838376768\n",
      "Neural Net Test MSE: 0.08141207744247657\n",
      "Epoch 1, Train MSE: 0.08091533468408768\n",
      "Neural Net Test MSE: 0.07660719803429995\n",
      "Epoch 2, Train MSE: 0.0775847975091848\n",
      "Neural Net Test MSE: 0.07341995194317204\n",
      "Epoch 3, Train MSE: 0.07468848253748875\n",
      "Neural Net Test MSE: 0.07031628944496039\n",
      "Epoch 4, Train MSE: 0.07225403567564187\n",
      "Neural Net Test MSE: 0.06893277405625967\n",
      "Weight Decay: 0.0001, Learning Rate: 0.001\n",
      "Epoch 0, Train MSE: 0.09364854140883436\n",
      "Neural Net Test MSE: 0.0864335999040797\n",
      "Epoch 1, Train MSE: 0.09080619518264074\n",
      "Neural Net Test MSE: 0.09003667013785295\n",
      "Epoch 2, Train MSE: 0.09110169977117427\n",
      "Neural Net Test MSE: 0.09422240183623204\n",
      "Epoch 3, Train MSE: 0.09249103431146218\n",
      "Neural Net Test MSE: 0.09498800130091531\n",
      "Epoch 4, Train MSE: 0.09328720610000996\n",
      "Neural Net Test MSE: 0.0942454538202991\n",
      "Weight Decay: 0.0001, Learning Rate: 0.01\n",
      "Epoch 0, Train MSE: 1.0721218136291726\n",
      "Neural Net Test MSE: 0.09477121815800144\n",
      "Epoch 1, Train MSE: 1.8810362039921142\n",
      "Neural Net Test MSE: 0.0945905169244582\n",
      "Epoch 2, Train MSE: 1.6190616114631398\n",
      "Neural Net Test MSE: 0.09438406090180941\n",
      "Epoch 3, Train MSE: 12.17117637535119\n",
      "Neural Net Test MSE: 0.11524415179568981\n",
      "Epoch 4, Train MSE: 1.2950795765228824\n",
      "Neural Net Test MSE: 0.09565386863089013\n",
      "Weight Decay: 0.001, Learning Rate: 1e-05\n",
      "Epoch 0, Train MSE: 0.0879580013165643\n",
      "Neural Net Test MSE: 0.08142670763011527\n",
      "Epoch 1, Train MSE: 0.08162392810824962\n",
      "Neural Net Test MSE: 0.07585907256713953\n",
      "Epoch 2, Train MSE: 0.07762305266333804\n",
      "Neural Net Test MSE: 0.07450111026339869\n",
      "Epoch 3, Train MSE: 0.07510295044364856\n",
      "Neural Net Test MSE: 0.07068951166033839\n",
      "Epoch 4, Train MSE: 0.07283154897878162\n",
      "Neural Net Test MSE: 0.07031183689386473\n",
      "Weight Decay: 0.001, Learning Rate: 0.0001\n",
      "Epoch 0, Train MSE: 0.08977709229297316\n",
      "Neural Net Test MSE: 0.08522605881892686\n",
      "Epoch 1, Train MSE: 0.08385174972925102\n",
      "Neural Net Test MSE: 0.07955353443960729\n",
      "Epoch 2, Train MSE: 0.0802446350259026\n",
      "Neural Net Test MSE: 0.0762366693052948\n",
      "Epoch 3, Train MSE: 0.07819426054960986\n",
      "Neural Net Test MSE: 0.07375389187222234\n",
      "Epoch 4, Train MSE: 0.07616529260506225\n",
      "Neural Net Test MSE: 0.07171300091223434\n",
      "Weight Decay: 0.001, Learning Rate: 0.001\n",
      "Epoch 0, Train MSE: 0.09817879248110094\n",
      "Neural Net Test MSE: 0.09419779297548178\n",
      "Epoch 1, Train MSE: 0.09729133949877362\n",
      "Neural Net Test MSE: 0.09615109717227208\n",
      "Epoch 2, Train MSE: 0.09699021934949299\n",
      "Neural Net Test MSE: 0.09407016620398193\n",
      "Epoch 3, Train MSE: 0.0970788383045359\n",
      "Neural Net Test MSE: 0.09428861143817073\n",
      "Epoch 4, Train MSE: 0.09793364414120072\n",
      "Neural Net Test MSE: 0.09684719917832504\n",
      "Weight Decay: 0.001, Learning Rate: 0.01\n",
      "Epoch 0, Train MSE: 4.3562055718276\n",
      "Neural Net Test MSE: 0.09491154233932315\n",
      "Epoch 1, Train MSE: 2.206564628840637\n",
      "Neural Net Test MSE: 0.09444597440909373\n",
      "Epoch 2, Train MSE: 1.6964601578280638\n",
      "Neural Net Test MSE: 0.09433017654059768\n",
      "Epoch 3, Train MSE: 7.950648362076399\n",
      "Neural Net Test MSE: 0.0942784351620505\n",
      "Epoch 4, Train MSE: 8.506404295117166\n",
      "Neural Net Test MSE: 0.0945284646279751\n",
      "Weight Decay: 0.01, Learning Rate: 1e-05\n",
      "Epoch 0, Train MSE: 0.0879558897701029\n",
      "Neural Net Test MSE: 0.08329461722719443\n",
      "Epoch 1, Train MSE: 0.08220073120889608\n",
      "Neural Net Test MSE: 0.07881092802998137\n",
      "Epoch 2, Train MSE: 0.08021761096947652\n",
      "Neural Net Test MSE: 0.07799266063991624\n",
      "Epoch 3, Train MSE: 0.07815151498932525\n",
      "Neural Net Test MSE: 0.07655341270261942\n",
      "Epoch 4, Train MSE: 0.07732273100335084\n",
      "Neural Net Test MSE: 0.07466486215383694\n",
      "Weight Decay: 0.01, Learning Rate: 0.0001\n",
      "Epoch 0, Train MSE: 0.09070639315738847\n",
      "Neural Net Test MSE: 0.08559943072239178\n",
      "Epoch 1, Train MSE: 0.08707788830201633\n",
      "Neural Net Test MSE: 0.08370386997409823\n",
      "Epoch 2, Train MSE: 0.0854050998474482\n",
      "Neural Net Test MSE: 0.08507341217630587\n",
      "Epoch 3, Train MSE: 0.08444388109598806\n",
      "Neural Net Test MSE: 0.08232932454385489\n",
      "Epoch 4, Train MSE: 0.0833979281884492\n",
      "Neural Net Test MSE: 0.08097692504645801\n",
      "Weight Decay: 0.01, Learning Rate: 0.001\n",
      "Epoch 0, Train MSE: 0.09985265279516124\n",
      "Neural Net Test MSE: 0.09420515307452741\n",
      "Epoch 1, Train MSE: 0.09413374878506939\n",
      "Neural Net Test MSE: 0.09421254145980393\n",
      "Epoch 2, Train MSE: 0.09438376650393308\n",
      "Neural Net Test MSE: 0.09424258918377594\n",
      "Epoch 3, Train MSE: 0.09440435809471918\n",
      "Neural Net Test MSE: 0.09426360947976425\n",
      "Epoch 4, Train MSE: 0.09379389549391776\n",
      "Neural Net Test MSE: 0.0943257322813146\n",
      "Weight Decay: 0.01, Learning Rate: 0.01\n",
      "Epoch 0, Train MSE: 7.7142630686029285\n",
      "Neural Net Test MSE: 0.09432054238793723\n",
      "Epoch 1, Train MSE: 17.947823353678878\n",
      "Neural Net Test MSE: 0.09516023491417733\n",
      "Epoch 2, Train MSE: 5.265861589186683\n",
      "Neural Net Test MSE: 0.09436687254471225\n",
      "Epoch 3, Train MSE: 12.29023590320061\n",
      "Neural Net Test MSE: 0.09564328384379107\n",
      "Epoch 4, Train MSE: 10.863166297001557\n",
      "Neural Net Test MSE: 0.09438345560788226\n",
      "Weight Decay: 0.1, Learning Rate: 1e-05\n",
      "Epoch 0, Train MSE: 0.088702688783863\n",
      "Neural Net Test MSE: 0.08736983530587022\n",
      "Epoch 1, Train MSE: 0.08675686699179173\n",
      "Neural Net Test MSE: 0.08812541874989027\n",
      "Epoch 2, Train MSE: 0.08685483121812386\n",
      "Neural Net Test MSE: 0.08748429596219941\n",
      "Epoch 3, Train MSE: 0.08679882869937836\n",
      "Neural Net Test MSE: 0.08962461984046131\n",
      "Epoch 4, Train MSE: 0.08665358383226662\n",
      "Neural Net Test MSE: 0.0886286053522242\n",
      "Weight Decay: 0.1, Learning Rate: 0.0001\n",
      "Epoch 0, Train MSE: 0.0929826425781971\n",
      "Neural Net Test MSE: 0.09061075851861143\n",
      "Epoch 1, Train MSE: 0.08991658754999404\n",
      "Neural Net Test MSE: 0.08989989809592891\n",
      "Epoch 2, Train MSE: 0.08955508692252476\n",
      "Neural Net Test MSE: 0.09040104193337536\n",
      "Epoch 3, Train MSE: 0.08947547784354191\n",
      "Neural Net Test MSE: 0.08965579133528001\n",
      "Epoch 4, Train MSE: 0.08909480484518925\n",
      "Neural Net Test MSE: 0.08912115793401755\n",
      "Weight Decay: 0.1, Learning Rate: 0.001\n",
      "Epoch 0, Train MSE: 0.09796095361069738\n",
      "Neural Net Test MSE: 0.09442453337602587\n",
      "Epoch 1, Train MSE: 0.09253133038158602\n",
      "Neural Net Test MSE: 0.0950098054246837\n",
      "Epoch 2, Train MSE: 0.09217825315104049\n",
      "Neural Net Test MSE: 0.09500979853515834\n",
      "Epoch 3, Train MSE: 0.09352350260841605\n",
      "Neural Net Test MSE: 0.0950207641368178\n",
      "Epoch 4, Train MSE: 0.09204408906053944\n",
      "Neural Net Test MSE: 0.09500985710827163\n",
      "Weight Decay: 0.1, Learning Rate: 0.01\n",
      "Epoch 0, Train MSE: 11.87790529896545\n",
      "Neural Net Test MSE: 0.09558523671378723\n",
      "Epoch 1, Train MSE: 50.49134341315163\n",
      "Neural Net Test MSE: 0.09354215495519246\n",
      "Epoch 2, Train MSE: 12.934933902247414\n",
      "Neural Net Test MSE: 0.09491884444799385\n",
      "Epoch 3, Train MSE: 19.17113223034985\n",
      "Neural Net Test MSE: 266.5171329853799\n",
      "Epoch 4, Train MSE: 92.89583882199358\n",
      "Neural Net Test MSE: 0.1096969828753616\n",
      "Weight Decay: 0, Learning Rate: 1e-05\n",
      "Epoch 0, Train MSE: 0.08691448489507812\n",
      "Neural Net Test MSE: 0.08092267737096658\n",
      "Epoch 1, Train MSE: 0.08010407696979627\n",
      "Neural Net Test MSE: 0.07485458251460679\n",
      "Epoch 2, Train MSE: 0.0763940898263533\n",
      "Neural Net Test MSE: 0.07305244167057867\n",
      "Epoch 3, Train MSE: 0.07381012167849173\n",
      "Neural Net Test MSE: 0.07139052437474376\n",
      "Epoch 4, Train MSE: 0.07120671196791563\n",
      "Neural Net Test MSE: 0.06754730275245543\n",
      "Weight Decay: 0, Learning Rate: 0.0001\n",
      "Epoch 0, Train MSE: 0.08941379447038372\n",
      "Neural Net Test MSE: 0.0811958901776596\n",
      "Epoch 1, Train MSE: 0.07985818466339585\n",
      "Neural Net Test MSE: 0.07350786706249121\n",
      "Epoch 2, Train MSE: 0.07578133760754902\n",
      "Neural Net Test MSE: 0.07046995389577196\n",
      "Epoch 3, Train MSE: 0.07321408106242705\n",
      "Neural Net Test MSE: 0.06813033128271061\n",
      "Epoch 4, Train MSE: 0.07072847106948423\n",
      "Neural Net Test MSE: 0.06829035854711422\n",
      "Weight Decay: 0, Learning Rate: 0.001\n",
      "Epoch 0, Train MSE: 0.09220746003743038\n",
      "Neural Net Test MSE: 0.08576196194278925\n",
      "Epoch 1, Train MSE: 0.08237133681296538\n",
      "Neural Net Test MSE: 0.08010372145197815\n",
      "Epoch 2, Train MSE: 0.08167292471406473\n",
      "Neural Net Test MSE: 0.08161938200502053\n",
      "Epoch 3, Train MSE: 0.08068521956924694\n",
      "Neural Net Test MSE: 0.07774837808563595\n",
      "Epoch 4, Train MSE: 0.07995333758594741\n",
      "Neural Net Test MSE: 0.08200151863762026\n",
      "Weight Decay: 0, Learning Rate: 0.01\n",
      "Epoch 0, Train MSE: 0.4124202040097905\n",
      "Neural Net Test MSE: 0.09451552182665587\n",
      "Epoch 1, Train MSE: 0.09213743429286063\n",
      "Neural Net Test MSE: 0.09451517324921116\n",
      "Epoch 2, Train MSE: 0.09213754283270753\n",
      "Neural Net Test MSE: 0.09451517324921116\n",
      "Epoch 3, Train MSE: 0.09213754281952931\n",
      "Neural Net Test MSE: 0.09451517324921116\n",
      "Epoch 4, Train MSE: 0.09213754281952931\n",
      "Neural Net Test MSE: 0.09451517324921116\n",
      "Weight Decay: 1, Learning Rate: 1e-05\n",
      "Epoch 0, Train MSE: 0.09800538186977105\n",
      "Neural Net Test MSE: 0.1045758312543247\n",
      "Epoch 1, Train MSE: 0.09766805525330997\n",
      "Neural Net Test MSE: 0.10406478625618427\n",
      "Epoch 2, Train MSE: 0.09734175586207813\n",
      "Neural Net Test MSE: 0.10396672529896564\n",
      "Epoch 3, Train MSE: 0.0973371449160164\n",
      "Neural Net Test MSE: 0.103743449599797\n",
      "Epoch 4, Train MSE: 0.09741273712627994\n",
      "Neural Net Test MSE: 0.10431807172359633\n",
      "Weight Decay: 1, Learning Rate: 0.0001\n",
      "Epoch 0, Train MSE: 0.10034542522793698\n",
      "Neural Net Test MSE: 0.10335072873352909\n",
      "Epoch 1, Train MSE: 0.09998970068610633\n",
      "Neural Net Test MSE: 0.10560167801708661\n",
      "Epoch 2, Train MSE: 0.09981901826330247\n",
      "Neural Net Test MSE: 0.10375436495392779\n",
      "Epoch 3, Train MSE: 0.09953458069457426\n",
      "Neural Net Test MSE: 0.10459812165987867\n",
      "Epoch 4, Train MSE: 0.09981541612041535\n",
      "Neural Net Test MSE: 0.10481566356858037\n",
      "Weight Decay: 1, Learning Rate: 0.001\n",
      "Epoch 0, Train MSE: 0.11312178614160595\n",
      "Neural Net Test MSE: 0.11888275101342284\n",
      "Epoch 1, Train MSE: 0.11237961527643474\n",
      "Neural Net Test MSE: 0.11888334134500553\n",
      "Epoch 2, Train MSE: 0.112379585808615\n",
      "Neural Net Test MSE: 0.11888307716388177\n",
      "Epoch 3, Train MSE: 0.11237961671394342\n",
      "Neural Net Test MSE: 0.11888306034260453\n",
      "Epoch 4, Train MSE: 0.11237958228528412\n",
      "Neural Net Test MSE: 0.11888275838830521\n",
      "Weight Decay: 1, Learning Rate: 0.01\n",
      "Epoch 0, Train MSE: 158.9669922612254\n",
      "Neural Net Test MSE: 0.8027485640882353\n",
      "Epoch 1, Train MSE: 145.1684050770115\n",
      "Neural Net Test MSE: 0.13137104309923994\n",
      "Epoch 2, Train MSE: 36.3687657343431\n",
      "Neural Net Test MSE: 0.3746677967522926\n",
      "Epoch 3, Train MSE: 26.1466021067329\n",
      "Neural Net Test MSE: 0.13957834660847315\n",
      "Epoch 4, Train MSE: 311.89854973357853\n",
      "Neural Net Test MSE: 0.10056001095683764\n",
      "Weight Decay: 10, Learning Rate: 1e-05\n",
      "Epoch 0, Train MSE: 0.2554560272235137\n",
      "Neural Net Test MSE: 0.3027641728358513\n",
      "Epoch 1, Train MSE: 0.2573593333856643\n",
      "Neural Net Test MSE: 0.254773964375303\n",
      "Epoch 2, Train MSE: 0.23100346103150288\n",
      "Neural Net Test MSE: 0.24345582394672471\n",
      "Epoch 3, Train MSE: 0.226218482180407\n",
      "Neural Net Test MSE: 0.2418691201462603\n",
      "Epoch 4, Train MSE: 0.225561807363992\n",
      "Neural Net Test MSE: 0.2416532900729317\n",
      "Weight Decay: 10, Learning Rate: 0.0001\n",
      "Epoch 0, Train MSE: 0.22416020225196026\n",
      "Neural Net Test MSE: 0.24051032624963012\n",
      "Epoch 1, Train MSE: 0.22545109769252225\n",
      "Neural Net Test MSE: 0.24051029775107383\n",
      "Epoch 2, Train MSE: 0.22545109626715854\n",
      "Neural Net Test MSE: 0.24051029775107383\n",
      "Epoch 3, Train MSE: 0.2254510962631763\n",
      "Neural Net Test MSE: 0.24051029775107383\n",
      "Epoch 4, Train MSE: 0.22545109626483814\n",
      "Neural Net Test MSE: 0.24051029775107383\n",
      "Weight Decay: 10, Learning Rate: 0.001\n",
      "Epoch 0, Train MSE: 0.2248263046479405\n",
      "Neural Net Test MSE: 0.24196824222898983\n",
      "Epoch 1, Train MSE: 0.22544689107633467\n",
      "Neural Net Test MSE: 0.24196823731127853\n",
      "Epoch 2, Train MSE: 0.2254468935447372\n",
      "Neural Net Test MSE: 0.24196823855195973\n",
      "Epoch 3, Train MSE: 0.22544689294718898\n",
      "Neural Net Test MSE: 0.24196825114361076\n",
      "Epoch 4, Train MSE: 0.22544689358066525\n",
      "Neural Net Test MSE: 0.24196823350340468\n",
      "Weight Decay: 10, Learning Rate: 0.01\n",
      "Epoch 0, Train MSE: 0.22542939231867895\n",
      "Neural Net Test MSE: 0.24055924469599546\n",
      "Epoch 1, Train MSE: 0.22556199021447038\n",
      "Neural Net Test MSE: 0.24056887690483572\n",
      "Epoch 2, Train MSE: 0.225561948788387\n",
      "Neural Net Test MSE: 0.24053913815730293\n",
      "Epoch 3, Train MSE: 0.22556222285627564\n",
      "Neural Net Test MSE: 0.2405592029919755\n",
      "Epoch 4, Train MSE: 0.22556222101956777\n",
      "Neural Net Test MSE: 0.24057011147007973\n"
     ]
    }
   ],
   "source": [
    "alphas = [1e-4,1e-3,1e-2,1e-1,0,1,10]\n",
    "lrs = [1e-5,1e-4,1e-3,1e-2]\n",
    "\n",
    "for alpha in alphas:\n",
    "    for lr in lrs:\n",
    "        \n",
    "        print('Weight Decay: '+str(alpha)+', Learning Rate: '+str(lr))\n",
    "        BasicNN = nn.Sequential(\n",
    "            nn.Linear(len(pairwise_WDAn_X[0]),512),\n",
    "            nn.ReLU(),\n",
    "            nn.Linear(512,128),\n",
    "            nn.Dropout(0.2),\n",
    "            nn.ReLU(),\n",
    "            nn.Linear(128,1)\n",
    "        )\n",
    "\n",
    "        criterion = nn.MSELoss()\n",
    "        optimizer = torch.optim.Adam(BasicNN.parameters(),lr=lr,weight_decay=alpha)\n",
    "\n",
    "        epochs = 5\n",
    "        \n",
    "        for i in range(epochs):\n",
    "            curr_loss = 0\n",
    "            for k in range(len(train_x)):\n",
    "                X = torch.Tensor(train_x[k])\n",
    "                y = torch.Tensor([train_y[k]])\n",
    "\n",
    "                optimizer.zero_grad()\n",
    "\n",
    "                output = BasicNN(X)\n",
    "                loss = criterion(output, y)\n",
    "                loss.backward()\n",
    "                optimizer.step()\n",
    "\n",
    "                curr_loss += loss.item()\n",
    "\n",
    "            print('Epoch '+str(i)+', Train MSE: '+ str(curr_loss/len(train_x)))\n",
    "\n",
    "            with torch.no_grad():\n",
    "                test_preds = np.transpose(BasicNN(torch.Tensor(test_x)))[0]\n",
    "                print('Neural Net Test MSE: '+str(sklearn.metrics.mean_squared_error(test_preds,test_y)))\n",
    "        \n"
   ]
  },
  {
   "cell_type": "markdown",
   "metadata": {},
   "source": [
    "### Alpha, LR = (1e-4,1e-4) or (0,1e-5)"
   ]
  },
  {
   "cell_type": "code",
   "execution_count": 8,
   "metadata": {},
   "outputs": [],
   "source": [
    "BasicNN = nn.Sequential(\n",
    "    nn.Linear(len(pairwise_WDAn_X[0]),512),\n",
    "    nn.ReLU(),\n",
    "    nn.Linear(512,128),\n",
    "    nn.Dropout(0.2),\n",
    "    nn.ReLU(),\n",
    "    nn.Linear(128,1)\n",
    ")\n",
    "\n",
    "criterion = nn.MSELoss()\n",
    "optimizer = torch.optim.Adam(BasicNN.parameters(),lr=1e-4,weight_decay=1e-4)\n",
    "\n",
    "epochs = 20"
   ]
  },
  {
   "cell_type": "code",
   "execution_count": 9,
   "metadata": {},
   "outputs": [
    {
     "name": "stdout",
     "output_type": "stream",
     "text": [
      "Epoch 0, Train MSE: 0.08983937128204726\n",
      "Neural Net Test MSE: 0.08375771355461349\n",
      "Epoch 1, Train MSE: 0.0813425854141002\n",
      "Neural Net Test MSE: 0.07750277160507042\n",
      "Epoch 2, Train MSE: 0.07797892654698683\n",
      "Neural Net Test MSE: 0.07161010515420482\n",
      "Epoch 3, Train MSE: 0.07521553447005085\n",
      "Neural Net Test MSE: 0.07126278810782449\n",
      "Epoch 4, Train MSE: 0.07303566736887897\n",
      "Neural Net Test MSE: 0.06989680566097316\n",
      "Epoch 5, Train MSE: 0.0707476293446527\n",
      "Neural Net Test MSE: 0.06842710624385115\n",
      "Epoch 6, Train MSE: 0.0692623049965984\n",
      "Neural Net Test MSE: 0.06721430529910544\n",
      "Epoch 7, Train MSE: 0.0682621368587001\n",
      "Neural Net Test MSE: 0.06635145053662773\n",
      "Epoch 8, Train MSE: 0.06706365980311792\n",
      "Neural Net Test MSE: 0.06565245704623725\n",
      "Epoch 9, Train MSE: 0.06542091053556888\n",
      "Neural Net Test MSE: 0.06461590542971786\n",
      "Epoch 10, Train MSE: 0.06410630606881733\n",
      "Neural Net Test MSE: 0.06403482722255388\n",
      "Epoch 11, Train MSE: 0.06354074662001387\n",
      "Neural Net Test MSE: 0.06523352141275617\n",
      "Epoch 12, Train MSE: 0.0625106803401887\n",
      "Neural Net Test MSE: 0.06513267200966183\n",
      "Epoch 13, Train MSE: 0.061416178304357257\n",
      "Neural Net Test MSE: 0.06617784061191742\n",
      "Epoch 14, Train MSE: 0.06028482170019834\n",
      "Neural Net Test MSE: 0.06525052572985102\n",
      "Epoch 15, Train MSE: 0.05978374155448428\n",
      "Neural Net Test MSE: 0.0654983751028756\n",
      "Epoch 16, Train MSE: 0.05865405812604781\n",
      "Neural Net Test MSE: 0.0652161191166551\n",
      "Epoch 17, Train MSE: 0.057832813664368064\n",
      "Neural Net Test MSE: 0.06669912683615707\n",
      "Epoch 18, Train MSE: 0.05724712124982717\n",
      "Neural Net Test MSE: 0.06569913458249467\n",
      "Epoch 19, Train MSE: 0.05625469202618949\n",
      "Neural Net Test MSE: 0.06684286017220063\n"
     ]
    }
   ],
   "source": [
    "for i in range(epochs):\n",
    "    curr_loss = 0\n",
    "    for k in range(len(train_x)):\n",
    "        X = torch.Tensor(train_x[k])\n",
    "        y = torch.Tensor([train_y[k]])\n",
    "        \n",
    "        optimizer.zero_grad()\n",
    "        \n",
    "        output = BasicNN(X)\n",
    "        loss = criterion(output, y)\n",
    "        loss.backward()\n",
    "        optimizer.step()\n",
    "        \n",
    "        curr_loss += loss.item()\n",
    "        \n",
    "    print('Epoch '+str(i)+', Train MSE: '+ str(curr_loss/len(train_x)))\n",
    "        \n",
    "    with torch.no_grad():\n",
    "        test_preds = np.transpose(BasicNN(torch.Tensor(test_x)))[0]\n",
    "        print('Neural Net Test MSE: '+str(sklearn.metrics.mean_squared_error(test_preds,test_y)))"
   ]
  },
  {
   "cell_type": "markdown",
   "metadata": {},
   "source": [
    "## Normalized Growth Ratio Pair Prediction"
   ]
  },
  {
   "cell_type": "code",
   "execution_count": 296,
   "metadata": {},
   "outputs": [],
   "source": [
    "bac_rxn_ind = pickle.load( open( \"Generated_Data/bac_rxn_ind.pickle\", \"rb\" ) )\n",
    "bac_met_ind = pickle.load( open( \"Generated_Data/bac_met_ind.pickle\", \"rb\" ) )"
   ]
  },
  {
   "cell_type": "code",
   "execution_count": 297,
   "metadata": {},
   "outputs": [],
   "source": [
    "p_n_g = pd.read_csv('Generated_Data/pairwise_w_growth.csv')"
   ]
  },
  {
   "cell_type": "code",
   "execution_count": 298,
   "metadata": {},
   "outputs": [],
   "source": [
    "p_n_g = p_n_g.drop('Unnamed: 0',axis=1)"
   ]
  },
  {
   "cell_type": "markdown",
   "metadata": {},
   "source": [
    "Augment data by switching places"
   ]
  },
  {
   "cell_type": "code",
   "execution_count": 299,
   "metadata": {},
   "outputs": [
    {
     "data": {
      "text/html": [
       "<div>\n",
       "<style scoped>\n",
       "    .dataframe tbody tr th:only-of-type {\n",
       "        vertical-align: middle;\n",
       "    }\n",
       "\n",
       "    .dataframe tbody tr th {\n",
       "        vertical-align: top;\n",
       "    }\n",
       "\n",
       "    .dataframe thead th {\n",
       "        text-align: right;\n",
       "    }\n",
       "</style>\n",
       "<table border=\"1\" class=\"dataframe\">\n",
       "  <thead>\n",
       "    <tr style=\"text-align: right;\">\n",
       "      <th></th>\n",
       "      <th>Strain1</th>\n",
       "      <th>Strain2</th>\n",
       "      <th>MetabolicDistance</th>\n",
       "      <th>WesternDietAnaerobic_Strain1</th>\n",
       "      <th>WesternDietAnaerobic_Strain2</th>\n",
       "      <th>WesternDietAerobic_Strain1</th>\n",
       "      <th>WesternDietAerobic_Strain2</th>\n",
       "      <th>HighFiberDietAnaerobic_Strain1</th>\n",
       "      <th>HighFiberDietAnaerobic_Strain2</th>\n",
       "      <th>HighFiberDietAerobic_Strain1</th>\n",
       "      <th>HighFiberDietAerobic_Strain2</th>\n",
       "      <th>S6 WD An 1</th>\n",
       "      <th>S6 WD An 2</th>\n",
       "      <th>S6 WD Ae 1</th>\n",
       "      <th>S6 WD Ae 2</th>\n",
       "      <th>S6 HFD An 1</th>\n",
       "      <th>S6 HFD An 2</th>\n",
       "      <th>S6 HFD Ae 1</th>\n",
       "      <th>S6 HFD Ae 2</th>\n",
       "    </tr>\n",
       "  </thead>\n",
       "  <tbody>\n",
       "    <tr>\n",
       "      <td>298373</td>\n",
       "      <td>Yersinia_rohdei_ATCC_43380</td>\n",
       "      <td>Yersinia_kristensenii_ATCC_33638</td>\n",
       "      <td>0.073990</td>\n",
       "      <td>0.215689</td>\n",
       "      <td>0.241949</td>\n",
       "      <td>0.221143</td>\n",
       "      <td>0.236495</td>\n",
       "      <td>0.110383</td>\n",
       "      <td>0.118436</td>\n",
       "      <td>0.111619</td>\n",
       "      <td>0.117200</td>\n",
       "      <td>0.457639</td>\n",
       "      <td>0.457639</td>\n",
       "      <td>0.457639</td>\n",
       "      <td>0.457639</td>\n",
       "      <td>0.228819</td>\n",
       "      <td>0.228819</td>\n",
       "      <td>0.228819</td>\n",
       "      <td>0.228819</td>\n",
       "    </tr>\n",
       "    <tr>\n",
       "      <td>298374</td>\n",
       "      <td>Yokenella_regensburgei_ATCC_43003</td>\n",
       "      <td>Yersinia_kristensenii_ATCC_33638</td>\n",
       "      <td>0.164637</td>\n",
       "      <td>0.240174</td>\n",
       "      <td>0.217464</td>\n",
       "      <td>0.248677</td>\n",
       "      <td>0.208962</td>\n",
       "      <td>0.122666</td>\n",
       "      <td>0.106153</td>\n",
       "      <td>0.125371</td>\n",
       "      <td>0.103448</td>\n",
       "      <td>0.457639</td>\n",
       "      <td>0.457639</td>\n",
       "      <td>0.457639</td>\n",
       "      <td>0.457639</td>\n",
       "      <td>0.228819</td>\n",
       "      <td>0.228819</td>\n",
       "      <td>0.228819</td>\n",
       "      <td>0.228819</td>\n",
       "    </tr>\n",
       "    <tr>\n",
       "      <td>298375</td>\n",
       "      <td>Yersinia_rohdei_ATCC_43380</td>\n",
       "      <td>Yersinia_pseudotuberculosis_YPIII</td>\n",
       "      <td>0.123241</td>\n",
       "      <td>0.278240</td>\n",
       "      <td>0.179399</td>\n",
       "      <td>0.258750</td>\n",
       "      <td>0.198889</td>\n",
       "      <td>0.137034</td>\n",
       "      <td>0.091785</td>\n",
       "      <td>0.128764</td>\n",
       "      <td>0.100055</td>\n",
       "      <td>0.457639</td>\n",
       "      <td>0.457639</td>\n",
       "      <td>0.457639</td>\n",
       "      <td>0.457639</td>\n",
       "      <td>0.228819</td>\n",
       "      <td>0.228819</td>\n",
       "      <td>0.228819</td>\n",
       "      <td>0.228819</td>\n",
       "    </tr>\n",
       "    <tr>\n",
       "      <td>298376</td>\n",
       "      <td>Yokenella_regensburgei_ATCC_43003</td>\n",
       "      <td>Yersinia_pseudotuberculosis_YPIII</td>\n",
       "      <td>0.172193</td>\n",
       "      <td>0.282532</td>\n",
       "      <td>0.175107</td>\n",
       "      <td>0.271263</td>\n",
       "      <td>0.186376</td>\n",
       "      <td>0.142342</td>\n",
       "      <td>0.086477</td>\n",
       "      <td>0.137148</td>\n",
       "      <td>0.091671</td>\n",
       "      <td>0.457639</td>\n",
       "      <td>0.457639</td>\n",
       "      <td>0.457639</td>\n",
       "      <td>0.457639</td>\n",
       "      <td>0.228819</td>\n",
       "      <td>0.228819</td>\n",
       "      <td>0.228819</td>\n",
       "      <td>0.228819</td>\n",
       "    </tr>\n",
       "    <tr>\n",
       "      <td>298377</td>\n",
       "      <td>Yokenella_regensburgei_ATCC_43003</td>\n",
       "      <td>Yersinia_rohdei_ATCC_43380</td>\n",
       "      <td>0.137244</td>\n",
       "      <td>0.252982</td>\n",
       "      <td>0.204657</td>\n",
       "      <td>0.258087</td>\n",
       "      <td>0.199552</td>\n",
       "      <td>0.126369</td>\n",
       "      <td>0.102450</td>\n",
       "      <td>0.128426</td>\n",
       "      <td>0.100393</td>\n",
       "      <td>0.457639</td>\n",
       "      <td>0.457639</td>\n",
       "      <td>0.457639</td>\n",
       "      <td>0.457639</td>\n",
       "      <td>0.228819</td>\n",
       "      <td>0.228819</td>\n",
       "      <td>0.228819</td>\n",
       "      <td>0.228819</td>\n",
       "    </tr>\n",
       "  </tbody>\n",
       "</table>\n",
       "</div>"
      ],
      "text/plain": [
       "                                  Strain1                            Strain2  \\\n",
       "298373         Yersinia_rohdei_ATCC_43380   Yersinia_kristensenii_ATCC_33638   \n",
       "298374  Yokenella_regensburgei_ATCC_43003   Yersinia_kristensenii_ATCC_33638   \n",
       "298375         Yersinia_rohdei_ATCC_43380  Yersinia_pseudotuberculosis_YPIII   \n",
       "298376  Yokenella_regensburgei_ATCC_43003  Yersinia_pseudotuberculosis_YPIII   \n",
       "298377  Yokenella_regensburgei_ATCC_43003         Yersinia_rohdei_ATCC_43380   \n",
       "\n",
       "        MetabolicDistance  WesternDietAnaerobic_Strain1  \\\n",
       "298373           0.073990                      0.215689   \n",
       "298374           0.164637                      0.240174   \n",
       "298375           0.123241                      0.278240   \n",
       "298376           0.172193                      0.282532   \n",
       "298377           0.137244                      0.252982   \n",
       "\n",
       "        WesternDietAnaerobic_Strain2  WesternDietAerobic_Strain1  \\\n",
       "298373                      0.241949                    0.221143   \n",
       "298374                      0.217464                    0.248677   \n",
       "298375                      0.179399                    0.258750   \n",
       "298376                      0.175107                    0.271263   \n",
       "298377                      0.204657                    0.258087   \n",
       "\n",
       "        WesternDietAerobic_Strain2  HighFiberDietAnaerobic_Strain1  \\\n",
       "298373                    0.236495                        0.110383   \n",
       "298374                    0.208962                        0.122666   \n",
       "298375                    0.198889                        0.137034   \n",
       "298376                    0.186376                        0.142342   \n",
       "298377                    0.199552                        0.126369   \n",
       "\n",
       "        HighFiberDietAnaerobic_Strain2  HighFiberDietAerobic_Strain1  \\\n",
       "298373                        0.118436                      0.111619   \n",
       "298374                        0.106153                      0.125371   \n",
       "298375                        0.091785                      0.128764   \n",
       "298376                        0.086477                      0.137148   \n",
       "298377                        0.102450                      0.128426   \n",
       "\n",
       "        HighFiberDietAerobic_Strain2  S6 WD An 1  S6 WD An 2  S6 WD Ae 1  \\\n",
       "298373                      0.117200    0.457639    0.457639    0.457639   \n",
       "298374                      0.103448    0.457639    0.457639    0.457639   \n",
       "298375                      0.100055    0.457639    0.457639    0.457639   \n",
       "298376                      0.091671    0.457639    0.457639    0.457639   \n",
       "298377                      0.100393    0.457639    0.457639    0.457639   \n",
       "\n",
       "        S6 WD Ae 2  S6 HFD An 1  S6 HFD An 2  S6 HFD Ae 1  S6 HFD Ae 2  \n",
       "298373    0.457639     0.228819     0.228819     0.228819     0.228819  \n",
       "298374    0.457639     0.228819     0.228819     0.228819     0.228819  \n",
       "298375    0.457639     0.228819     0.228819     0.228819     0.228819  \n",
       "298376    0.457639     0.228819     0.228819     0.228819     0.228819  \n",
       "298377    0.457639     0.228819     0.228819     0.228819     0.228819  "
      ]
     },
     "execution_count": 299,
     "metadata": {},
     "output_type": "execute_result"
    }
   ],
   "source": [
    "# columns = ['Strain2','Strain1','MetabolicDistance','WesternDietAnaerobic_Strain2','WesternDietAnaerobic_Strain1',\n",
    "#           'WesternDietAerobic_Strain2','WesternDietAerobic_Strain1','HighFiberDietAnaerobic_Strain2',\n",
    "#            'HighFiberDietAnaerobic_Strain1','HighFiberDietAerobic_Strain2','HighFiberDietAerobic_Strain1',\n",
    "#           'S6 WD An 2','S6 WD An 1','S6 WD Ae 2','S6 WD Ae 1','S6 HFD An 2','S6 HFD An 1','S6 HFD Ae 2','S6 HFD Ae 1']\n",
    "p_n_g_reversed = p_n_g.copy()\n",
    "\n",
    "p_n_g_reversed['Strain1'] = p_n_g['Strain2']\n",
    "p_n_g_reversed['Strain2'] = p_n_g['Strain1']\n",
    "\n",
    "p_n_g_reversed['WesternDietAnaerobic_Strain1'] = p_n_g['WesternDietAnaerobic_Strain2']\n",
    "p_n_g_reversed['WesternDietAnaerobic_Strain2'] = p_n_g['WesternDietAnaerobic_Strain1']\n",
    "p_n_g_reversed['WesternDietAerobic_Strain1'] = p_n_g['WesternDietAerobic_Strain2']\n",
    "p_n_g_reversed['WesternDietAerobic_Strain2'] = p_n_g['WesternDietAerobic_Strain1']\n",
    "p_n_g_reversed['HighFiberDietAnaerobic_Strain1'] = p_n_g['HighFiberDietAnaerobic_Strain2']\n",
    "p_n_g_reversed['HighFiberDietAnaerobic_Strain2'] = p_n_g['HighFiberDietAnaerobic_Strain1']\n",
    "p_n_g_reversed['HighFiberDietAerobic_Strain1'] = p_n_g['HighFiberDietAerobic_Strain2']\n",
    "p_n_g_reversed['HighFiberDietAerobic_Strain2'] = p_n_g['HighFiberDietAerobic_Strain1']\n",
    "\n",
    "p_n_g_reversed['S6 WD An 1'] = p_n_g['S6 WD An 2']\n",
    "p_n_g_reversed['S6 WD An 2'] = p_n_g['S6 WD An 1']\n",
    "p_n_g_reversed['S6 WD Ae 1'] = p_n_g['S6 WD Ae 2']\n",
    "p_n_g_reversed['S6 WD Ae 2'] = p_n_g['S6 WD Ae 1']\n",
    "p_n_g_reversed['S6 HFD An 1'] = p_n_g['S6 HFD An 2']\n",
    "p_n_g_reversed['S6 HFD An 2'] = p_n_g['S6 HFD An 1']\n",
    "p_n_g_reversed['S6 HFD Ae 1'] = p_n_g['S6 HFD Ae 2']\n",
    "p_n_g_reversed['S6 HFD Ae 2'] = p_n_g['S6 HFD Ae 1']\n",
    "\n",
    "p_n_g_reversed.tail()"
   ]
  },
  {
   "cell_type": "code",
   "execution_count": 300,
   "metadata": {},
   "outputs": [],
   "source": [
    "p_n_g_duplicated = p_n_g.append(p_n_g_reversed,ignore_index=True)"
   ]
  },
  {
   "cell_type": "code",
   "execution_count": 301,
   "metadata": {},
   "outputs": [
    {
     "data": {
      "text/html": [
       "<div>\n",
       "<style scoped>\n",
       "    .dataframe tbody tr th:only-of-type {\n",
       "        vertical-align: middle;\n",
       "    }\n",
       "\n",
       "    .dataframe tbody tr th {\n",
       "        vertical-align: top;\n",
       "    }\n",
       "\n",
       "    .dataframe thead th {\n",
       "        text-align: right;\n",
       "    }\n",
       "</style>\n",
       "<table border=\"1\" class=\"dataframe\">\n",
       "  <thead>\n",
       "    <tr style=\"text-align: right;\">\n",
       "      <th></th>\n",
       "      <th>Strain1</th>\n",
       "      <th>Strain2</th>\n",
       "      <th>MetabolicDistance</th>\n",
       "      <th>WesternDietAnaerobic_Strain1</th>\n",
       "      <th>WesternDietAnaerobic_Strain2</th>\n",
       "      <th>WesternDietAerobic_Strain1</th>\n",
       "      <th>WesternDietAerobic_Strain2</th>\n",
       "      <th>HighFiberDietAnaerobic_Strain1</th>\n",
       "      <th>HighFiberDietAnaerobic_Strain2</th>\n",
       "      <th>HighFiberDietAerobic_Strain1</th>\n",
       "      <th>HighFiberDietAerobic_Strain2</th>\n",
       "      <th>S6 WD An 1</th>\n",
       "      <th>S6 WD An 2</th>\n",
       "      <th>S6 WD Ae 1</th>\n",
       "      <th>S6 WD Ae 2</th>\n",
       "      <th>S6 HFD An 1</th>\n",
       "      <th>S6 HFD An 2</th>\n",
       "      <th>S6 HFD Ae 1</th>\n",
       "      <th>S6 HFD Ae 2</th>\n",
       "    </tr>\n",
       "  </thead>\n",
       "  <tbody>\n",
       "    <tr>\n",
       "      <td>596751</td>\n",
       "      <td>Yersinia_rohdei_ATCC_43380</td>\n",
       "      <td>Yersinia_kristensenii_ATCC_33638</td>\n",
       "      <td>0.073990</td>\n",
       "      <td>0.215689</td>\n",
       "      <td>0.241949</td>\n",
       "      <td>0.221143</td>\n",
       "      <td>0.236495</td>\n",
       "      <td>0.110383</td>\n",
       "      <td>0.118436</td>\n",
       "      <td>0.111619</td>\n",
       "      <td>0.117200</td>\n",
       "      <td>0.457639</td>\n",
       "      <td>0.457639</td>\n",
       "      <td>0.457639</td>\n",
       "      <td>0.457639</td>\n",
       "      <td>0.228819</td>\n",
       "      <td>0.228819</td>\n",
       "      <td>0.228819</td>\n",
       "      <td>0.228819</td>\n",
       "    </tr>\n",
       "    <tr>\n",
       "      <td>596752</td>\n",
       "      <td>Yokenella_regensburgei_ATCC_43003</td>\n",
       "      <td>Yersinia_kristensenii_ATCC_33638</td>\n",
       "      <td>0.164637</td>\n",
       "      <td>0.240174</td>\n",
       "      <td>0.217464</td>\n",
       "      <td>0.248677</td>\n",
       "      <td>0.208962</td>\n",
       "      <td>0.122666</td>\n",
       "      <td>0.106153</td>\n",
       "      <td>0.125371</td>\n",
       "      <td>0.103448</td>\n",
       "      <td>0.457639</td>\n",
       "      <td>0.457639</td>\n",
       "      <td>0.457639</td>\n",
       "      <td>0.457639</td>\n",
       "      <td>0.228819</td>\n",
       "      <td>0.228819</td>\n",
       "      <td>0.228819</td>\n",
       "      <td>0.228819</td>\n",
       "    </tr>\n",
       "    <tr>\n",
       "      <td>596753</td>\n",
       "      <td>Yersinia_rohdei_ATCC_43380</td>\n",
       "      <td>Yersinia_pseudotuberculosis_YPIII</td>\n",
       "      <td>0.123241</td>\n",
       "      <td>0.278240</td>\n",
       "      <td>0.179399</td>\n",
       "      <td>0.258750</td>\n",
       "      <td>0.198889</td>\n",
       "      <td>0.137034</td>\n",
       "      <td>0.091785</td>\n",
       "      <td>0.128764</td>\n",
       "      <td>0.100055</td>\n",
       "      <td>0.457639</td>\n",
       "      <td>0.457639</td>\n",
       "      <td>0.457639</td>\n",
       "      <td>0.457639</td>\n",
       "      <td>0.228819</td>\n",
       "      <td>0.228819</td>\n",
       "      <td>0.228819</td>\n",
       "      <td>0.228819</td>\n",
       "    </tr>\n",
       "    <tr>\n",
       "      <td>596754</td>\n",
       "      <td>Yokenella_regensburgei_ATCC_43003</td>\n",
       "      <td>Yersinia_pseudotuberculosis_YPIII</td>\n",
       "      <td>0.172193</td>\n",
       "      <td>0.282532</td>\n",
       "      <td>0.175107</td>\n",
       "      <td>0.271263</td>\n",
       "      <td>0.186376</td>\n",
       "      <td>0.142342</td>\n",
       "      <td>0.086477</td>\n",
       "      <td>0.137148</td>\n",
       "      <td>0.091671</td>\n",
       "      <td>0.457639</td>\n",
       "      <td>0.457639</td>\n",
       "      <td>0.457639</td>\n",
       "      <td>0.457639</td>\n",
       "      <td>0.228819</td>\n",
       "      <td>0.228819</td>\n",
       "      <td>0.228819</td>\n",
       "      <td>0.228819</td>\n",
       "    </tr>\n",
       "    <tr>\n",
       "      <td>596755</td>\n",
       "      <td>Yokenella_regensburgei_ATCC_43003</td>\n",
       "      <td>Yersinia_rohdei_ATCC_43380</td>\n",
       "      <td>0.137244</td>\n",
       "      <td>0.252982</td>\n",
       "      <td>0.204657</td>\n",
       "      <td>0.258087</td>\n",
       "      <td>0.199552</td>\n",
       "      <td>0.126369</td>\n",
       "      <td>0.102450</td>\n",
       "      <td>0.128426</td>\n",
       "      <td>0.100393</td>\n",
       "      <td>0.457639</td>\n",
       "      <td>0.457639</td>\n",
       "      <td>0.457639</td>\n",
       "      <td>0.457639</td>\n",
       "      <td>0.228819</td>\n",
       "      <td>0.228819</td>\n",
       "      <td>0.228819</td>\n",
       "      <td>0.228819</td>\n",
       "    </tr>\n",
       "  </tbody>\n",
       "</table>\n",
       "</div>"
      ],
      "text/plain": [
       "                                  Strain1                            Strain2  \\\n",
       "596751         Yersinia_rohdei_ATCC_43380   Yersinia_kristensenii_ATCC_33638   \n",
       "596752  Yokenella_regensburgei_ATCC_43003   Yersinia_kristensenii_ATCC_33638   \n",
       "596753         Yersinia_rohdei_ATCC_43380  Yersinia_pseudotuberculosis_YPIII   \n",
       "596754  Yokenella_regensburgei_ATCC_43003  Yersinia_pseudotuberculosis_YPIII   \n",
       "596755  Yokenella_regensburgei_ATCC_43003         Yersinia_rohdei_ATCC_43380   \n",
       "\n",
       "        MetabolicDistance  WesternDietAnaerobic_Strain1  \\\n",
       "596751           0.073990                      0.215689   \n",
       "596752           0.164637                      0.240174   \n",
       "596753           0.123241                      0.278240   \n",
       "596754           0.172193                      0.282532   \n",
       "596755           0.137244                      0.252982   \n",
       "\n",
       "        WesternDietAnaerobic_Strain2  WesternDietAerobic_Strain1  \\\n",
       "596751                      0.241949                    0.221143   \n",
       "596752                      0.217464                    0.248677   \n",
       "596753                      0.179399                    0.258750   \n",
       "596754                      0.175107                    0.271263   \n",
       "596755                      0.204657                    0.258087   \n",
       "\n",
       "        WesternDietAerobic_Strain2  HighFiberDietAnaerobic_Strain1  \\\n",
       "596751                    0.236495                        0.110383   \n",
       "596752                    0.208962                        0.122666   \n",
       "596753                    0.198889                        0.137034   \n",
       "596754                    0.186376                        0.142342   \n",
       "596755                    0.199552                        0.126369   \n",
       "\n",
       "        HighFiberDietAnaerobic_Strain2  HighFiberDietAerobic_Strain1  \\\n",
       "596751                        0.118436                      0.111619   \n",
       "596752                        0.106153                      0.125371   \n",
       "596753                        0.091785                      0.128764   \n",
       "596754                        0.086477                      0.137148   \n",
       "596755                        0.102450                      0.128426   \n",
       "\n",
       "        HighFiberDietAerobic_Strain2  S6 WD An 1  S6 WD An 2  S6 WD Ae 1  \\\n",
       "596751                      0.117200    0.457639    0.457639    0.457639   \n",
       "596752                      0.103448    0.457639    0.457639    0.457639   \n",
       "596753                      0.100055    0.457639    0.457639    0.457639   \n",
       "596754                      0.091671    0.457639    0.457639    0.457639   \n",
       "596755                      0.100393    0.457639    0.457639    0.457639   \n",
       "\n",
       "        S6 WD Ae 2  S6 HFD An 1  S6 HFD An 2  S6 HFD Ae 1  S6 HFD Ae 2  \n",
       "596751    0.457639     0.228819     0.228819     0.228819     0.228819  \n",
       "596752    0.457639     0.228819     0.228819     0.228819     0.228819  \n",
       "596753    0.457639     0.228819     0.228819     0.228819     0.228819  \n",
       "596754    0.457639     0.228819     0.228819     0.228819     0.228819  \n",
       "596755    0.457639     0.228819     0.228819     0.228819     0.228819  "
      ]
     },
     "execution_count": 301,
     "metadata": {},
     "output_type": "execute_result"
    }
   ],
   "source": [
    "p_n_g_duplicated.tail()"
   ]
  },
  {
   "cell_type": "markdown",
   "metadata": {},
   "source": [
    "## Reaction Indicator Vectors (Western - Aerobic)\n"
   ]
  },
  {
   "cell_type": "code",
   "execution_count": 302,
   "metadata": {},
   "outputs": [],
   "source": [
    "total_size = len(p_n_g_duplicated)\n",
    "train_size = 10000\n",
    "val_size = 1000\n",
    "test_size = 1000\n",
    "\n",
    "tr = sorted(random.sample(list(range(total_size)),train_size))\n",
    "val_n_te = set(range(total_size)).difference(set(tr))\n",
    "val = sorted(list(random.sample(val_n_te,val_size)))\n",
    "te = sorted(random.sample(val_n_te.difference(set(val)), test_size))"
   ]
  },
  {
   "cell_type": "code",
   "execution_count": 395,
   "metadata": {},
   "outputs": [],
   "source": [
    "x_train = []\n",
    "y_train = []\n",
    "for i,row in p_n_g_duplicated.iloc[tr].iterrows():\n",
    "    id1 = row['Strain1']\n",
    "    id2 = row['Strain2']\n",
    "    if 'Roseburia_hominis_A2_183' in [id1,id2] or id1 not in bac_rxn_ind or id2 not in bac_rxn_ind:\n",
    "        continue\n",
    "    \n",
    "    b1 = list(bac_rxn_ind[id1])\n",
    "    b2 = list(bac_rxn_ind[id2])\n",
    "    x_train.append(b1+b2)\n",
    "    y_train.append(\n",
    "        np.log([row['WesternDietAerobic_Strain1']/row['S6 WD Ae 1'],row['WesternDietAerobic_Strain2']/row['S6 WD Ae 2']]))"
   ]
  },
  {
   "cell_type": "code",
   "execution_count": 396,
   "metadata": {},
   "outputs": [],
   "source": [
    "x_val = []\n",
    "y_val = []\n",
    "for i,row in p_n_g_duplicated.iloc[val].iterrows():\n",
    "    id1 = row['Strain1']\n",
    "    id2 = row['Strain2']\n",
    "    if 'Roseburia_hominis_A2_183' in [id1,id2] or id1 not in bac_rxn_ind or id2 not in bac_rxn_ind:\n",
    "        continue\n",
    "    \n",
    "    b1 = list(bac_rxn_ind[id1])\n",
    "    b2 = list(bac_rxn_ind[id2])\n",
    "    x_val.append(b1+b2)\n",
    "    y_val.append(\n",
    "        np.log([row['WesternDietAerobic_Strain1']/row['S6 WD Ae 1'],row['WesternDietAerobic_Strain2']/row['S6 WD Ae 2']]))"
   ]
  },
  {
   "cell_type": "code",
   "execution_count": 397,
   "metadata": {},
   "outputs": [],
   "source": [
    "x_test = []\n",
    "y_test = []\n",
    "for i,row in p_n_g_duplicated.iloc[te].iterrows():\n",
    "    id1 = row['Strain1']\n",
    "    id2 = row['Strain2']\n",
    "    if 'Roseburia_hominis_A2_183' in [id1,id2] or id1 not in bac_rxn_ind or id2 not in bac_rxn_ind:\n",
    "        continue\n",
    "    \n",
    "    b1 = list(bac_rxn_ind[id1])\n",
    "    b2 = list(bac_rxn_ind[id2])\n",
    "    x_test.append(b1+b2)\n",
    "    y_test.append(\n",
    "        np.log([row['WesternDietAerobic_Strain1']/row['S6 WD Ae 1'],row['WesternDietAerobic_Strain2']/row['S6 WD Ae 2']]))"
   ]
  },
  {
   "cell_type": "code",
   "execution_count": 306,
   "metadata": {},
   "outputs": [
    {
     "data": {
      "text/plain": [
       "Text(0.5, 1.0, 'Histogram of Growth Ratios in Training Set')"
      ]
     },
     "execution_count": 306,
     "metadata": {},
     "output_type": "execute_result"
    },
    {
     "data": {
      "image/png": "[encoded data removed]",
      "text/plain": [
       "<Figure size 2160x864 with 2 Axes>"
      ]
     },
     "metadata": {
      "needs_background": "light"
     },
     "output_type": "display_data"
    }
   ],
   "source": [
    "_, axes = plt.subplots(1,2,figsize=(30,12))\n",
    "\n",
    "axes[1].hist(np.array(y_train).flatten(),bins=100)\n",
    "axes[1].set_title('Histogram of Log-Transformed Growth Ratios in Training Set')\n",
    "axes[0].hist(np.exp(np.array(y_train).flatten()),bins=100)\n",
    "axes[0].set_title('Histogram of Growth Ratios in Training Set')"
   ]
  },
  {
   "cell_type": "markdown",
   "metadata": {},
   "source": [
    "Ridge"
   ]
  },
  {
   "cell_type": "code",
   "execution_count": 322,
   "metadata": {},
   "outputs": [],
   "source": [
    "lr = linear_model.Ridge(alpha=1)"
   ]
  },
  {
   "cell_type": "code",
   "execution_count": 323,
   "metadata": {},
   "outputs": [
    {
     "data": {
      "text/plain": [
       "Ridge(alpha=1, copy_X=True, fit_intercept=True, max_iter=None, normalize=False,\n",
       "      random_state=None, solver='auto', tol=0.001)"
      ]
     },
     "execution_count": 323,
     "metadata": {},
     "output_type": "execute_result"
    }
   ],
   "source": [
    "lr.fit(x_train,y_train)"
   ]
  },
  {
   "cell_type": "code",
   "execution_count": 324,
   "metadata": {},
   "outputs": [
    {
     "name": "stdout",
     "output_type": "stream",
     "text": [
      "Ridge Regression Training MSE: 1.1351006533958534\n"
     ]
    }
   ],
   "source": [
    "print('Ridge Regression Training MSE: '+str(sklearn.metrics.mean_squared_error(lr.predict(x_train),y_train)))"
   ]
  },
  {
   "cell_type": "code",
   "execution_count": 325,
   "metadata": {},
   "outputs": [
    {
     "name": "stdout",
     "output_type": "stream",
     "text": [
      "0.00011286690051948105\n"
     ]
    },
    {
     "data": {
      "text/plain": [
       "0.038821759993154764"
      ]
     },
     "execution_count": 325,
     "metadata": {},
     "output_type": "execute_result"
    }
   ],
   "source": [
    "print(np.mean(lr.coef_))\n",
    "np.std(lr.coef_)"
   ]
  },
  {
   "cell_type": "code",
   "execution_count": 326,
   "metadata": {},
   "outputs": [
    {
     "name": "stdout",
     "output_type": "stream",
     "text": [
      "Ridge Regression Val MSE: 1.6117770212462386\n"
     ]
    }
   ],
   "source": [
    "val_preds = lr.predict(x_val)\n",
    "\n",
    "print('Ridge Regression Val MSE: '+str(sklearn.metrics.mean_squared_error(val_preds,y_val)))"
   ]
  },
  {
   "cell_type": "code",
   "execution_count": 327,
   "metadata": {},
   "outputs": [
    {
     "name": "stdout",
     "output_type": "stream",
     "text": [
      "Ridge Regression Test MSE: 1.6996638719646429\n"
     ]
    }
   ],
   "source": [
    "test_preds = lr.predict(x_test)\n",
    "\n",
    "print('Ridge Regression Test MSE: '+str(sklearn.metrics.mean_squared_error(test_preds,y_test)))"
   ]
  },
  {
   "cell_type": "markdown",
   "metadata": {},
   "source": [
    "LASSO"
   ]
  },
  {
   "cell_type": "code",
   "execution_count": 338,
   "metadata": {},
   "outputs": [],
   "source": [
    "lr = linear_model.Lasso(alpha=0.01)"
   ]
  },
  {
   "cell_type": "code",
   "execution_count": 339,
   "metadata": {},
   "outputs": [
    {
     "data": {
      "text/plain": [
       "Lasso(alpha=0.01, copy_X=True, fit_intercept=True, max_iter=1000,\n",
       "      normalize=False, positive=False, precompute=False, random_state=None,\n",
       "      selection='cyclic', tol=0.0001, warm_start=False)"
      ]
     },
     "execution_count": 339,
     "metadata": {},
     "output_type": "execute_result"
    }
   ],
   "source": [
    "lr.fit(x_train,y_train)"
   ]
  },
  {
   "cell_type": "code",
   "execution_count": 340,
   "metadata": {},
   "outputs": [
    {
     "name": "stdout",
     "output_type": "stream",
     "text": [
      "LASSO Regression Training MSE: 1.4749885664092748\n"
     ]
    }
   ],
   "source": [
    "print('LASSO Regression Training MSE: '+str(sklearn.metrics.mean_squared_error(lr.predict(x_train),y_train)))"
   ]
  },
  {
   "cell_type": "code",
   "execution_count": 341,
   "metadata": {},
   "outputs": [
    {
     "name": "stdout",
     "output_type": "stream",
     "text": [
      "-5.8546865625523936e-05\n"
     ]
    },
    {
     "data": {
      "text/plain": [
       "0.006833623651233635"
      ]
     },
     "execution_count": 341,
     "metadata": {},
     "output_type": "execute_result"
    }
   ],
   "source": [
    "print(np.mean(lr.coef_))\n",
    "np.std(lr.coef_)"
   ]
  },
  {
   "cell_type": "code",
   "execution_count": 342,
   "metadata": {},
   "outputs": [
    {
     "name": "stdout",
     "output_type": "stream",
     "text": [
      "LASSO Regression Val MSE: 1.519894270532873\n"
     ]
    }
   ],
   "source": [
    "val_preds = lr.predict(x_val)\n",
    "\n",
    "print('LASSO Regression Val MSE: '+str(sklearn.metrics.mean_squared_error(val_preds,y_val)))"
   ]
  },
  {
   "cell_type": "code",
   "execution_count": 343,
   "metadata": {},
   "outputs": [
    {
     "name": "stdout",
     "output_type": "stream",
     "text": [
      "LASSO Regression Test MSE: 1.689871029409478\n"
     ]
    }
   ],
   "source": [
    "test_preds = lr.predict(x_test)\n",
    "\n",
    "print('LASSO Regression Test MSE: '+str(sklearn.metrics.mean_squared_error(test_preds,y_test)))"
   ]
  },
  {
   "cell_type": "markdown",
   "metadata": {},
   "source": [
    "Neural Net"
   ]
  },
  {
   "cell_type": "code",
   "execution_count": 258,
   "metadata": {},
   "outputs": [],
   "source": [
    "BasicNN = nn.Sequential(\n",
    "    nn.Linear(len(x_train[0]),1024),\n",
    "    nn.ReLU(),\n",
    "    nn.Linear(1024,1024),\n",
    "    nn.Dropout(0.2),\n",
    "    nn.ReLU(),\n",
    "    nn.Linear(1024,512),\n",
    "    nn.Dropout(0.2),\n",
    "    nn.ReLU(),\n",
    "    nn.Linear(512,128),\n",
    "    nn.ReLU(),\n",
    "    nn.Linear(128,2),\n",
    ")\n",
    "\n",
    "criterion = nn.MSELoss()\n",
    "optimizer = torch.optim.Adam(BasicNN.parameters(),lr=1e-4,weight_decay=1e-4)\n",
    "\n",
    "epochs = 10"
   ]
  },
  {
   "cell_type": "code",
   "execution_count": 259,
   "metadata": {},
   "outputs": [
    {
     "name": "stdout",
     "output_type": "stream",
     "text": [
      "0.005065599513702447% completed\n",
      "Neural Net Train MSE: 1.787869061789001\n",
      "Neural Net Val MSE: 1.8278218044130767\n",
      "5.070665113216148% completed\n",
      "Neural Net Train MSE: 1.77455035894519\n",
      "Neural Net Val MSE: 1.8084966991834532\n",
      "10.136264626918596% completed\n",
      "Neural Net Train MSE: 1.76499312449765\n",
      "Neural Net Val MSE: 1.8037501764528705\n",
      "15.201864140621044% completed\n",
      "Neural Net Train MSE: 1.788315453468908\n",
      "Neural Net Val MSE: 1.8370339728706613\n",
      "20.26746365432349% completed\n",
      "Neural Net Train MSE: 1.788607291815153\n",
      "Neural Net Val MSE: 1.8291694128156852\n",
      "25.333063168025937% completed\n",
      "Neural Net Train MSE: 1.7852212497845472\n",
      "Neural Net Val MSE: 1.8178953312262225\n",
      "30.398662681728382% completed\n",
      "Neural Net Train MSE: 1.8407290833638328\n",
      "Neural Net Val MSE: 1.856471457227395\n",
      "35.46426219543083% completed\n",
      "Neural Net Train MSE: 1.8485666878754166\n",
      "Neural Net Val MSE: 1.864044654623348\n",
      "40.52986170913327% completed\n",
      "Neural Net Train MSE: 1.7633288793286501\n",
      "Neural Net Val MSE: 1.7705689171468753\n",
      "45.59546122283572% completed\n",
      "Neural Net Train MSE: 1.7970617683848409\n",
      "Neural Net Val MSE: 1.8279045780512393\n"
     ]
    },
    {
     "ename": "KeyboardInterrupt",
     "evalue": "",
     "output_type": "error",
     "traceback": [
      "\u001b[0;31m---------------------------------------------------------------------------\u001b[0m",
      "\u001b[0;31mKeyboardInterrupt\u001b[0m                         Traceback (most recent call last)",
      "\u001b[0;32m<ipython-input-259-436319260f31>\u001b[0m in \u001b[0;36m<module>\u001b[0;34m\u001b[0m\n\u001b[1;32m     16\u001b[0m         \u001b[0mloss\u001b[0m \u001b[0;34m=\u001b[0m \u001b[0mcriterion\u001b[0m\u001b[0;34m(\u001b[0m\u001b[0moutput\u001b[0m\u001b[0;34m,\u001b[0m \u001b[0my\u001b[0m\u001b[0;34m)\u001b[0m\u001b[0;34m\u001b[0m\u001b[0;34m\u001b[0m\u001b[0m\n\u001b[1;32m     17\u001b[0m         \u001b[0mloss\u001b[0m\u001b[0;34m.\u001b[0m\u001b[0mbackward\u001b[0m\u001b[0;34m(\u001b[0m\u001b[0;34m)\u001b[0m\u001b[0;34m\u001b[0m\u001b[0;34m\u001b[0m\u001b[0m\n\u001b[0;32m---> 18\u001b[0;31m         \u001b[0moptimizer\u001b[0m\u001b[0;34m.\u001b[0m\u001b[0mstep\u001b[0m\u001b[0;34m(\u001b[0m\u001b[0;34m)\u001b[0m\u001b[0;34m\u001b[0m\u001b[0;34m\u001b[0m\u001b[0m\n\u001b[0m\u001b[1;32m     19\u001b[0m \u001b[0;34m\u001b[0m\u001b[0m\n",
      "\u001b[0;32m/anaconda3/lib/python3.6/site-packages/torch/optim/adam.py\u001b[0m in \u001b[0;36mstep\u001b[0;34m(self, closure)\u001b[0m\n\u001b[1;32m    105\u001b[0m                 \u001b[0mstep_size\u001b[0m \u001b[0;34m=\u001b[0m \u001b[0mgroup\u001b[0m\u001b[0;34m[\u001b[0m\u001b[0;34m'lr'\u001b[0m\u001b[0;34m]\u001b[0m \u001b[0;34m/\u001b[0m \u001b[0mbias_correction1\u001b[0m\u001b[0;34m\u001b[0m\u001b[0;34m\u001b[0m\u001b[0m\n\u001b[1;32m    106\u001b[0m \u001b[0;34m\u001b[0m\u001b[0m\n\u001b[0;32m--> 107\u001b[0;31m                 \u001b[0mp\u001b[0m\u001b[0;34m.\u001b[0m\u001b[0mdata\u001b[0m\u001b[0;34m.\u001b[0m\u001b[0maddcdiv_\u001b[0m\u001b[0;34m(\u001b[0m\u001b[0;34m-\u001b[0m\u001b[0mstep_size\u001b[0m\u001b[0;34m,\u001b[0m \u001b[0mexp_avg\u001b[0m\u001b[0;34m,\u001b[0m \u001b[0mdenom\u001b[0m\u001b[0;34m)\u001b[0m\u001b[0;34m\u001b[0m\u001b[0;34m\u001b[0m\u001b[0m\n\u001b[0m\u001b[1;32m    108\u001b[0m \u001b[0;34m\u001b[0m\u001b[0m\n\u001b[1;32m    109\u001b[0m         \u001b[0;32mreturn\u001b[0m \u001b[0mloss\u001b[0m\u001b[0;34m\u001b[0m\u001b[0;34m\u001b[0m\u001b[0m\n",
      "\u001b[0;31mKeyboardInterrupt\u001b[0m: "
     ]
    }
   ],
   "source": [
    "for i in range(epochs):\n",
    "    for k in range(len(x_train)):\n",
    "        if k % 1000 == 1:\n",
    "            print(str(k/len(x_train)*100)+'% completed')\n",
    "            with torch.no_grad():\n",
    "                train_preds = BasicNN(torch.Tensor(x_train))\n",
    "                print('Neural Net Train MSE: '+str(sklearn.metrics.mean_squared_error(train_preds,y_train)))\n",
    "                val_preds = BasicNN(torch.Tensor(x_val))\n",
    "                print('Neural Net Val MSE: '+str(sklearn.metrics.mean_squared_error(val_preds,y_val)))\n",
    "        X = torch.Tensor(x_train[k])\n",
    "        y = torch.Tensor(y_train[k])\n",
    "        \n",
    "        optimizer.zero_grad()\n",
    "        \n",
    "        output = BasicNN(X)\n",
    "        loss = criterion(output, y)\n",
    "        loss.backward()\n",
    "        optimizer.step()\n",
    "        "
   ]
  },
  {
   "cell_type": "markdown",
   "metadata": {},
   "source": [
    "## PCA"
   ]
  },
  {
   "cell_type": "code",
   "execution_count": 260,
   "metadata": {},
   "outputs": [],
   "source": [
    "# total_size = len(p_n_g_duplicated)\n",
    "# train_size = 10000\n",
    "# val_size = 2000\n",
    "# test_size = 2000\n",
    "\n",
    "# tr = sorted(random.sample(list(range(total_size)),train_size))\n",
    "# val_n_te = set(range(total_size)).difference(set(tr))\n",
    "# val = sorted(list(random.sample(val_n_te,val_size)))\n",
    "# te = sorted(random.sample(val_n_te.difference(set(val)), test_size))"
   ]
  },
  {
   "cell_type": "code",
   "execution_count": 261,
   "metadata": {},
   "outputs": [],
   "source": [
    "# x_train = []\n",
    "# y_train = []\n",
    "# for i,row in p_n_g_duplicated.iloc[tr].iterrows():\n",
    "#     id1 = row['Strain1']\n",
    "#     id2 = row['Strain2']\n",
    "#     if 'Roseburia_hominis_A2_183' in [id1,id2] or id1 not in bac_rxn_ind or id2 not in bac_rxn_ind:\n",
    "#         continue\n",
    "    \n",
    "#     b1 = list(bac_rxn_ind[id1])\n",
    "#     b2 = list(bac_rxn_ind[id2])\n",
    "#     x_train.append(b1+b2)\n",
    "#     y_train.append(\n",
    "#         np.log([row['WesternDietAerobic_Strain1']/row['S6 WD Ae 1'],row['WesternDietAerobic_Strain2']/row['S6 WD Ae 2']]))"
   ]
  },
  {
   "cell_type": "code",
   "execution_count": 262,
   "metadata": {},
   "outputs": [],
   "source": [
    "# x_val = []\n",
    "# y_val = []\n",
    "# for i,row in p_n_g_duplicated.iloc[val].iterrows():\n",
    "#     id1 = row['Strain1']\n",
    "#     id2 = row['Strain2']\n",
    "#     if 'Roseburia_hominis_A2_183' in [id1,id2] or id1 not in bac_rxn_ind or id2 not in bac_rxn_ind:\n",
    "#         continue\n",
    "    \n",
    "#     b1 = list(bac_rxn_ind[id1])\n",
    "#     b2 = list(bac_rxn_ind[id2])\n",
    "#     x_val.append(b1+b2)\n",
    "#     y_val.append(\n",
    "#         np.log([row['WesternDietAerobic_Strain1']/row['S6 WD Ae 1'],row['WesternDietAerobic_Strain2']/row['S6 WD Ae 2']]))"
   ]
  },
  {
   "cell_type": "code",
   "execution_count": 263,
   "metadata": {},
   "outputs": [],
   "source": [
    "# x_test = []\n",
    "# y_test = []\n",
    "# for i,row in p_n_g_duplicated.iloc[te].iterrows():\n",
    "#     id1 = row['Strain1']\n",
    "#     id2 = row['Strain2']\n",
    "#     if 'Roseburia_hominis_A2_183' in [id1,id2] or id1 not in bac_rxn_ind or id2 not in bac_rxn_ind:\n",
    "#         continue\n",
    "    \n",
    "#     b1 = list(bac_rxn_ind[id1])\n",
    "#     b2 = list(bac_rxn_ind[id2])\n",
    "#     x_test.append(b1+b2)\n",
    "#     y_test.append(\n",
    "#         np.log([row['WesternDietAerobic_Strain1']/row['S6 WD Ae 1'],row['WesternDietAerobic_Strain2']/row['S6 WD Ae 2']]))"
   ]
  },
  {
   "cell_type": "code",
   "execution_count": 398,
   "metadata": {},
   "outputs": [],
   "source": [
    "pca = decomposition.PCA(128)"
   ]
  },
  {
   "cell_type": "code",
   "execution_count": 399,
   "metadata": {},
   "outputs": [
    {
     "data": {
      "text/plain": [
       "PCA(copy=True, iterated_power='auto', n_components=128, random_state=None,\n",
       "    svd_solver='auto', tol=0.0, whiten=False)"
      ]
     },
     "execution_count": 399,
     "metadata": {},
     "output_type": "execute_result"
    }
   ],
   "source": [
    "pca.fit(x_train)"
   ]
  },
  {
   "cell_type": "code",
   "execution_count": 400,
   "metadata": {},
   "outputs": [
    {
     "data": {
      "text/plain": [
       "0.8065390284517037"
      ]
     },
     "execution_count": 400,
     "metadata": {},
     "output_type": "execute_result"
    }
   ],
   "source": [
    "sum(pca.explained_variance_ratio_)"
   ]
  },
  {
   "cell_type": "code",
   "execution_count": 401,
   "metadata": {},
   "outputs": [],
   "source": [
    "x_train_pca = pca.transform(x_train)\n",
    "x_val_pca = pca.transform(x_val)\n",
    "x_test_pca = pca.transform(x_test)"
   ]
  },
  {
   "cell_type": "code",
   "execution_count": 402,
   "metadata": {},
   "outputs": [
    {
     "data": {
      "text/plain": [
       "(9880, 128)"
      ]
     },
     "execution_count": 402,
     "metadata": {},
     "output_type": "execute_result"
    }
   ],
   "source": [
    "x_train_pca.shape"
   ]
  },
  {
   "cell_type": "markdown",
   "metadata": {},
   "source": [
    "Linear Regression"
   ]
  },
  {
   "cell_type": "code",
   "execution_count": 403,
   "metadata": {},
   "outputs": [],
   "source": [
    "lr = linear_model.LinearRegression()"
   ]
  },
  {
   "cell_type": "code",
   "execution_count": 404,
   "metadata": {},
   "outputs": [
    {
     "data": {
      "text/plain": [
       "LinearRegression(copy_X=True, fit_intercept=True, n_jobs=None, normalize=False)"
      ]
     },
     "execution_count": 404,
     "metadata": {},
     "output_type": "execute_result"
    }
   ],
   "source": [
    "lr.fit(x_train_pca,y_train)"
   ]
  },
  {
   "cell_type": "code",
   "execution_count": 405,
   "metadata": {},
   "outputs": [
    {
     "name": "stdout",
     "output_type": "stream",
     "text": [
      "PCA Linear Regression Training MSE: 1.5337551793884767\n"
     ]
    }
   ],
   "source": [
    "print('PCA Linear Regression Training MSE: '+str(sklearn.metrics.mean_squared_error(lr.predict(x_train_pca),y_train)))"
   ]
  },
  {
   "cell_type": "code",
   "execution_count": 406,
   "metadata": {},
   "outputs": [
    {
     "name": "stdout",
     "output_type": "stream",
     "text": [
      "0.00021202285201654398\n"
     ]
    },
    {
     "data": {
      "text/plain": [
       "0.025115159817673836"
      ]
     },
     "execution_count": 406,
     "metadata": {},
     "output_type": "execute_result"
    }
   ],
   "source": [
    "print(np.mean(lr.coef_))\n",
    "np.std(lr.coef_)"
   ]
  },
  {
   "cell_type": "code",
   "execution_count": 407,
   "metadata": {},
   "outputs": [
    {
     "name": "stdout",
     "output_type": "stream",
     "text": [
      "PCA Linear Regression Test MSE: 1.7121068912916906\n"
     ]
    }
   ],
   "source": [
    "test_preds = lr.predict(x_test_pca)\n",
    "\n",
    "print('PCA Linear Regression Test MSE: '+str(sklearn.metrics.mean_squared_error(test_preds,y_test)))"
   ]
  },
  {
   "cell_type": "markdown",
   "metadata": {},
   "source": [
    "Ridge"
   ]
  },
  {
   "cell_type": "code",
   "execution_count": 408,
   "metadata": {},
   "outputs": [],
   "source": [
    "lr = linear_model.Ridge()"
   ]
  },
  {
   "cell_type": "code",
   "execution_count": 409,
   "metadata": {},
   "outputs": [
    {
     "data": {
      "text/plain": [
       "Ridge(alpha=1.0, copy_X=True, fit_intercept=True, max_iter=None,\n",
       "      normalize=False, random_state=None, solver='auto', tol=0.001)"
      ]
     },
     "execution_count": 409,
     "metadata": {},
     "output_type": "execute_result"
    }
   ],
   "source": [
    "lr.fit(x_train_pca,y_train)"
   ]
  },
  {
   "cell_type": "code",
   "execution_count": 410,
   "metadata": {},
   "outputs": [
    {
     "name": "stdout",
     "output_type": "stream",
     "text": [
      "Ridge Regression Training MSE: 1.533755179796823\n"
     ]
    }
   ],
   "source": [
    "print('Ridge Regression Training MSE: '+str(sklearn.metrics.mean_squared_error(lr.predict(x_train_pca),y_train)))"
   ]
  },
  {
   "cell_type": "code",
   "execution_count": 411,
   "metadata": {},
   "outputs": [
    {
     "name": "stdout",
     "output_type": "stream",
     "text": [
      "0.00021201883399874725\n"
     ]
    },
    {
     "data": {
      "text/plain": [
       "0.025113904771418206"
      ]
     },
     "execution_count": 411,
     "metadata": {},
     "output_type": "execute_result"
    }
   ],
   "source": [
    "print(np.mean(lr.coef_))\n",
    "np.std(lr.coef_)"
   ]
  },
  {
   "cell_type": "code",
   "execution_count": 412,
   "metadata": {},
   "outputs": [
    {
     "name": "stdout",
     "output_type": "stream",
     "text": [
      "Ridge Regression Test MSE: 1.7121054247584042\n"
     ]
    }
   ],
   "source": [
    "test_preds = lr.predict(x_test_pca)\n",
    "\n",
    "print('Ridge Regression Test MSE: '+str(sklearn.metrics.mean_squared_error(test_preds,y_test)))"
   ]
  },
  {
   "cell_type": "markdown",
   "metadata": {},
   "source": [
    "LASSO"
   ]
  },
  {
   "cell_type": "code",
   "execution_count": 413,
   "metadata": {},
   "outputs": [],
   "source": [
    "lr = linear_model.Lasso(alpha=0.01)"
   ]
  },
  {
   "cell_type": "code",
   "execution_count": 414,
   "metadata": {},
   "outputs": [
    {
     "data": {
      "text/plain": [
       "Lasso(alpha=0.01, copy_X=True, fit_intercept=True, max_iter=1000,\n",
       "      normalize=False, positive=False, precompute=False, random_state=None,\n",
       "      selection='cyclic', tol=0.0001, warm_start=False)"
      ]
     },
     "execution_count": 414,
     "metadata": {},
     "output_type": "execute_result"
    }
   ],
   "source": [
    "lr.fit(x_train_pca,y_train)"
   ]
  },
  {
   "cell_type": "code",
   "execution_count": 415,
   "metadata": {},
   "outputs": [
    {
     "name": "stdout",
     "output_type": "stream",
     "text": [
      "Lasso Regression Training MSE: 1.5389309819860326\n"
     ]
    }
   ],
   "source": [
    "print('Lasso Regression Training MSE: '+str(sklearn.metrics.mean_squared_error(lr.predict(x_train_pca),y_train)))"
   ]
  },
  {
   "cell_type": "code",
   "execution_count": 416,
   "metadata": {},
   "outputs": [
    {
     "name": "stdout",
     "output_type": "stream",
     "text": [
      "1.216202600009438e-05\n"
     ]
    },
    {
     "data": {
      "text/plain": [
       "0.02147347122374245"
      ]
     },
     "execution_count": 416,
     "metadata": {},
     "output_type": "execute_result"
    }
   ],
   "source": [
    "print(np.mean(lr.coef_))\n",
    "np.std(lr.coef_)"
   ]
  },
  {
   "cell_type": "code",
   "execution_count": 417,
   "metadata": {},
   "outputs": [
    {
     "name": "stdout",
     "output_type": "stream",
     "text": [
      "Lasso Regression Test MSE: 1.7133011611249698\n"
     ]
    }
   ],
   "source": [
    "test_preds = lr.predict(x_test_pca)\n",
    "\n",
    "print('Lasso Regression Test MSE: '+str(sklearn.metrics.mean_squared_error(test_preds,y_test)))"
   ]
  },
  {
   "cell_type": "markdown",
   "metadata": {},
   "source": [
    "Neural Net"
   ]
  },
  {
   "cell_type": "code",
   "execution_count": 432,
   "metadata": {},
   "outputs": [],
   "source": [
    "BasicNN = nn.Sequential(\n",
    "    nn.Linear(len(x_train_pca[0]),256),\n",
    "    nn.ReLU(),\n",
    "    nn.Linear(256,256),\n",
    "    nn.ReLU(),\n",
    "    nn.Linear(256,64),\n",
    "    nn.Dropout(0.1),\n",
    "    nn.ReLU(),\n",
    "    nn.Linear(64,2),\n",
    ")\n",
    "\n",
    "criterion = nn.MSELoss()\n",
    "optimizer = torch.optim.Adam(BasicNN.parameters(),lr=1e-4,weight_decay=1e-4)\n",
    "\n",
    "epochs = 5"
   ]
  },
  {
   "cell_type": "code",
   "execution_count": 433,
   "metadata": {},
   "outputs": [
    {
     "name": "stdout",
     "output_type": "stream",
     "text": [
      "Epoch 1\n",
      "Neural Net Train MSE: 1.3440783916417542\n",
      "Neural Net Val MSE: 1.4572615664724737\n",
      "Epoch 2\n",
      "Neural Net Train MSE: 1.118700315219181\n",
      "Neural Net Val MSE: 1.3439731189117126\n",
      "Epoch 3\n",
      "Neural Net Train MSE: 0.9725039066569579\n",
      "Neural Net Val MSE: 1.281354482158991\n",
      "Epoch 4\n",
      "Neural Net Train MSE: 0.8755679198557271\n",
      "Neural Net Val MSE: 1.2772647203469216\n",
      "Epoch 5\n",
      "Neural Net Train MSE: 0.7833297749868979\n",
      "Neural Net Val MSE: 1.2219557287346685\n"
     ]
    }
   ],
   "source": [
    "for i in range(epochs):\n",
    "    print('Epoch '+str(i+1))\n",
    "    for k in range(len(x_train_pca)):\n",
    "        X = torch.Tensor(x_train_pca[k])\n",
    "        y = torch.Tensor(y_train[k])\n",
    "        \n",
    "        optimizer.zero_grad()\n",
    "        \n",
    "        output = BasicNN(X)\n",
    "        loss = criterion(output, y)\n",
    "        loss.backward()\n",
    "        optimizer.step()\n",
    "    with torch.no_grad():\n",
    "        train_preds = BasicNN(torch.Tensor(x_train_pca))\n",
    "        print('Neural Net Train MSE: '+str(sklearn.metrics.mean_squared_error(train_preds,y_train)))\n",
    "        val_preds = BasicNN(torch.Tensor(x_val_pca))\n",
    "        print('Neural Net Val MSE: '+str(sklearn.metrics.mean_squared_error(val_preds,y_val)))\n",
    "        "
   ]
  },
  {
   "cell_type": "code",
   "execution_count": 434,
   "metadata": {},
   "outputs": [
    {
     "name": "stdout",
     "output_type": "stream",
     "text": [
      "Neural Net Test MSE: 1.3095248936213726\n"
     ]
    }
   ],
   "source": [
    "with torch.no_grad():\n",
    "    test_preds = BasicNN(torch.Tensor(x_test_pca))\n",
    "    print('Neural Net Test MSE: '+str(sklearn.metrics.mean_squared_error(test_preds,y_test)))"
   ]
  },
  {
   "cell_type": "markdown",
   "metadata": {},
   "source": [
    "## Embeddings"
   ]
  },
  {
   "cell_type": "code",
   "execution_count": 474,
   "metadata": {},
   "outputs": [],
   "source": [
    "reaction_dict_by_ind = pickle.load(open('Generated_Data/reaction_dict_by_ind.pickle','rb'))\n",
    "metabolite_dict_by_ind = pickle.load(open('Generated_Data/metabolite_dict_by_ind.pickle','rb'))"
   ]
  },
  {
   "cell_type": "code",
   "execution_count": 475,
   "metadata": {},
   "outputs": [
    {
     "data": {
      "text/plain": [
       "7890"
      ]
     },
     "execution_count": 475,
     "metadata": {},
     "output_type": "execute_result"
    }
   ],
   "source": [
    "len(reaction_dict_by_ind)+len(metabolite_dict_by_ind)"
   ]
  },
  {
   "cell_type": "code",
   "execution_count": 476,
   "metadata": {},
   "outputs": [],
   "source": [
    "all_bacs = pickle.load(open('Generated_Data/all_bacs.pickle','rb'))"
   ]
  },
  {
   "cell_type": "code",
   "execution_count": 477,
   "metadata": {},
   "outputs": [],
   "source": [
    "embeddings = {}\n",
    "\n",
    "with open('Generated_Data/embeddings.txt','r') as file:\n",
    "    for line in file:\n",
    "        node = int(line.split()[0])\n",
    "        vec = np.array(line.split()[1:]).astype(np.float64)\n",
    "        \n",
    "        if node in reaction_dict_by_ind:\n",
    "            embeddings[reaction_dict_by_ind[node]] = vec\n",
    "        else:\n",
    "            embeddings[metabolite_dict_by_ind[node]] = vec"
   ]
  },
  {
   "cell_type": "code",
   "execution_count": 478,
   "metadata": {},
   "outputs": [
    {
     "data": {
      "text/plain": [
       "7450"
      ]
     },
     "execution_count": 478,
     "metadata": {},
     "output_type": "execute_result"
    }
   ],
   "source": [
    "len(embeddings)"
   ]
  },
  {
   "cell_type": "code",
   "execution_count": 479,
   "metadata": {},
   "outputs": [],
   "source": [
    "bac_embeddings = {}"
   ]
  },
  {
   "cell_type": "code",
   "execution_count": 480,
   "metadata": {},
   "outputs": [],
   "source": [
    "for bac,data in all_bacs.items():\n",
    "    emb = np.zeros(128)\n",
    "    for rxn in data[0]:\n",
    "        if rxn in embeddings:\n",
    "            emb += embeddings[rxn]\n",
    "    for met in data[1]:\n",
    "        emb += embeddings[met]\n",
    "    bac_embeddings[bac] = emb"
   ]
  },
  {
   "cell_type": "code",
   "execution_count": 481,
   "metadata": {},
   "outputs": [],
   "source": [
    "x_train = []\n",
    "y_train = []\n",
    "for i,row in p_n_g_duplicated.iloc[tr].iterrows():\n",
    "    id1 = row['Strain1']\n",
    "    id2 = row['Strain2']\n",
    "    if 'Roseburia_hominis_A2_183' in [id1,id2] or id1 not in bac_rxn_ind or id2 not in bac_rxn_ind:\n",
    "        continue\n",
    "    \n",
    "    b1 = list(bac_embeddings[id1])\n",
    "    b2 = list(bac_embeddings[id2])\n",
    "    x_train.append(b1+b2)\n",
    "    y_train.append(\n",
    "        np.log([row['WesternDietAerobic_Strain1']/row['S6 WD Ae 1'],row['WesternDietAerobic_Strain2']/row['S6 WD Ae 2']]))"
   ]
  },
  {
   "cell_type": "code",
   "execution_count": 482,
   "metadata": {},
   "outputs": [],
   "source": [
    "x_val = []\n",
    "y_val = []\n",
    "for i,row in p_n_g_duplicated.iloc[val].iterrows():\n",
    "    id1 = row['Strain1']\n",
    "    id2 = row['Strain2']\n",
    "    if 'Roseburia_hominis_A2_183' in [id1,id2] or id1 not in bac_rxn_ind or id2 not in bac_rxn_ind:\n",
    "        continue\n",
    "    \n",
    "    b1 = list(bac_embeddings[id1])\n",
    "    b2 = list(bac_embeddings[id2])\n",
    "    x_val.append(b1+b2)\n",
    "    y_val.append(\n",
    "        np.log([row['WesternDietAerobic_Strain1']/row['S6 WD Ae 1'],row['WesternDietAerobic_Strain2']/row['S6 WD Ae 2']]))"
   ]
  },
  {
   "cell_type": "code",
   "execution_count": 483,
   "metadata": {},
   "outputs": [],
   "source": [
    "x_test = []\n",
    "y_test = []\n",
    "for i,row in p_n_g_duplicated.iloc[te].iterrows():\n",
    "    id1 = row['Strain1']\n",
    "    id2 = row['Strain2']\n",
    "    if 'Roseburia_hominis_A2_183' in [id1,id2] or id1 not in bac_rxn_ind or id2 not in bac_rxn_ind:\n",
    "        continue\n",
    "    \n",
    "    b1 = list(bac_embeddings[id1])\n",
    "    b2 = list(bac_embeddings[id2])\n",
    "    x_test.append(b1+b2)\n",
    "    y_test.append(\n",
    "        np.log([row['WesternDietAerobic_Strain1']/row['S6 WD Ae 1'],row['WesternDietAerobic_Strain2']/row['S6 WD Ae 2']]))"
   ]
  },
  {
   "cell_type": "markdown",
   "metadata": {},
   "source": [
    "Linear Regression"
   ]
  },
  {
   "cell_type": "code",
   "execution_count": 374,
   "metadata": {},
   "outputs": [],
   "source": [
    "lr = linear_model.LinearRegression()"
   ]
  },
  {
   "cell_type": "code",
   "execution_count": 375,
   "metadata": {},
   "outputs": [
    {
     "data": {
      "text/plain": [
       "LinearRegression(copy_X=True, fit_intercept=True, n_jobs=None, normalize=False)"
      ]
     },
     "execution_count": 375,
     "metadata": {},
     "output_type": "execute_result"
    }
   ],
   "source": [
    "lr.fit(x_train,y_train)"
   ]
  },
  {
   "cell_type": "code",
   "execution_count": 376,
   "metadata": {},
   "outputs": [
    {
     "name": "stdout",
     "output_type": "stream",
     "text": [
      "Linear Regression Training MSE: 1.5156886865690207\n"
     ]
    }
   ],
   "source": [
    "print('Linear Regression Training MSE: '+str(sklearn.metrics.mean_squared_error(lr.predict(x_train),y_train)))"
   ]
  },
  {
   "cell_type": "code",
   "execution_count": 377,
   "metadata": {},
   "outputs": [
    {
     "name": "stdout",
     "output_type": "stream",
     "text": [
      "-0.0011499251865768315\n"
     ]
    },
    {
     "data": {
      "text/plain": [
       "0.017157503168963525"
      ]
     },
     "execution_count": 377,
     "metadata": {},
     "output_type": "execute_result"
    }
   ],
   "source": [
    "print(np.mean(lr.coef_))\n",
    "np.std(lr.coef_)"
   ]
  },
  {
   "cell_type": "code",
   "execution_count": 378,
   "metadata": {},
   "outputs": [
    {
     "name": "stdout",
     "output_type": "stream",
     "text": [
      "Linear Regression Test MSE: 1.7288455518609402\n"
     ]
    }
   ],
   "source": [
    "test_preds = lr.predict(x_test)\n",
    "\n",
    "print('Linear Regression Test MSE: '+str(sklearn.metrics.mean_squared_error(test_preds,y_test)))"
   ]
  },
  {
   "cell_type": "markdown",
   "metadata": {},
   "source": [
    "Ridge Regression"
   ]
  },
  {
   "cell_type": "code",
   "execution_count": 379,
   "metadata": {},
   "outputs": [],
   "source": [
    "lr = linear_model.Ridge()"
   ]
  },
  {
   "cell_type": "code",
   "execution_count": 380,
   "metadata": {},
   "outputs": [
    {
     "data": {
      "text/plain": [
       "Ridge(alpha=1.0, copy_X=True, fit_intercept=True, max_iter=None,\n",
       "      normalize=False, random_state=None, solver='auto', tol=0.001)"
      ]
     },
     "execution_count": 380,
     "metadata": {},
     "output_type": "execute_result"
    }
   ],
   "source": [
    "lr.fit(x_train,y_train)"
   ]
  },
  {
   "cell_type": "code",
   "execution_count": 381,
   "metadata": {},
   "outputs": [
    {
     "name": "stdout",
     "output_type": "stream",
     "text": [
      "Ridge Regression Training MSE: 1.5156886879576301\n"
     ]
    }
   ],
   "source": [
    "print('Ridge Regression Training MSE: '+str(sklearn.metrics.mean_squared_error(lr.predict(x_train),y_train)))"
   ]
  },
  {
   "cell_type": "code",
   "execution_count": 382,
   "metadata": {},
   "outputs": [
    {
     "name": "stdout",
     "output_type": "stream",
     "text": [
      "-0.001149704231701151\n"
     ]
    },
    {
     "data": {
      "text/plain": [
       "0.01715439378307094"
      ]
     },
     "execution_count": 382,
     "metadata": {},
     "output_type": "execute_result"
    }
   ],
   "source": [
    "print(np.mean(lr.coef_))\n",
    "np.std(lr.coef_)"
   ]
  },
  {
   "cell_type": "code",
   "execution_count": 383,
   "metadata": {},
   "outputs": [
    {
     "name": "stdout",
     "output_type": "stream",
     "text": [
      "Ridge Regression Test MSE: 1.7288423934000057\n"
     ]
    }
   ],
   "source": [
    "test_preds = lr.predict(x_test)\n",
    "\n",
    "print('Ridge Regression Test MSE: '+str(sklearn.metrics.mean_squared_error(test_preds,y_test)))"
   ]
  },
  {
   "cell_type": "markdown",
   "metadata": {},
   "source": [
    "LASSO"
   ]
  },
  {
   "cell_type": "code",
   "execution_count": 456,
   "metadata": {},
   "outputs": [],
   "source": [
    "lr = linear_model.Lasso(alpha=1)"
   ]
  },
  {
   "cell_type": "code",
   "execution_count": 457,
   "metadata": {},
   "outputs": [
    {
     "data": {
      "text/plain": [
       "Lasso(alpha=1, copy_X=True, fit_intercept=True, max_iter=1000, normalize=False,\n",
       "      positive=False, precompute=False, random_state=None, selection='cyclic',\n",
       "      tol=0.0001, warm_start=False)"
      ]
     },
     "execution_count": 457,
     "metadata": {},
     "output_type": "execute_result"
    }
   ],
   "source": [
    "lr.fit(x_train,y_train)"
   ]
  },
  {
   "cell_type": "code",
   "execution_count": 458,
   "metadata": {},
   "outputs": [
    {
     "name": "stdout",
     "output_type": "stream",
     "text": [
      "Lasso Regression Training MSE: 1.7404289454036816\n"
     ]
    }
   ],
   "source": [
    "print('Lasso Regression Training MSE: '+str(sklearn.metrics.mean_squared_error(lr.predict(x_train),y_train)))"
   ]
  },
  {
   "cell_type": "code",
   "execution_count": 459,
   "metadata": {},
   "outputs": [
    {
     "name": "stdout",
     "output_type": "stream",
     "text": [
      "-5.992816156070117e-06\n"
     ]
    },
    {
     "data": {
      "text/plain": [
       "0.00033052494692253264"
      ]
     },
     "execution_count": 459,
     "metadata": {},
     "output_type": "execute_result"
    }
   ],
   "source": [
    "print(np.mean(lr.coef_))\n",
    "np.std(lr.coef_)"
   ]
  },
  {
   "cell_type": "code",
   "execution_count": 460,
   "metadata": {},
   "outputs": [
    {
     "name": "stdout",
     "output_type": "stream",
     "text": [
      "Lasso Regression Test MSE: 1.9125206896549978\n"
     ]
    }
   ],
   "source": [
    "test_preds = lr.predict(x_test)\n",
    "\n",
    "print('Lasso Regression Test MSE: '+str(sklearn.metrics.mean_squared_error(test_preds,y_test)))"
   ]
  },
  {
   "cell_type": "code",
   "execution_count": 462,
   "metadata": {},
   "outputs": [
    {
     "data": {
      "text/plain": [
       "([array([  0.,   7.,  46., 133., 219., 265., 184.,  94.,  33.,  10.]),\n",
       "  array([  1.,   9.,  63., 186., 252., 199., 160.,  90.,  25.,   6.])],\n",
       " array([-0.63635116, -0.53918053, -0.44200991, -0.34483928, -0.24766865,\n",
       "        -0.15049803, -0.0533274 ,  0.04384323,  0.14101385,  0.23818448,\n",
       "         0.33535511]),\n",
       " <a list of 2 Lists of Patches objects>)"
      ]
     },
     "execution_count": 462,
     "metadata": {},
     "output_type": "execute_result"
    },
    {
     "data": {
      "image/png": "[encoded data removed]",
      "text/plain": [
       "<Figure size 432x288 with 1 Axes>"
      ]
     },
     "metadata": {
      "needs_background": "light"
     },
     "output_type": "display_data"
    }
   ],
   "source": [
    "plt.hist(test_preds)"
   ]
  },
  {
   "cell_type": "code",
   "execution_count": 466,
   "metadata": {},
   "outputs": [
    {
     "data": {
      "text/plain": [
       "2"
      ]
     },
     "execution_count": 466,
     "metadata": {},
     "output_type": "execute_result"
    }
   ],
   "source": [
    "len(y_test[0])"
   ]
  },
  {
   "cell_type": "code",
   "execution_count": 469,
   "metadata": {},
   "outputs": [
    {
     "data": {
      "image/png": "[encoded data removed]",
      "text/plain": [
       "<Figure size 432x288 with 1 Axes>"
      ]
     },
     "metadata": {
      "needs_background": "light"
     },
     "output_type": "display_data"
    }
   ],
   "source": [
    "plt.hist(y_test,bins=5)\n",
    "plt.show()"
   ]
  },
  {
   "cell_type": "code",
   "execution_count": 484,
   "metadata": {},
   "outputs": [
    {
     "data": {
      "text/plain": [
       "1.9951304548855202"
      ]
     },
     "execution_count": 484,
     "metadata": {},
     "output_type": "execute_result"
    }
   ],
   "source": [
    "sklearn.metrics.mean_squared_error(np.zeros((len(y_test),2)),y_test)"
   ]
  },
  {
   "cell_type": "markdown",
   "metadata": {},
   "source": [
    "Neural Net"
   ]
  },
  {
   "cell_type": "code",
   "execution_count": 502,
   "metadata": {},
   "outputs": [],
   "source": [
    "BasicNN = nn.Sequential(\n",
    "    nn.Linear(len(x_train[0]),256),\n",
    "    nn.ReLU(),\n",
    "    nn.Linear(256,64),\n",
    "#     nn.ReLU(),\n",
    "#     nn.Linear(256,64),\n",
    "#     nn.Dropout(0.1),\n",
    "    nn.ReLU(),\n",
    "    nn.Linear(64,2)\n",
    ")\n",
    "\n",
    "criterion = nn.MSELoss()\n",
    "optimizer = torch.optim.Adam(BasicNN.parameters(),lr=1e-4,weight_decay=1e-5)\n",
    "\n",
    "epochs = 5"
   ]
  },
  {
   "cell_type": "code",
   "execution_count": 503,
   "metadata": {},
   "outputs": [
    {
     "name": "stdout",
     "output_type": "stream",
     "text": [
      "Epoch 1\n",
      "Neural Net Train MSE: 2.9504990180421196\n",
      "Neural Net Val MSE: 3.0859418303100634\n",
      "Epoch 2\n",
      "Neural Net Train MSE: 1.8138591005260518\n",
      "Neural Net Val MSE: 1.7815092875683702\n",
      "Epoch 3\n",
      "Neural Net Train MSE: 1.7993132507936989\n",
      "Neural Net Val MSE: 1.7686998373586373\n",
      "Epoch 4\n",
      "Neural Net Train MSE: 1.7988332949066916\n",
      "Neural Net Val MSE: 1.7694736915122342\n",
      "Epoch 5\n",
      "Neural Net Train MSE: 1.8039965291237938\n",
      "Neural Net Val MSE: 1.7730353851285328\n"
     ]
    }
   ],
   "source": [
    "for i in range(epochs):\n",
    "    print('Epoch '+str(i+1))\n",
    "    for k in range(len(x_train)):\n",
    "        X = torch.Tensor(x_train[k])\n",
    "        y = torch.Tensor(y_train[k])\n",
    "        \n",
    "        optimizer.zero_grad()\n",
    "        \n",
    "        output = BasicNN(X)\n",
    "        loss = criterion(output, y)\n",
    "        loss.backward()\n",
    "        optimizer.step()\n",
    "    with torch.no_grad():\n",
    "        train_preds = BasicNN(torch.Tensor(x_train))\n",
    "        print('Neural Net Train MSE: '+str(sklearn.metrics.mean_squared_error(train_preds,y_train)))\n",
    "        val_preds = BasicNN(torch.Tensor(x_val))\n",
    "        print('Neural Net Val MSE: '+str(sklearn.metrics.mean_squared_error(val_preds,y_val)))\n",
    "        "
   ]
  },
  {
   "cell_type": "code",
   "execution_count": 504,
   "metadata": {},
   "outputs": [
    {
     "name": "stdout",
     "output_type": "stream",
     "text": [
      "Neural Net Test MSE: 1.9827804160481342\n"
     ]
    }
   ],
   "source": [
    "with torch.no_grad():\n",
    "    test_preds = BasicNN(torch.Tensor(x_test))\n",
    "    print('Neural Net Test MSE: '+str(sklearn.metrics.mean_squared_error(test_preds,y_test)))"
   ]
  },
  {
   "cell_type": "code",
   "execution_count": null,
   "metadata": {},
   "outputs": [],
   "source": []
  }
 ],
 "metadata": {
  "kernelspec": {
   "display_name": "Python 3",
   "language": "python",
   "name": "python3"
  },
  "language_info": {
   "codemirror_mode": {
    "name": "ipython",
    "version": 3
   },
   "file_extension": ".py",
   "mimetype": "text/x-python",
   "name": "python",
   "nbconvert_exporter": "python",
   "pygments_lexer": "ipython3",
   "version": "3.6.9"
  }
 },
 "nbformat": 4,
 "nbformat_minor": 4
}
